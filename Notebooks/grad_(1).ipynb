{
  "nbformat": 4,
  "nbformat_minor": 0,
  "metadata": {
    "colab": {
      "provenance": [],
      "gpuType": "T4"
    },
    "kernelspec": {
      "name": "python3",
      "display_name": "Python 3"
    },
    "language_info": {
      "name": "python"
    },
    "accelerator": "GPU"
  },
  "cells": [
    {
      "cell_type": "code",
      "execution_count": 1,
      "metadata": {
        "colab": {
          "base_uri": "https://localhost:8080/"
        },
        "id": "GkGfbVy-yXcS",
        "outputId": "316f2a01-8cc8-4ffc-b0b3-61616f63fc25"
      },
      "outputs": [
        {
          "output_type": "stream",
          "name": "stdout",
          "text": [
            "Requirement already satisfied: emojis in /usr/local/lib/python3.11/dist-packages (0.7.0)\n"
          ]
        }
      ],
      "source": [
        "pip install emojis"
      ]
    },
    {
      "cell_type": "code",
      "source": [
        "pip install tashaphyne"
      ],
      "metadata": {
        "colab": {
          "base_uri": "https://localhost:8080/"
        },
        "id": "SiArS3zFyi76",
        "outputId": "2c247b66-84bc-4731-856b-25fa04ce9c21"
      },
      "execution_count": 2,
      "outputs": [
        {
          "output_type": "stream",
          "name": "stdout",
          "text": [
            "Requirement already satisfied: tashaphyne in /usr/local/lib/python3.11/dist-packages (0.3.6)\n",
            "Requirement already satisfied: pyarabic in /usr/local/lib/python3.11/dist-packages (from tashaphyne) (0.6.15)\n",
            "Requirement already satisfied: six>=1.14.0 in /usr/local/lib/python3.11/dist-packages (from pyarabic->tashaphyne) (1.17.0)\n"
          ]
        }
      ]
    },
    {
      "cell_type": "code",
      "source": [
        "import pandas as pd\n",
        "import sys"
      ],
      "metadata": {
        "id": "XyjfhPnvyk8K"
      },
      "execution_count": 3,
      "outputs": []
    },
    {
      "cell_type": "code",
      "source": [
        "from google.colab import userdata\n",
        "token = userdata.get('HF_TOKEN')"
      ],
      "metadata": {
        "id": "fOMlSHX2zCwP"
      },
      "execution_count": 4,
      "outputs": []
    },
    {
      "cell_type": "code",
      "source": [
        "from google.colab import drive\n",
        "drive.mount('/content/drive')"
      ],
      "metadata": {
        "id": "y2XRTpqq24ey",
        "colab": {
          "base_uri": "https://localhost:8080/"
        },
        "outputId": "a65cc589-9267-4d7c-d94d-71e8787e7977"
      },
      "execution_count": 5,
      "outputs": [
        {
          "output_type": "stream",
          "name": "stdout",
          "text": [
            "Drive already mounted at /content/drive; to attempt to forcibly remount, call drive.mount(\"/content/drive\", force_remount=True).\n"
          ]
        }
      ]
    },
    {
      "cell_type": "code",
      "source": [
        "sys.path.append('/content/drive/MyDrive')"
      ],
      "metadata": {
        "id": "E_53u_xG3CQp"
      },
      "execution_count": 6,
      "outputs": []
    },
    {
      "cell_type": "code",
      "source": [
        "splits = {'train': 'data/train-00000-of-00001.parquet', 'validation': 'data/validation-00000-of-00001.parquet', 'test': 'data/test-00000-of-00001.parquet'}\n",
        "df = pd.read_parquet(\"hf://datasets/Abdelrahman-Rezk/Arabic_Dialect_Identification/\" + splits[\"train\"])"
      ],
      "metadata": {
        "id": "vCFEn5g2yyDR"
      },
      "execution_count": null,
      "outputs": []
    },
    {
      "cell_type": "code",
      "source": [
        "df.to_csv(\"dataset.csv\", index=False, encoding='utf8')"
      ],
      "metadata": {
        "id": "weEYdCUNy8S9"
      },
      "execution_count": null,
      "outputs": []
    },
    {
      "cell_type": "code",
      "source": [
        "validation = pd.read_parquet(\"hf://datasets/Abdelrahman-Rezk/Arabic_Dialect_Identification/\" + splits[\"validation\"])\n",
        "validation"
      ],
      "metadata": {
        "colab": {
          "base_uri": "https://localhost:8080/",
          "height": 423
        },
        "id": "WwbBhlhKNJ54",
        "outputId": "2a10856f-b513-4fc0-df8b-d914722292ab"
      },
      "execution_count": null,
      "outputs": [
        {
          "output_type": "execute_result",
          "data": {
            "text/plain": [
              "                       id  label  \\\n",
              "0      910595516496515200      3   \n",
              "1      847921262752129024      6   \n",
              "2     1138977052055560192     10   \n",
              "3      978901748604645376     15   \n",
              "4      838068478179430400      3   \n",
              "...                   ...    ...   \n",
              "9159  1154583936523284480      3   \n",
              "9160  1139550319241773056      3   \n",
              "9161  1004448814609129600     11   \n",
              "9162  1122824694229553152     13   \n",
              "9163  1155877024000630784      2   \n",
              "\n",
              "                                                   text  \n",
              "0     @A_E_92 استاذ عبدالعزيز  صارله الموضوع سنه يعن...  \n",
              "1     #كذبة_نيسان كل عام والكذاب بألف خير 🙈😂 https:/...  \n",
              "2                     @basitooo5 طمطم عاااتى طبق جبنة 🙄  \n",
              "3     @alsyasiyeh @alsyaaf يمكن متلاحقين السوق بيشتر...  \n",
              "4     @A_A_AlTammar عيل المدرب حمار حشاك .. مالها حل...  \n",
              "...                                                 ...  \n",
              "9159  @mohdfheed الله يشافيه ويعافيه ويكتب اجرك يبو ...  \n",
              "9160  @Naifalnemah تعال شوفني احسن من الفلم الهندي \\...  \n",
              "9161  النااس اللي بتبني جديد \\nقبل ما تعملوا تمديدات...  \n",
              "9162         @allyaa24 كثروا مثل الذبان في موسم الصيف🙂💔  \n",
              "9163  العمل اللي قام به منصور بن مشعل حتى\\nالان مايخ...  \n",
              "\n",
              "[9164 rows x 3 columns]"
            ],
            "text/html": [
              "\n",
              "  <div id=\"df-ad02cb33-d038-4cca-a5f0-c90abd2bbefd\" class=\"colab-df-container\">\n",
              "    <div>\n",
              "<style scoped>\n",
              "    .dataframe tbody tr th:only-of-type {\n",
              "        vertical-align: middle;\n",
              "    }\n",
              "\n",
              "    .dataframe tbody tr th {\n",
              "        vertical-align: top;\n",
              "    }\n",
              "\n",
              "    .dataframe thead th {\n",
              "        text-align: right;\n",
              "    }\n",
              "</style>\n",
              "<table border=\"1\" class=\"dataframe\">\n",
              "  <thead>\n",
              "    <tr style=\"text-align: right;\">\n",
              "      <th></th>\n",
              "      <th>id</th>\n",
              "      <th>label</th>\n",
              "      <th>text</th>\n",
              "    </tr>\n",
              "  </thead>\n",
              "  <tbody>\n",
              "    <tr>\n",
              "      <th>0</th>\n",
              "      <td>910595516496515200</td>\n",
              "      <td>3</td>\n",
              "      <td>@A_E_92 استاذ عبدالعزيز  صارله الموضوع سنه يعن...</td>\n",
              "    </tr>\n",
              "    <tr>\n",
              "      <th>1</th>\n",
              "      <td>847921262752129024</td>\n",
              "      <td>6</td>\n",
              "      <td>#كذبة_نيسان كل عام والكذاب بألف خير 🙈😂 https:/...</td>\n",
              "    </tr>\n",
              "    <tr>\n",
              "      <th>2</th>\n",
              "      <td>1138977052055560192</td>\n",
              "      <td>10</td>\n",
              "      <td>@basitooo5 طمطم عاااتى طبق جبنة 🙄</td>\n",
              "    </tr>\n",
              "    <tr>\n",
              "      <th>3</th>\n",
              "      <td>978901748604645376</td>\n",
              "      <td>15</td>\n",
              "      <td>@alsyasiyeh @alsyaaf يمكن متلاحقين السوق بيشتر...</td>\n",
              "    </tr>\n",
              "    <tr>\n",
              "      <th>4</th>\n",
              "      <td>838068478179430400</td>\n",
              "      <td>3</td>\n",
              "      <td>@A_A_AlTammar عيل المدرب حمار حشاك .. مالها حل...</td>\n",
              "    </tr>\n",
              "    <tr>\n",
              "      <th>...</th>\n",
              "      <td>...</td>\n",
              "      <td>...</td>\n",
              "      <td>...</td>\n",
              "    </tr>\n",
              "    <tr>\n",
              "      <th>9159</th>\n",
              "      <td>1154583936523284480</td>\n",
              "      <td>3</td>\n",
              "      <td>@mohdfheed الله يشافيه ويعافيه ويكتب اجرك يبو ...</td>\n",
              "    </tr>\n",
              "    <tr>\n",
              "      <th>9160</th>\n",
              "      <td>1139550319241773056</td>\n",
              "      <td>3</td>\n",
              "      <td>@Naifalnemah تعال شوفني احسن من الفلم الهندي \\...</td>\n",
              "    </tr>\n",
              "    <tr>\n",
              "      <th>9161</th>\n",
              "      <td>1004448814609129600</td>\n",
              "      <td>11</td>\n",
              "      <td>النااس اللي بتبني جديد \\nقبل ما تعملوا تمديدات...</td>\n",
              "    </tr>\n",
              "    <tr>\n",
              "      <th>9162</th>\n",
              "      <td>1122824694229553152</td>\n",
              "      <td>13</td>\n",
              "      <td>@allyaa24 كثروا مثل الذبان في موسم الصيف🙂💔</td>\n",
              "    </tr>\n",
              "    <tr>\n",
              "      <th>9163</th>\n",
              "      <td>1155877024000630784</td>\n",
              "      <td>2</td>\n",
              "      <td>العمل اللي قام به منصور بن مشعل حتى\\nالان مايخ...</td>\n",
              "    </tr>\n",
              "  </tbody>\n",
              "</table>\n",
              "<p>9164 rows × 3 columns</p>\n",
              "</div>\n",
              "    <div class=\"colab-df-buttons\">\n",
              "\n",
              "  <div class=\"colab-df-container\">\n",
              "    <button class=\"colab-df-convert\" onclick=\"convertToInteractive('df-ad02cb33-d038-4cca-a5f0-c90abd2bbefd')\"\n",
              "            title=\"Convert this dataframe to an interactive table.\"\n",
              "            style=\"display:none;\">\n",
              "\n",
              "  <svg xmlns=\"http://www.w3.org/2000/svg\" height=\"24px\" viewBox=\"0 -960 960 960\">\n",
              "    <path d=\"M120-120v-720h720v720H120Zm60-500h600v-160H180v160Zm220 220h160v-160H400v160Zm0 220h160v-160H400v160ZM180-400h160v-160H180v160Zm440 0h160v-160H620v160ZM180-180h160v-160H180v160Zm440 0h160v-160H620v160Z\"/>\n",
              "  </svg>\n",
              "    </button>\n",
              "\n",
              "  <style>\n",
              "    .colab-df-container {\n",
              "      display:flex;\n",
              "      gap: 12px;\n",
              "    }\n",
              "\n",
              "    .colab-df-convert {\n",
              "      background-color: #E8F0FE;\n",
              "      border: none;\n",
              "      border-radius: 50%;\n",
              "      cursor: pointer;\n",
              "      display: none;\n",
              "      fill: #1967D2;\n",
              "      height: 32px;\n",
              "      padding: 0 0 0 0;\n",
              "      width: 32px;\n",
              "    }\n",
              "\n",
              "    .colab-df-convert:hover {\n",
              "      background-color: #E2EBFA;\n",
              "      box-shadow: 0px 1px 2px rgba(60, 64, 67, 0.3), 0px 1px 3px 1px rgba(60, 64, 67, 0.15);\n",
              "      fill: #174EA6;\n",
              "    }\n",
              "\n",
              "    .colab-df-buttons div {\n",
              "      margin-bottom: 4px;\n",
              "    }\n",
              "\n",
              "    [theme=dark] .colab-df-convert {\n",
              "      background-color: #3B4455;\n",
              "      fill: #D2E3FC;\n",
              "    }\n",
              "\n",
              "    [theme=dark] .colab-df-convert:hover {\n",
              "      background-color: #434B5C;\n",
              "      box-shadow: 0px 1px 3px 1px rgba(0, 0, 0, 0.15);\n",
              "      filter: drop-shadow(0px 1px 2px rgba(0, 0, 0, 0.3));\n",
              "      fill: #FFFFFF;\n",
              "    }\n",
              "  </style>\n",
              "\n",
              "    <script>\n",
              "      const buttonEl =\n",
              "        document.querySelector('#df-ad02cb33-d038-4cca-a5f0-c90abd2bbefd button.colab-df-convert');\n",
              "      buttonEl.style.display =\n",
              "        google.colab.kernel.accessAllowed ? 'block' : 'none';\n",
              "\n",
              "      async function convertToInteractive(key) {\n",
              "        const element = document.querySelector('#df-ad02cb33-d038-4cca-a5f0-c90abd2bbefd');\n",
              "        const dataTable =\n",
              "          await google.colab.kernel.invokeFunction('convertToInteractive',\n",
              "                                                    [key], {});\n",
              "        if (!dataTable) return;\n",
              "\n",
              "        const docLinkHtml = 'Like what you see? Visit the ' +\n",
              "          '<a target=\"_blank\" href=https://colab.research.google.com/notebooks/data_table.ipynb>data table notebook</a>'\n",
              "          + ' to learn more about interactive tables.';\n",
              "        element.innerHTML = '';\n",
              "        dataTable['output_type'] = 'display_data';\n",
              "        await google.colab.output.renderOutput(dataTable, element);\n",
              "        const docLink = document.createElement('div');\n",
              "        docLink.innerHTML = docLinkHtml;\n",
              "        element.appendChild(docLink);\n",
              "      }\n",
              "    </script>\n",
              "  </div>\n",
              "\n",
              "\n",
              "<div id=\"df-1f9bab9e-5525-4eaf-b60d-96639e83f448\">\n",
              "  <button class=\"colab-df-quickchart\" onclick=\"quickchart('df-1f9bab9e-5525-4eaf-b60d-96639e83f448')\"\n",
              "            title=\"Suggest charts\"\n",
              "            style=\"display:none;\">\n",
              "\n",
              "<svg xmlns=\"http://www.w3.org/2000/svg\" height=\"24px\"viewBox=\"0 0 24 24\"\n",
              "     width=\"24px\">\n",
              "    <g>\n",
              "        <path d=\"M19 3H5c-1.1 0-2 .9-2 2v14c0 1.1.9 2 2 2h14c1.1 0 2-.9 2-2V5c0-1.1-.9-2-2-2zM9 17H7v-7h2v7zm4 0h-2V7h2v10zm4 0h-2v-4h2v4z\"/>\n",
              "    </g>\n",
              "</svg>\n",
              "  </button>\n",
              "\n",
              "<style>\n",
              "  .colab-df-quickchart {\n",
              "      --bg-color: #E8F0FE;\n",
              "      --fill-color: #1967D2;\n",
              "      --hover-bg-color: #E2EBFA;\n",
              "      --hover-fill-color: #174EA6;\n",
              "      --disabled-fill-color: #AAA;\n",
              "      --disabled-bg-color: #DDD;\n",
              "  }\n",
              "\n",
              "  [theme=dark] .colab-df-quickchart {\n",
              "      --bg-color: #3B4455;\n",
              "      --fill-color: #D2E3FC;\n",
              "      --hover-bg-color: #434B5C;\n",
              "      --hover-fill-color: #FFFFFF;\n",
              "      --disabled-bg-color: #3B4455;\n",
              "      --disabled-fill-color: #666;\n",
              "  }\n",
              "\n",
              "  .colab-df-quickchart {\n",
              "    background-color: var(--bg-color);\n",
              "    border: none;\n",
              "    border-radius: 50%;\n",
              "    cursor: pointer;\n",
              "    display: none;\n",
              "    fill: var(--fill-color);\n",
              "    height: 32px;\n",
              "    padding: 0;\n",
              "    width: 32px;\n",
              "  }\n",
              "\n",
              "  .colab-df-quickchart:hover {\n",
              "    background-color: var(--hover-bg-color);\n",
              "    box-shadow: 0 1px 2px rgba(60, 64, 67, 0.3), 0 1px 3px 1px rgba(60, 64, 67, 0.15);\n",
              "    fill: var(--button-hover-fill-color);\n",
              "  }\n",
              "\n",
              "  .colab-df-quickchart-complete:disabled,\n",
              "  .colab-df-quickchart-complete:disabled:hover {\n",
              "    background-color: var(--disabled-bg-color);\n",
              "    fill: var(--disabled-fill-color);\n",
              "    box-shadow: none;\n",
              "  }\n",
              "\n",
              "  .colab-df-spinner {\n",
              "    border: 2px solid var(--fill-color);\n",
              "    border-color: transparent;\n",
              "    border-bottom-color: var(--fill-color);\n",
              "    animation:\n",
              "      spin 1s steps(1) infinite;\n",
              "  }\n",
              "\n",
              "  @keyframes spin {\n",
              "    0% {\n",
              "      border-color: transparent;\n",
              "      border-bottom-color: var(--fill-color);\n",
              "      border-left-color: var(--fill-color);\n",
              "    }\n",
              "    20% {\n",
              "      border-color: transparent;\n",
              "      border-left-color: var(--fill-color);\n",
              "      border-top-color: var(--fill-color);\n",
              "    }\n",
              "    30% {\n",
              "      border-color: transparent;\n",
              "      border-left-color: var(--fill-color);\n",
              "      border-top-color: var(--fill-color);\n",
              "      border-right-color: var(--fill-color);\n",
              "    }\n",
              "    40% {\n",
              "      border-color: transparent;\n",
              "      border-right-color: var(--fill-color);\n",
              "      border-top-color: var(--fill-color);\n",
              "    }\n",
              "    60% {\n",
              "      border-color: transparent;\n",
              "      border-right-color: var(--fill-color);\n",
              "    }\n",
              "    80% {\n",
              "      border-color: transparent;\n",
              "      border-right-color: var(--fill-color);\n",
              "      border-bottom-color: var(--fill-color);\n",
              "    }\n",
              "    90% {\n",
              "      border-color: transparent;\n",
              "      border-bottom-color: var(--fill-color);\n",
              "    }\n",
              "  }\n",
              "</style>\n",
              "\n",
              "  <script>\n",
              "    async function quickchart(key) {\n",
              "      const quickchartButtonEl =\n",
              "        document.querySelector('#' + key + ' button');\n",
              "      quickchartButtonEl.disabled = true;  // To prevent multiple clicks.\n",
              "      quickchartButtonEl.classList.add('colab-df-spinner');\n",
              "      try {\n",
              "        const charts = await google.colab.kernel.invokeFunction(\n",
              "            'suggestCharts', [key], {});\n",
              "      } catch (error) {\n",
              "        console.error('Error during call to suggestCharts:', error);\n",
              "      }\n",
              "      quickchartButtonEl.classList.remove('colab-df-spinner');\n",
              "      quickchartButtonEl.classList.add('colab-df-quickchart-complete');\n",
              "    }\n",
              "    (() => {\n",
              "      let quickchartButtonEl =\n",
              "        document.querySelector('#df-1f9bab9e-5525-4eaf-b60d-96639e83f448 button');\n",
              "      quickchartButtonEl.style.display =\n",
              "        google.colab.kernel.accessAllowed ? 'block' : 'none';\n",
              "    })();\n",
              "  </script>\n",
              "</div>\n",
              "\n",
              "  <div id=\"id_c8d0853e-1239-44b5-8528-c690402a5219\">\n",
              "    <style>\n",
              "      .colab-df-generate {\n",
              "        background-color: #E8F0FE;\n",
              "        border: none;\n",
              "        border-radius: 50%;\n",
              "        cursor: pointer;\n",
              "        display: none;\n",
              "        fill: #1967D2;\n",
              "        height: 32px;\n",
              "        padding: 0 0 0 0;\n",
              "        width: 32px;\n",
              "      }\n",
              "\n",
              "      .colab-df-generate:hover {\n",
              "        background-color: #E2EBFA;\n",
              "        box-shadow: 0px 1px 2px rgba(60, 64, 67, 0.3), 0px 1px 3px 1px rgba(60, 64, 67, 0.15);\n",
              "        fill: #174EA6;\n",
              "      }\n",
              "\n",
              "      [theme=dark] .colab-df-generate {\n",
              "        background-color: #3B4455;\n",
              "        fill: #D2E3FC;\n",
              "      }\n",
              "\n",
              "      [theme=dark] .colab-df-generate:hover {\n",
              "        background-color: #434B5C;\n",
              "        box-shadow: 0px 1px 3px 1px rgba(0, 0, 0, 0.15);\n",
              "        filter: drop-shadow(0px 1px 2px rgba(0, 0, 0, 0.3));\n",
              "        fill: #FFFFFF;\n",
              "      }\n",
              "    </style>\n",
              "    <button class=\"colab-df-generate\" onclick=\"generateWithVariable('validation')\"\n",
              "            title=\"Generate code using this dataframe.\"\n",
              "            style=\"display:none;\">\n",
              "\n",
              "  <svg xmlns=\"http://www.w3.org/2000/svg\" height=\"24px\"viewBox=\"0 0 24 24\"\n",
              "       width=\"24px\">\n",
              "    <path d=\"M7,19H8.4L18.45,9,17,7.55,7,17.6ZM5,21V16.75L18.45,3.32a2,2,0,0,1,2.83,0l1.4,1.43a1.91,1.91,0,0,1,.58,1.4,1.91,1.91,0,0,1-.58,1.4L9.25,21ZM18.45,9,17,7.55Zm-12,3A5.31,5.31,0,0,0,4.9,8.1,5.31,5.31,0,0,0,1,6.5,5.31,5.31,0,0,0,4.9,4.9,5.31,5.31,0,0,0,6.5,1,5.31,5.31,0,0,0,8.1,4.9,5.31,5.31,0,0,0,12,6.5,5.46,5.46,0,0,0,6.5,12Z\"/>\n",
              "  </svg>\n",
              "    </button>\n",
              "    <script>\n",
              "      (() => {\n",
              "      const buttonEl =\n",
              "        document.querySelector('#id_c8d0853e-1239-44b5-8528-c690402a5219 button.colab-df-generate');\n",
              "      buttonEl.style.display =\n",
              "        google.colab.kernel.accessAllowed ? 'block' : 'none';\n",
              "\n",
              "      buttonEl.onclick = () => {\n",
              "        google.colab.notebook.generateWithVariable('validation');\n",
              "      }\n",
              "      })();\n",
              "    </script>\n",
              "  </div>\n",
              "\n",
              "    </div>\n",
              "  </div>\n"
            ],
            "application/vnd.google.colaboratory.intrinsic+json": {
              "type": "dataframe",
              "variable_name": "validation",
              "summary": "{\n  \"name\": \"validation\",\n  \"rows\": 9164,\n  \"fields\": [\n    {\n      \"column\": \"id\",\n      \"properties\": {\n        \"dtype\": \"number\",\n        \"std\": 199844061191049056,\n        \"min\": 52352406893244416,\n        \"max\": 1189647303499534336,\n        \"num_unique_values\": 9164,\n        \"samples\": [\n          933693647048138752,\n          967510877535637632,\n          1129852659668803584\n        ],\n        \"semantic_type\": \"\",\n        \"description\": \"\"\n      }\n    },\n    {\n      \"column\": \"label\",\n      \"properties\": {\n        \"dtype\": \"number\",\n        \"std\": 5,\n        \"min\": 0,\n        \"max\": 17,\n        \"num_unique_values\": 18,\n        \"samples\": [\n          3,\n          6,\n          7\n        ],\n        \"semantic_type\": \"\",\n        \"description\": \"\"\n      }\n    },\n    {\n      \"column\": \"text\",\n      \"properties\": {\n        \"dtype\": \"string\",\n        \"num_unique_values\": 9164,\n        \"samples\": [\n          \"\\u0648\\u0627\\u0636\\u062d \\u0648\\u0627\\u0636\\u062d \\u0648\\u0636\\u0648\\u062d \\u0627\\u0644\\u0634\\u0645\\u0633 https://t.co/hRufsjIBzd\",\n          \"@pvrpFZVtHM7apfl \\u0644\\u0627 \\u0642\\u0644\\u062a \\u0644\\u0643 \\u063a\\u062f\\u0627\\u0643 \\u0628\\u0643\\u0631\\u0647 \\u0639\\u0644\\u064a \\u0627\\u0644\\u0639\\u0634\\u0627 \\u0648\\u0634 \\u062f\\u062e\\u0644\\u0646\\u064a \\u062f\\u0628\\u0631 \\u0631\\u0648\\u062d\\u0643 \\ud83e\\udd23\\ud83d\\ude02\\ud83d\\ude02\",\n          \"@Mi_Amore_Qtr @OKAZ_online \\u0627\\u062d\\u0646\\u0627 \\u0627\\u0644\\u0644\\u064a \\u0645\\u0627\\u0646\\u0628\\u064a \\u0646\\u0631\\u0648\\u062d \\u0645\\u0643\\u0647 \\u062f\\u0627\\u0645 \\u0627\\u0644\\u0642\\u0644\\u0648\\u0628 \\u0645\\u0644\\u064a\\u0627\\u0646\\u0647 \\u062d\\u0642\\u062f \\u0648\\u0643\\u0631\\u0627\\u0647\\u064a\\u0647 \\u0648\\u0646\\u062e\\u0627\\u0641 \\u0639\\u0644\\u0649 \\u0646\\u0641\\u0633\\u0646\\u0627 \\u0645\\u0646 \\u063a\\u062f\\u0631\\u0643\\u0645 \\u0648\\u0644\\u0627 \\u0648\\u0644\\u064a \\u0627\\u0644\\u0627\\u0645\\u0631 \\u0645\\u0627 \\u064a\\u0645\\u0646\\u0639 \\u0645\\u0648\\u0627\\u0637\\u0646\\u064a\\u0646\\u0647 \\u0645\\u0646 \\u0627\\u0644\\u062d\\u062c \\u0648\\u0644\\u0627 \\u0627\\u0644\\u0639\\u0645\\u0631 \\u0627\\u0646\\u062a\\u0648 \\u0627\\u0644\\u0644\\u064a \\u0637\\u0631\\u062f\\u0648\\u0646\\u0627 \\u0645\\u0646 \\u0628\\u064a\\u062a \\u0627\\u0644\\u0644\\u0647 \\u0648\\u0641\\u064a \\u0630\\u0645\\u062a\\u0643\\u0645 \\u0627\\u0644\\u0648\\u0633\\u064a\\u0639\\u0647. \\u0633\\u0643\\u062a\\u0648 \\u0643\\u0644\\u0627\\u0628\\u0643\\u0645 \\u0639\\u0646 \\u0627\\u0644\\u0646\\u0628\\u062d \\u0639\\u0646 \\u0642\\u0637\\u0631 \\u0648\\u0641\\u0643\\u0648\\u0646\\u0627 \\u0645\\u0646\\u0643\\u0645 \\u0627\\u0645\\u062d\\u0642 \\u062c\\u064a\\u0631\\u0627\\u0646\"\n        ],\n        \"semantic_type\": \"\",\n        \"description\": \"\"\n      }\n    }\n  ]\n}"
            }
          },
          "metadata": {},
          "execution_count": 9
        }
      ]
    },
    {
      "cell_type": "code",
      "source": [
        "test = pd.read_parquet(\"hf://datasets/Abdelrahman-Rezk/Arabic_Dialect_Identification/\" + splits[\"test\"])\n",
        "test"
      ],
      "metadata": {
        "colab": {
          "base_uri": "https://localhost:8080/",
          "height": 423
        },
        "id": "r9haGoqNNJ9w",
        "outputId": "d52b44cf-2854-4e26-dc28-b9a2b1de09c5"
      },
      "execution_count": null,
      "outputs": [
        {
          "output_type": "execute_result",
          "data": {
            "text/plain": [
              "                       id  label  \\\n",
              "0     1159906099585327104     10   \n",
              "1      950123809608171648     14   \n",
              "2     1091295506960142336      2   \n",
              "3     1179845110718181376     14   \n",
              "4     1011983655546302464     10   \n",
              "...                   ...    ...   \n",
              "8976  1141240000253759616      5   \n",
              "8977   504915500737232896      1   \n",
              "8978  1063264861029891968      0   \n",
              "8979   898279689558667264     10   \n",
              "8980  1162463106989207552      3   \n",
              "\n",
              "                                                   text  \n",
              "0     ايه الخيبة و الهرتلة قدام الجون دول؟؟ 🤪😲\\nالعي...  \n",
              "1            @FIA_WIS تذكرت ما اسمي عائشة انا اسمي خولة  \n",
              "2     @showqiy @3nood_mh لا والله نروح نشجع قطر و نف...  \n",
              "3                    @espoir_dz1 يسلملي قلبك ولد مدينتي  \n",
              "4     ملخص مؤتمر أبو سبوبة، قصدي أبو ريدة....احنا عم...  \n",
              "...                                                 ...  \n",
              "8976                 وجدّي كان يطحن للحي\\n\\nقمح وسهريات  \n",
              "8977  الشي البضحك ويفقع المرارة انو كل دين سياسة منه...  \n",
              "8978  @alkalbani2007 مجرد تمني....وهذا متاح ومسموح.\\...  \n",
              "8979  نسي يقول صوت رنه ال messenger 😂 https://t.co/R...  \n",
              "8980  @6wee6er @aaaaaaa48517879 @m3aly_alwazera هههه...  \n",
              "\n",
              "[8981 rows x 3 columns]"
            ],
            "text/html": [
              "\n",
              "  <div id=\"df-5d06e03a-5ca7-48d7-8fa9-592bbb2597d5\" class=\"colab-df-container\">\n",
              "    <div>\n",
              "<style scoped>\n",
              "    .dataframe tbody tr th:only-of-type {\n",
              "        vertical-align: middle;\n",
              "    }\n",
              "\n",
              "    .dataframe tbody tr th {\n",
              "        vertical-align: top;\n",
              "    }\n",
              "\n",
              "    .dataframe thead th {\n",
              "        text-align: right;\n",
              "    }\n",
              "</style>\n",
              "<table border=\"1\" class=\"dataframe\">\n",
              "  <thead>\n",
              "    <tr style=\"text-align: right;\">\n",
              "      <th></th>\n",
              "      <th>id</th>\n",
              "      <th>label</th>\n",
              "      <th>text</th>\n",
              "    </tr>\n",
              "  </thead>\n",
              "  <tbody>\n",
              "    <tr>\n",
              "      <th>0</th>\n",
              "      <td>1159906099585327104</td>\n",
              "      <td>10</td>\n",
              "      <td>ايه الخيبة و الهرتلة قدام الجون دول؟؟ 🤪😲\\nالعي...</td>\n",
              "    </tr>\n",
              "    <tr>\n",
              "      <th>1</th>\n",
              "      <td>950123809608171648</td>\n",
              "      <td>14</td>\n",
              "      <td>@FIA_WIS تذكرت ما اسمي عائشة انا اسمي خولة</td>\n",
              "    </tr>\n",
              "    <tr>\n",
              "      <th>2</th>\n",
              "      <td>1091295506960142336</td>\n",
              "      <td>2</td>\n",
              "      <td>@showqiy @3nood_mh لا والله نروح نشجع قطر و نف...</td>\n",
              "    </tr>\n",
              "    <tr>\n",
              "      <th>3</th>\n",
              "      <td>1179845110718181376</td>\n",
              "      <td>14</td>\n",
              "      <td>@espoir_dz1 يسلملي قلبك ولد مدينتي</td>\n",
              "    </tr>\n",
              "    <tr>\n",
              "      <th>4</th>\n",
              "      <td>1011983655546302464</td>\n",
              "      <td>10</td>\n",
              "      <td>ملخص مؤتمر أبو سبوبة، قصدي أبو ريدة....احنا عم...</td>\n",
              "    </tr>\n",
              "    <tr>\n",
              "      <th>...</th>\n",
              "      <td>...</td>\n",
              "      <td>...</td>\n",
              "      <td>...</td>\n",
              "    </tr>\n",
              "    <tr>\n",
              "      <th>8976</th>\n",
              "      <td>1141240000253759616</td>\n",
              "      <td>5</td>\n",
              "      <td>وجدّي كان يطحن للحي\\n\\nقمح وسهريات</td>\n",
              "    </tr>\n",
              "    <tr>\n",
              "      <th>8977</th>\n",
              "      <td>504915500737232896</td>\n",
              "      <td>1</td>\n",
              "      <td>الشي البضحك ويفقع المرارة انو كل دين سياسة منه...</td>\n",
              "    </tr>\n",
              "    <tr>\n",
              "      <th>8978</th>\n",
              "      <td>1063264861029891968</td>\n",
              "      <td>0</td>\n",
              "      <td>@alkalbani2007 مجرد تمني....وهذا متاح ومسموح.\\...</td>\n",
              "    </tr>\n",
              "    <tr>\n",
              "      <th>8979</th>\n",
              "      <td>898279689558667264</td>\n",
              "      <td>10</td>\n",
              "      <td>نسي يقول صوت رنه ال messenger 😂 https://t.co/R...</td>\n",
              "    </tr>\n",
              "    <tr>\n",
              "      <th>8980</th>\n",
              "      <td>1162463106989207552</td>\n",
              "      <td>3</td>\n",
              "      <td>@6wee6er @aaaaaaa48517879 @m3aly_alwazera هههه...</td>\n",
              "    </tr>\n",
              "  </tbody>\n",
              "</table>\n",
              "<p>8981 rows × 3 columns</p>\n",
              "</div>\n",
              "    <div class=\"colab-df-buttons\">\n",
              "\n",
              "  <div class=\"colab-df-container\">\n",
              "    <button class=\"colab-df-convert\" onclick=\"convertToInteractive('df-5d06e03a-5ca7-48d7-8fa9-592bbb2597d5')\"\n",
              "            title=\"Convert this dataframe to an interactive table.\"\n",
              "            style=\"display:none;\">\n",
              "\n",
              "  <svg xmlns=\"http://www.w3.org/2000/svg\" height=\"24px\" viewBox=\"0 -960 960 960\">\n",
              "    <path d=\"M120-120v-720h720v720H120Zm60-500h600v-160H180v160Zm220 220h160v-160H400v160Zm0 220h160v-160H400v160ZM180-400h160v-160H180v160Zm440 0h160v-160H620v160ZM180-180h160v-160H180v160Zm440 0h160v-160H620v160Z\"/>\n",
              "  </svg>\n",
              "    </button>\n",
              "\n",
              "  <style>\n",
              "    .colab-df-container {\n",
              "      display:flex;\n",
              "      gap: 12px;\n",
              "    }\n",
              "\n",
              "    .colab-df-convert {\n",
              "      background-color: #E8F0FE;\n",
              "      border: none;\n",
              "      border-radius: 50%;\n",
              "      cursor: pointer;\n",
              "      display: none;\n",
              "      fill: #1967D2;\n",
              "      height: 32px;\n",
              "      padding: 0 0 0 0;\n",
              "      width: 32px;\n",
              "    }\n",
              "\n",
              "    .colab-df-convert:hover {\n",
              "      background-color: #E2EBFA;\n",
              "      box-shadow: 0px 1px 2px rgba(60, 64, 67, 0.3), 0px 1px 3px 1px rgba(60, 64, 67, 0.15);\n",
              "      fill: #174EA6;\n",
              "    }\n",
              "\n",
              "    .colab-df-buttons div {\n",
              "      margin-bottom: 4px;\n",
              "    }\n",
              "\n",
              "    [theme=dark] .colab-df-convert {\n",
              "      background-color: #3B4455;\n",
              "      fill: #D2E3FC;\n",
              "    }\n",
              "\n",
              "    [theme=dark] .colab-df-convert:hover {\n",
              "      background-color: #434B5C;\n",
              "      box-shadow: 0px 1px 3px 1px rgba(0, 0, 0, 0.15);\n",
              "      filter: drop-shadow(0px 1px 2px rgba(0, 0, 0, 0.3));\n",
              "      fill: #FFFFFF;\n",
              "    }\n",
              "  </style>\n",
              "\n",
              "    <script>\n",
              "      const buttonEl =\n",
              "        document.querySelector('#df-5d06e03a-5ca7-48d7-8fa9-592bbb2597d5 button.colab-df-convert');\n",
              "      buttonEl.style.display =\n",
              "        google.colab.kernel.accessAllowed ? 'block' : 'none';\n",
              "\n",
              "      async function convertToInteractive(key) {\n",
              "        const element = document.querySelector('#df-5d06e03a-5ca7-48d7-8fa9-592bbb2597d5');\n",
              "        const dataTable =\n",
              "          await google.colab.kernel.invokeFunction('convertToInteractive',\n",
              "                                                    [key], {});\n",
              "        if (!dataTable) return;\n",
              "\n",
              "        const docLinkHtml = 'Like what you see? Visit the ' +\n",
              "          '<a target=\"_blank\" href=https://colab.research.google.com/notebooks/data_table.ipynb>data table notebook</a>'\n",
              "          + ' to learn more about interactive tables.';\n",
              "        element.innerHTML = '';\n",
              "        dataTable['output_type'] = 'display_data';\n",
              "        await google.colab.output.renderOutput(dataTable, element);\n",
              "        const docLink = document.createElement('div');\n",
              "        docLink.innerHTML = docLinkHtml;\n",
              "        element.appendChild(docLink);\n",
              "      }\n",
              "    </script>\n",
              "  </div>\n",
              "\n",
              "\n",
              "<div id=\"df-16a06348-4be4-412f-9bd0-fb0ef55c3bb3\">\n",
              "  <button class=\"colab-df-quickchart\" onclick=\"quickchart('df-16a06348-4be4-412f-9bd0-fb0ef55c3bb3')\"\n",
              "            title=\"Suggest charts\"\n",
              "            style=\"display:none;\">\n",
              "\n",
              "<svg xmlns=\"http://www.w3.org/2000/svg\" height=\"24px\"viewBox=\"0 0 24 24\"\n",
              "     width=\"24px\">\n",
              "    <g>\n",
              "        <path d=\"M19 3H5c-1.1 0-2 .9-2 2v14c0 1.1.9 2 2 2h14c1.1 0 2-.9 2-2V5c0-1.1-.9-2-2-2zM9 17H7v-7h2v7zm4 0h-2V7h2v10zm4 0h-2v-4h2v4z\"/>\n",
              "    </g>\n",
              "</svg>\n",
              "  </button>\n",
              "\n",
              "<style>\n",
              "  .colab-df-quickchart {\n",
              "      --bg-color: #E8F0FE;\n",
              "      --fill-color: #1967D2;\n",
              "      --hover-bg-color: #E2EBFA;\n",
              "      --hover-fill-color: #174EA6;\n",
              "      --disabled-fill-color: #AAA;\n",
              "      --disabled-bg-color: #DDD;\n",
              "  }\n",
              "\n",
              "  [theme=dark] .colab-df-quickchart {\n",
              "      --bg-color: #3B4455;\n",
              "      --fill-color: #D2E3FC;\n",
              "      --hover-bg-color: #434B5C;\n",
              "      --hover-fill-color: #FFFFFF;\n",
              "      --disabled-bg-color: #3B4455;\n",
              "      --disabled-fill-color: #666;\n",
              "  }\n",
              "\n",
              "  .colab-df-quickchart {\n",
              "    background-color: var(--bg-color);\n",
              "    border: none;\n",
              "    border-radius: 50%;\n",
              "    cursor: pointer;\n",
              "    display: none;\n",
              "    fill: var(--fill-color);\n",
              "    height: 32px;\n",
              "    padding: 0;\n",
              "    width: 32px;\n",
              "  }\n",
              "\n",
              "  .colab-df-quickchart:hover {\n",
              "    background-color: var(--hover-bg-color);\n",
              "    box-shadow: 0 1px 2px rgba(60, 64, 67, 0.3), 0 1px 3px 1px rgba(60, 64, 67, 0.15);\n",
              "    fill: var(--button-hover-fill-color);\n",
              "  }\n",
              "\n",
              "  .colab-df-quickchart-complete:disabled,\n",
              "  .colab-df-quickchart-complete:disabled:hover {\n",
              "    background-color: var(--disabled-bg-color);\n",
              "    fill: var(--disabled-fill-color);\n",
              "    box-shadow: none;\n",
              "  }\n",
              "\n",
              "  .colab-df-spinner {\n",
              "    border: 2px solid var(--fill-color);\n",
              "    border-color: transparent;\n",
              "    border-bottom-color: var(--fill-color);\n",
              "    animation:\n",
              "      spin 1s steps(1) infinite;\n",
              "  }\n",
              "\n",
              "  @keyframes spin {\n",
              "    0% {\n",
              "      border-color: transparent;\n",
              "      border-bottom-color: var(--fill-color);\n",
              "      border-left-color: var(--fill-color);\n",
              "    }\n",
              "    20% {\n",
              "      border-color: transparent;\n",
              "      border-left-color: var(--fill-color);\n",
              "      border-top-color: var(--fill-color);\n",
              "    }\n",
              "    30% {\n",
              "      border-color: transparent;\n",
              "      border-left-color: var(--fill-color);\n",
              "      border-top-color: var(--fill-color);\n",
              "      border-right-color: var(--fill-color);\n",
              "    }\n",
              "    40% {\n",
              "      border-color: transparent;\n",
              "      border-right-color: var(--fill-color);\n",
              "      border-top-color: var(--fill-color);\n",
              "    }\n",
              "    60% {\n",
              "      border-color: transparent;\n",
              "      border-right-color: var(--fill-color);\n",
              "    }\n",
              "    80% {\n",
              "      border-color: transparent;\n",
              "      border-right-color: var(--fill-color);\n",
              "      border-bottom-color: var(--fill-color);\n",
              "    }\n",
              "    90% {\n",
              "      border-color: transparent;\n",
              "      border-bottom-color: var(--fill-color);\n",
              "    }\n",
              "  }\n",
              "</style>\n",
              "\n",
              "  <script>\n",
              "    async function quickchart(key) {\n",
              "      const quickchartButtonEl =\n",
              "        document.querySelector('#' + key + ' button');\n",
              "      quickchartButtonEl.disabled = true;  // To prevent multiple clicks.\n",
              "      quickchartButtonEl.classList.add('colab-df-spinner');\n",
              "      try {\n",
              "        const charts = await google.colab.kernel.invokeFunction(\n",
              "            'suggestCharts', [key], {});\n",
              "      } catch (error) {\n",
              "        console.error('Error during call to suggestCharts:', error);\n",
              "      }\n",
              "      quickchartButtonEl.classList.remove('colab-df-spinner');\n",
              "      quickchartButtonEl.classList.add('colab-df-quickchart-complete');\n",
              "    }\n",
              "    (() => {\n",
              "      let quickchartButtonEl =\n",
              "        document.querySelector('#df-16a06348-4be4-412f-9bd0-fb0ef55c3bb3 button');\n",
              "      quickchartButtonEl.style.display =\n",
              "        google.colab.kernel.accessAllowed ? 'block' : 'none';\n",
              "    })();\n",
              "  </script>\n",
              "</div>\n",
              "\n",
              "  <div id=\"id_c055e9eb-090a-4641-ab5c-d4d547bb7e3f\">\n",
              "    <style>\n",
              "      .colab-df-generate {\n",
              "        background-color: #E8F0FE;\n",
              "        border: none;\n",
              "        border-radius: 50%;\n",
              "        cursor: pointer;\n",
              "        display: none;\n",
              "        fill: #1967D2;\n",
              "        height: 32px;\n",
              "        padding: 0 0 0 0;\n",
              "        width: 32px;\n",
              "      }\n",
              "\n",
              "      .colab-df-generate:hover {\n",
              "        background-color: #E2EBFA;\n",
              "        box-shadow: 0px 1px 2px rgba(60, 64, 67, 0.3), 0px 1px 3px 1px rgba(60, 64, 67, 0.15);\n",
              "        fill: #174EA6;\n",
              "      }\n",
              "\n",
              "      [theme=dark] .colab-df-generate {\n",
              "        background-color: #3B4455;\n",
              "        fill: #D2E3FC;\n",
              "      }\n",
              "\n",
              "      [theme=dark] .colab-df-generate:hover {\n",
              "        background-color: #434B5C;\n",
              "        box-shadow: 0px 1px 3px 1px rgba(0, 0, 0, 0.15);\n",
              "        filter: drop-shadow(0px 1px 2px rgba(0, 0, 0, 0.3));\n",
              "        fill: #FFFFFF;\n",
              "      }\n",
              "    </style>\n",
              "    <button class=\"colab-df-generate\" onclick=\"generateWithVariable('test')\"\n",
              "            title=\"Generate code using this dataframe.\"\n",
              "            style=\"display:none;\">\n",
              "\n",
              "  <svg xmlns=\"http://www.w3.org/2000/svg\" height=\"24px\"viewBox=\"0 0 24 24\"\n",
              "       width=\"24px\">\n",
              "    <path d=\"M7,19H8.4L18.45,9,17,7.55,7,17.6ZM5,21V16.75L18.45,3.32a2,2,0,0,1,2.83,0l1.4,1.43a1.91,1.91,0,0,1,.58,1.4,1.91,1.91,0,0,1-.58,1.4L9.25,21ZM18.45,9,17,7.55Zm-12,3A5.31,5.31,0,0,0,4.9,8.1,5.31,5.31,0,0,0,1,6.5,5.31,5.31,0,0,0,4.9,4.9,5.31,5.31,0,0,0,6.5,1,5.31,5.31,0,0,0,8.1,4.9,5.31,5.31,0,0,0,12,6.5,5.46,5.46,0,0,0,6.5,12Z\"/>\n",
              "  </svg>\n",
              "    </button>\n",
              "    <script>\n",
              "      (() => {\n",
              "      const buttonEl =\n",
              "        document.querySelector('#id_c055e9eb-090a-4641-ab5c-d4d547bb7e3f button.colab-df-generate');\n",
              "      buttonEl.style.display =\n",
              "        google.colab.kernel.accessAllowed ? 'block' : 'none';\n",
              "\n",
              "      buttonEl.onclick = () => {\n",
              "        google.colab.notebook.generateWithVariable('test');\n",
              "      }\n",
              "      })();\n",
              "    </script>\n",
              "  </div>\n",
              "\n",
              "    </div>\n",
              "  </div>\n"
            ],
            "application/vnd.google.colaboratory.intrinsic+json": {
              "type": "dataframe",
              "variable_name": "test",
              "summary": "{\n  \"name\": \"test\",\n  \"rows\": 8981,\n  \"fields\": [\n    {\n      \"column\": \"id\",\n      \"properties\": {\n        \"dtype\": \"number\",\n        \"std\": 197512289829115168,\n        \"min\": 67135583415320576,\n        \"max\": 1189636680116035584,\n        \"num_unique_values\": 8981,\n        \"samples\": [\n          906564161919954944,\n          287987134026108928,\n          1145256436387241984\n        ],\n        \"semantic_type\": \"\",\n        \"description\": \"\"\n      }\n    },\n    {\n      \"column\": \"label\",\n      \"properties\": {\n        \"dtype\": \"number\",\n        \"std\": 5,\n        \"min\": 0,\n        \"max\": 17,\n        \"num_unique_values\": 18,\n        \"samples\": [\n          10,\n          14,\n          15\n        ],\n        \"semantic_type\": \"\",\n        \"description\": \"\"\n      }\n    },\n    {\n      \"column\": \"text\",\n      \"properties\": {\n        \"dtype\": \"string\",\n        \"num_unique_values\": 8981,\n        \"samples\": [\n          \"@MeDo_ElSaygh @almass_bassel \\u0645\\u062d\\u0645\\u062f \\u0627\\u0647\\u064a \\u0643\\u0644\\u0647\\u0627 \\u0645\\u0648\\u0633\\u064a\\u0642\\u0649 \\u0648\\u062e\\u0644\\u0627\\u0635 \\ud83d\\ude02\\ud83d\\ude02\\ud83d\\ude02\",\n          \"\\u0627\\u0644\\u062f\\u0645\\u0639\\u062a\\u064a\\u0646 \\u0627\\u0644\\u0644\\u064a \\u0628\\u0642\\u0648 \\u0645\\u064e\\u2018\\u0640\\u064e\\u0646\\u064d\\u0651\\u0643 \\u0633\\u0627\\u0644\\u0648\\u0627 \\n\\u064a\\u0648\\u0645 \\u0627\\u062a\\u0635\\u0627\\u0644\\u0643 \\u062f\\u0648\\u0646\\u0647 \\u0627\\u0644\\u0646\\u0627\\u0633 \\u0642\\u0627\\u0645\\u062a \\n\\n\\u0645\\u0627\\u0643\\u0630\\u0651\\u0628\\u0648\\u0627 ( \\u0639\\u0630\\u0627\\u0644\\u0646\\u0627 ) \\u064a\\u0648\\u0645 ... \\u0642\\u0627\\u0644\\u0648\\u0627 :\\n\\u0645\\u0627\\u0641\\u064a\\u0647 \\u0639\\u0627\\u0634\\u0642 \\u0647\\u0627\\u062a\\u0641\\u0647 \\u0648\\u0636\\u0639 \\u0635\\u0627\\u0645\\u062a\",\n          \"\\u0642\\u0644\\u062a\\u0647\\u0627 \\u0627\\u0644\\u0633\\u0646\\u0629 \\u0627\\u0644\\u0645\\u0627\\u0636\\u064a\\u0629 \\n\\u0627\\u0644\\u0644\\u064a \\u0646\\u062f\\u0645\\u0627\\u0646 \\u0639\\u0644\\u064a \\u0663\\u0660 \\u064a\\u0648\\u0646\\u064a\\u0648 \\u064a\\u0646\\u0632\\u0644 \\u0639\\u0644\\u064a \\u0627\\u0644\\u062c\\u0632\\u064a\\u0631\\u0647 \\u0627\\u0644\\u0644\\u064a \\u0628\\u064a\\u0646 \\u0623\\u064a \\u0634\\u0627\\u0631\\u0639\\u064a\\u0646 \\u0648\\u064a\\u0644\\u0628\\u0633 \\u0627\\u0633\\u0648\\u062f \\u0648\\u064a\\u0636\\u0631\\u0628 \\u0646\\u0641\\u0633\\u0647 \\u0628\\u0627\\u0644\\u062c\\u0646\\u0627\\u0632\\u064a\\u0631. \\n\\u0623\\u0642\\u0644 \\u0648\\u0627\\u062c\\u0628 \\u0639\\u0644\\u064a \\u0627\\u0644\\u0644\\u064a \\u0627\\u062d\\u0646\\u0627 \\u0641\\u064a\\u0647 \\u062f\\u0644\\u0648\\u0642\\u062a.\"\n        ],\n        \"semantic_type\": \"\",\n        \"description\": \"\"\n      }\n    }\n  ]\n}"
            }
          },
          "metadata": {},
          "execution_count": 10
        }
      ]
    },
    {
      "cell_type": "code",
      "source": [
        "validation.to_csv(\"validation.csv\", index=False, encoding=\"utf8\")\n",
        "test.to_csv(\"test.csv\", index=False, encoding=\"utf8\")"
      ],
      "metadata": {
        "id": "r27FoWt76vAr"
      },
      "execution_count": null,
      "outputs": []
    },
    {
      "cell_type": "code",
      "source": [],
      "metadata": {
        "id": "dpRLPBpGYjXZ"
      },
      "execution_count": null,
      "outputs": []
    },
    {
      "cell_type": "code",
      "source": [
        "from preprocessing_data import *\n",
        "\n",
        "id_col = \"id\"\n",
        "dialects_col = \"label\"\n",
        "text_c = \"text\"\n",
        "original_file = \"/content/dataset.csv\"\n",
        "test_file = \"/content/test.csv\"\n",
        "validation_file = \"/content/validation.csv\"\n",
        "saved_file = \"dataset_preprocessed.csv\"\n",
        "_ = arabic_preprocess_pipline(original_file, saved_file, id_col, text_c, dialects_col, labels_encoded=False ,using_lemma=False)"
      ],
      "metadata": {
        "id": "o5qWnCBC8bf8",
        "colab": {
          "base_uri": "https://localhost:8080/"
        },
        "outputId": "aee3a69c-7c23-43d2-cf2f-80974aa0f78a"
      },
      "execution_count": null,
      "outputs": [
        {
          "output_type": "stream",
          "name": "stdout",
          "text": [
            "Number of instances in the file are:  440052\n",
            "Some samples of text after preprocessed it:\n",
            "['حسابشخصي اتمني صراحه و خصوصا #طال_عمره بينا وبينه قصه عشق قديمه 😍 ', 'حسابشخصي حسابشخصي طبعا عرفته من اللي بشعار الليڤر', 'حسابشخصي حسابشخصي حسابشخصي حسابشخصي هيه هيه م يتغير شي . . كلهم ع بعضهم متولفين 😪 . . بيجيك مدير فرع قريب منك عشان يتساعد معك عشان بس يثبت جدارته لوظيفيه فكرسيه ويحاول يتعاون معك لكن فالنهايه بترجع ع نفس المشكله والدائره تدور لا بيقدموا ولا بياخروا 😪 . . وحدي غاسله ايدي منهم', 'كلب شو كنتوا بتتوقعوا منه ! ؟ محمود عباس لا يمثل الا نفسه . ', '#عزام 🔊 احنا ابو الولد وام الولد']\n",
            "==================================================\n",
            "Number of instances in our new file are:  440052\n",
            "==================================================\n",
            "Our Arabic preprocess pipeline is work without any error.\n"
          ]
        }
      ]
    },
    {
      "cell_type": "code",
      "source": [
        "original_file = validation_file\n",
        "saved_file2 = \"valdataset_preprocessed.csv\"\n",
        "_ = arabic_preprocess_pipline(original_file, saved_file2, id_col, text_c, dialects_col, labels_encoded=False, using_lemma=False)\n",
        "val_dataset = pd.read_csv(saved_file2)"
      ],
      "metadata": {
        "colab": {
          "base_uri": "https://localhost:8080/"
        },
        "id": "AFF37aOICgyR",
        "outputId": "e621f3e3-72cf-4b5d-80f6-2fe40f4987f7"
      },
      "execution_count": null,
      "outputs": [
        {
          "output_type": "stream",
          "name": "stdout",
          "text": [
            "Number of instances in the file are:  9164\n",
            "Some samples of text after preprocessed it:\n",
            "['حسابشخصي استاذ عبدالعزيز صارله الموضوع سنه يعني متي اراجع التامينات', '#كذبه_نيسان كل عام والكذاب بالف خير 😂 رابطويب', 'حسابشخصي طمطم عااتي طبق جبنه 🙄 ', 'حسابشخصي حسابشخصي يمكن متلاحقين السوق بيشترون سمك للغداء 😋 ', 'حسابشخصي عيل المدرب حمار حشاك . . مالها حل ثالث . هم بعد صح كلامك الاحتمال الثاني واارد جداا 🤔 ']\n",
            "==================================================\n",
            "Number of instances in our new file are:  9164\n",
            "==================================================\n",
            "Our Arabic preprocess pipeline is work without any error.\n"
          ]
        }
      ]
    },
    {
      "cell_type": "code",
      "source": [
        "new_dataset = pd.read_csv(saved_file)\n",
        "new_dataset"
      ],
      "metadata": {
        "colab": {
          "base_uri": "https://localhost:8080/",
          "height": 423
        },
        "id": "okeVZeJUKBfJ",
        "outputId": "47e6cc29-d27c-4e03-e3a0-7be8edca8a5e"
      },
      "execution_count": null,
      "outputs": [
        {
          "output_type": "execute_result",
          "data": {
            "text/plain": [
              "                         id dialect  dialect_l_encoded  \\\n",
              "0       1046024946705735552      MA                  9   \n",
              "1       1140189387508134016      YE                 17   \n",
              "2       1051416181855440768      AE                  0   \n",
              "3        781770259422412800      PL                 11   \n",
              "4        968140551366340608      PL                 11   \n",
              "...                     ...     ...                ...   \n",
              "440047  1024415002810306560      KW                  6   \n",
              "440048   825422832138067968      EG                  3   \n",
              "440049  1137082760726810624      DZ                  2   \n",
              "440050  1075003837436575616      PL                 11   \n",
              "440051  1072373084320120832      IQ                  4   \n",
              "\n",
              "                                                     text  \n",
              "0       حسابشخصي اتمني صراحه و خصوصا #طال_عمره بينا وب...  \n",
              "1       حسابشخصي حسابشخصي طبعا عرفته من اللي بشعار الليڤر  \n",
              "2       حسابشخصي حسابشخصي حسابشخصي حسابشخصي هيه هيه م ...  \n",
              "3       كلب شو كنتوا بتتوقعوا منه ! ؟ محمود عباس لا يم...  \n",
              "4                        #عزام 🔊 احنا ابو الولد وام الولد  \n",
              "...                                                   ...  \n",
              "440047  انت مش مجبور تجامل حدا وتعطيه اكبر من حجمه ؛ ع...  \n",
              "440048  رتم الفريق بدون جيرو سرييع ، مع جيرو يصير بطيي...  \n",
              "440049   🇸🇦 ksa 👆 🏻 وغير هالبلد قلبي ما عشق ولا راح يع...  \n",
              "440050  حسابشخصي حسابشخصي خلص اذا هييك بطلت ادعي واعطي...  \n",
              "440051  حسابشخصي حسابشخصي خيولي هالدلوع مره زين عشره ز...  \n",
              "\n",
              "[440052 rows x 4 columns]"
            ],
            "text/html": [
              "\n",
              "  <div id=\"df-b21d2e9f-33f0-465d-8479-2cd796268aa9\" class=\"colab-df-container\">\n",
              "    <div>\n",
              "<style scoped>\n",
              "    .dataframe tbody tr th:only-of-type {\n",
              "        vertical-align: middle;\n",
              "    }\n",
              "\n",
              "    .dataframe tbody tr th {\n",
              "        vertical-align: top;\n",
              "    }\n",
              "\n",
              "    .dataframe thead th {\n",
              "        text-align: right;\n",
              "    }\n",
              "</style>\n",
              "<table border=\"1\" class=\"dataframe\">\n",
              "  <thead>\n",
              "    <tr style=\"text-align: right;\">\n",
              "      <th></th>\n",
              "      <th>id</th>\n",
              "      <th>dialect</th>\n",
              "      <th>dialect_l_encoded</th>\n",
              "      <th>text</th>\n",
              "    </tr>\n",
              "  </thead>\n",
              "  <tbody>\n",
              "    <tr>\n",
              "      <th>0</th>\n",
              "      <td>1046024946705735552</td>\n",
              "      <td>MA</td>\n",
              "      <td>9</td>\n",
              "      <td>حسابشخصي اتمني صراحه و خصوصا #طال_عمره بينا وب...</td>\n",
              "    </tr>\n",
              "    <tr>\n",
              "      <th>1</th>\n",
              "      <td>1140189387508134016</td>\n",
              "      <td>YE</td>\n",
              "      <td>17</td>\n",
              "      <td>حسابشخصي حسابشخصي طبعا عرفته من اللي بشعار الليڤر</td>\n",
              "    </tr>\n",
              "    <tr>\n",
              "      <th>2</th>\n",
              "      <td>1051416181855440768</td>\n",
              "      <td>AE</td>\n",
              "      <td>0</td>\n",
              "      <td>حسابشخصي حسابشخصي حسابشخصي حسابشخصي هيه هيه م ...</td>\n",
              "    </tr>\n",
              "    <tr>\n",
              "      <th>3</th>\n",
              "      <td>781770259422412800</td>\n",
              "      <td>PL</td>\n",
              "      <td>11</td>\n",
              "      <td>كلب شو كنتوا بتتوقعوا منه ! ؟ محمود عباس لا يم...</td>\n",
              "    </tr>\n",
              "    <tr>\n",
              "      <th>4</th>\n",
              "      <td>968140551366340608</td>\n",
              "      <td>PL</td>\n",
              "      <td>11</td>\n",
              "      <td>#عزام 🔊 احنا ابو الولد وام الولد</td>\n",
              "    </tr>\n",
              "    <tr>\n",
              "      <th>...</th>\n",
              "      <td>...</td>\n",
              "      <td>...</td>\n",
              "      <td>...</td>\n",
              "      <td>...</td>\n",
              "    </tr>\n",
              "    <tr>\n",
              "      <th>440047</th>\n",
              "      <td>1024415002810306560</td>\n",
              "      <td>KW</td>\n",
              "      <td>6</td>\n",
              "      <td>انت مش مجبور تجامل حدا وتعطيه اكبر من حجمه ؛ ع...</td>\n",
              "    </tr>\n",
              "    <tr>\n",
              "      <th>440048</th>\n",
              "      <td>825422832138067968</td>\n",
              "      <td>EG</td>\n",
              "      <td>3</td>\n",
              "      <td>رتم الفريق بدون جيرو سرييع ، مع جيرو يصير بطيي...</td>\n",
              "    </tr>\n",
              "    <tr>\n",
              "      <th>440049</th>\n",
              "      <td>1137082760726810624</td>\n",
              "      <td>DZ</td>\n",
              "      <td>2</td>\n",
              "      <td>🇸🇦 ksa 👆 🏻 وغير هالبلد قلبي ما عشق ولا راح يع...</td>\n",
              "    </tr>\n",
              "    <tr>\n",
              "      <th>440050</th>\n",
              "      <td>1075003837436575616</td>\n",
              "      <td>PL</td>\n",
              "      <td>11</td>\n",
              "      <td>حسابشخصي حسابشخصي خلص اذا هييك بطلت ادعي واعطي...</td>\n",
              "    </tr>\n",
              "    <tr>\n",
              "      <th>440051</th>\n",
              "      <td>1072373084320120832</td>\n",
              "      <td>IQ</td>\n",
              "      <td>4</td>\n",
              "      <td>حسابشخصي حسابشخصي خيولي هالدلوع مره زين عشره ز...</td>\n",
              "    </tr>\n",
              "  </tbody>\n",
              "</table>\n",
              "<p>440052 rows × 4 columns</p>\n",
              "</div>\n",
              "    <div class=\"colab-df-buttons\">\n",
              "\n",
              "  <div class=\"colab-df-container\">\n",
              "    <button class=\"colab-df-convert\" onclick=\"convertToInteractive('df-b21d2e9f-33f0-465d-8479-2cd796268aa9')\"\n",
              "            title=\"Convert this dataframe to an interactive table.\"\n",
              "            style=\"display:none;\">\n",
              "\n",
              "  <svg xmlns=\"http://www.w3.org/2000/svg\" height=\"24px\" viewBox=\"0 -960 960 960\">\n",
              "    <path d=\"M120-120v-720h720v720H120Zm60-500h600v-160H180v160Zm220 220h160v-160H400v160Zm0 220h160v-160H400v160ZM180-400h160v-160H180v160Zm440 0h160v-160H620v160ZM180-180h160v-160H180v160Zm440 0h160v-160H620v160Z\"/>\n",
              "  </svg>\n",
              "    </button>\n",
              "\n",
              "  <style>\n",
              "    .colab-df-container {\n",
              "      display:flex;\n",
              "      gap: 12px;\n",
              "    }\n",
              "\n",
              "    .colab-df-convert {\n",
              "      background-color: #E8F0FE;\n",
              "      border: none;\n",
              "      border-radius: 50%;\n",
              "      cursor: pointer;\n",
              "      display: none;\n",
              "      fill: #1967D2;\n",
              "      height: 32px;\n",
              "      padding: 0 0 0 0;\n",
              "      width: 32px;\n",
              "    }\n",
              "\n",
              "    .colab-df-convert:hover {\n",
              "      background-color: #E2EBFA;\n",
              "      box-shadow: 0px 1px 2px rgba(60, 64, 67, 0.3), 0px 1px 3px 1px rgba(60, 64, 67, 0.15);\n",
              "      fill: #174EA6;\n",
              "    }\n",
              "\n",
              "    .colab-df-buttons div {\n",
              "      margin-bottom: 4px;\n",
              "    }\n",
              "\n",
              "    [theme=dark] .colab-df-convert {\n",
              "      background-color: #3B4455;\n",
              "      fill: #D2E3FC;\n",
              "    }\n",
              "\n",
              "    [theme=dark] .colab-df-convert:hover {\n",
              "      background-color: #434B5C;\n",
              "      box-shadow: 0px 1px 3px 1px rgba(0, 0, 0, 0.15);\n",
              "      filter: drop-shadow(0px 1px 2px rgba(0, 0, 0, 0.3));\n",
              "      fill: #FFFFFF;\n",
              "    }\n",
              "  </style>\n",
              "\n",
              "    <script>\n",
              "      const buttonEl =\n",
              "        document.querySelector('#df-b21d2e9f-33f0-465d-8479-2cd796268aa9 button.colab-df-convert');\n",
              "      buttonEl.style.display =\n",
              "        google.colab.kernel.accessAllowed ? 'block' : 'none';\n",
              "\n",
              "      async function convertToInteractive(key) {\n",
              "        const element = document.querySelector('#df-b21d2e9f-33f0-465d-8479-2cd796268aa9');\n",
              "        const dataTable =\n",
              "          await google.colab.kernel.invokeFunction('convertToInteractive',\n",
              "                                                    [key], {});\n",
              "        if (!dataTable) return;\n",
              "\n",
              "        const docLinkHtml = 'Like what you see? Visit the ' +\n",
              "          '<a target=\"_blank\" href=https://colab.research.google.com/notebooks/data_table.ipynb>data table notebook</a>'\n",
              "          + ' to learn more about interactive tables.';\n",
              "        element.innerHTML = '';\n",
              "        dataTable['output_type'] = 'display_data';\n",
              "        await google.colab.output.renderOutput(dataTable, element);\n",
              "        const docLink = document.createElement('div');\n",
              "        docLink.innerHTML = docLinkHtml;\n",
              "        element.appendChild(docLink);\n",
              "      }\n",
              "    </script>\n",
              "  </div>\n",
              "\n",
              "\n",
              "<div id=\"df-31eef468-9470-471c-a37e-f8d1d6565acc\">\n",
              "  <button class=\"colab-df-quickchart\" onclick=\"quickchart('df-31eef468-9470-471c-a37e-f8d1d6565acc')\"\n",
              "            title=\"Suggest charts\"\n",
              "            style=\"display:none;\">\n",
              "\n",
              "<svg xmlns=\"http://www.w3.org/2000/svg\" height=\"24px\"viewBox=\"0 0 24 24\"\n",
              "     width=\"24px\">\n",
              "    <g>\n",
              "        <path d=\"M19 3H5c-1.1 0-2 .9-2 2v14c0 1.1.9 2 2 2h14c1.1 0 2-.9 2-2V5c0-1.1-.9-2-2-2zM9 17H7v-7h2v7zm4 0h-2V7h2v10zm4 0h-2v-4h2v4z\"/>\n",
              "    </g>\n",
              "</svg>\n",
              "  </button>\n",
              "\n",
              "<style>\n",
              "  .colab-df-quickchart {\n",
              "      --bg-color: #E8F0FE;\n",
              "      --fill-color: #1967D2;\n",
              "      --hover-bg-color: #E2EBFA;\n",
              "      --hover-fill-color: #174EA6;\n",
              "      --disabled-fill-color: #AAA;\n",
              "      --disabled-bg-color: #DDD;\n",
              "  }\n",
              "\n",
              "  [theme=dark] .colab-df-quickchart {\n",
              "      --bg-color: #3B4455;\n",
              "      --fill-color: #D2E3FC;\n",
              "      --hover-bg-color: #434B5C;\n",
              "      --hover-fill-color: #FFFFFF;\n",
              "      --disabled-bg-color: #3B4455;\n",
              "      --disabled-fill-color: #666;\n",
              "  }\n",
              "\n",
              "  .colab-df-quickchart {\n",
              "    background-color: var(--bg-color);\n",
              "    border: none;\n",
              "    border-radius: 50%;\n",
              "    cursor: pointer;\n",
              "    display: none;\n",
              "    fill: var(--fill-color);\n",
              "    height: 32px;\n",
              "    padding: 0;\n",
              "    width: 32px;\n",
              "  }\n",
              "\n",
              "  .colab-df-quickchart:hover {\n",
              "    background-color: var(--hover-bg-color);\n",
              "    box-shadow: 0 1px 2px rgba(60, 64, 67, 0.3), 0 1px 3px 1px rgba(60, 64, 67, 0.15);\n",
              "    fill: var(--button-hover-fill-color);\n",
              "  }\n",
              "\n",
              "  .colab-df-quickchart-complete:disabled,\n",
              "  .colab-df-quickchart-complete:disabled:hover {\n",
              "    background-color: var(--disabled-bg-color);\n",
              "    fill: var(--disabled-fill-color);\n",
              "    box-shadow: none;\n",
              "  }\n",
              "\n",
              "  .colab-df-spinner {\n",
              "    border: 2px solid var(--fill-color);\n",
              "    border-color: transparent;\n",
              "    border-bottom-color: var(--fill-color);\n",
              "    animation:\n",
              "      spin 1s steps(1) infinite;\n",
              "  }\n",
              "\n",
              "  @keyframes spin {\n",
              "    0% {\n",
              "      border-color: transparent;\n",
              "      border-bottom-color: var(--fill-color);\n",
              "      border-left-color: var(--fill-color);\n",
              "    }\n",
              "    20% {\n",
              "      border-color: transparent;\n",
              "      border-left-color: var(--fill-color);\n",
              "      border-top-color: var(--fill-color);\n",
              "    }\n",
              "    30% {\n",
              "      border-color: transparent;\n",
              "      border-left-color: var(--fill-color);\n",
              "      border-top-color: var(--fill-color);\n",
              "      border-right-color: var(--fill-color);\n",
              "    }\n",
              "    40% {\n",
              "      border-color: transparent;\n",
              "      border-right-color: var(--fill-color);\n",
              "      border-top-color: var(--fill-color);\n",
              "    }\n",
              "    60% {\n",
              "      border-color: transparent;\n",
              "      border-right-color: var(--fill-color);\n",
              "    }\n",
              "    80% {\n",
              "      border-color: transparent;\n",
              "      border-right-color: var(--fill-color);\n",
              "      border-bottom-color: var(--fill-color);\n",
              "    }\n",
              "    90% {\n",
              "      border-color: transparent;\n",
              "      border-bottom-color: var(--fill-color);\n",
              "    }\n",
              "  }\n",
              "</style>\n",
              "\n",
              "  <script>\n",
              "    async function quickchart(key) {\n",
              "      const quickchartButtonEl =\n",
              "        document.querySelector('#' + key + ' button');\n",
              "      quickchartButtonEl.disabled = true;  // To prevent multiple clicks.\n",
              "      quickchartButtonEl.classList.add('colab-df-spinner');\n",
              "      try {\n",
              "        const charts = await google.colab.kernel.invokeFunction(\n",
              "            'suggestCharts', [key], {});\n",
              "      } catch (error) {\n",
              "        console.error('Error during call to suggestCharts:', error);\n",
              "      }\n",
              "      quickchartButtonEl.classList.remove('colab-df-spinner');\n",
              "      quickchartButtonEl.classList.add('colab-df-quickchart-complete');\n",
              "    }\n",
              "    (() => {\n",
              "      let quickchartButtonEl =\n",
              "        document.querySelector('#df-31eef468-9470-471c-a37e-f8d1d6565acc button');\n",
              "      quickchartButtonEl.style.display =\n",
              "        google.colab.kernel.accessAllowed ? 'block' : 'none';\n",
              "    })();\n",
              "  </script>\n",
              "</div>\n",
              "\n",
              "  <div id=\"id_f8852fc4-da67-4c2f-af2a-a8ff135f1d8b\">\n",
              "    <style>\n",
              "      .colab-df-generate {\n",
              "        background-color: #E8F0FE;\n",
              "        border: none;\n",
              "        border-radius: 50%;\n",
              "        cursor: pointer;\n",
              "        display: none;\n",
              "        fill: #1967D2;\n",
              "        height: 32px;\n",
              "        padding: 0 0 0 0;\n",
              "        width: 32px;\n",
              "      }\n",
              "\n",
              "      .colab-df-generate:hover {\n",
              "        background-color: #E2EBFA;\n",
              "        box-shadow: 0px 1px 2px rgba(60, 64, 67, 0.3), 0px 1px 3px 1px rgba(60, 64, 67, 0.15);\n",
              "        fill: #174EA6;\n",
              "      }\n",
              "\n",
              "      [theme=dark] .colab-df-generate {\n",
              "        background-color: #3B4455;\n",
              "        fill: #D2E3FC;\n",
              "      }\n",
              "\n",
              "      [theme=dark] .colab-df-generate:hover {\n",
              "        background-color: #434B5C;\n",
              "        box-shadow: 0px 1px 3px 1px rgba(0, 0, 0, 0.15);\n",
              "        filter: drop-shadow(0px 1px 2px rgba(0, 0, 0, 0.3));\n",
              "        fill: #FFFFFF;\n",
              "      }\n",
              "    </style>\n",
              "    <button class=\"colab-df-generate\" onclick=\"generateWithVariable('new_dataset')\"\n",
              "            title=\"Generate code using this dataframe.\"\n",
              "            style=\"display:none;\">\n",
              "\n",
              "  <svg xmlns=\"http://www.w3.org/2000/svg\" height=\"24px\"viewBox=\"0 0 24 24\"\n",
              "       width=\"24px\">\n",
              "    <path d=\"M7,19H8.4L18.45,9,17,7.55,7,17.6ZM5,21V16.75L18.45,3.32a2,2,0,0,1,2.83,0l1.4,1.43a1.91,1.91,0,0,1,.58,1.4,1.91,1.91,0,0,1-.58,1.4L9.25,21ZM18.45,9,17,7.55Zm-12,3A5.31,5.31,0,0,0,4.9,8.1,5.31,5.31,0,0,0,1,6.5,5.31,5.31,0,0,0,4.9,4.9,5.31,5.31,0,0,0,6.5,1,5.31,5.31,0,0,0,8.1,4.9,5.31,5.31,0,0,0,12,6.5,5.46,5.46,0,0,0,6.5,12Z\"/>\n",
              "  </svg>\n",
              "    </button>\n",
              "    <script>\n",
              "      (() => {\n",
              "      const buttonEl =\n",
              "        document.querySelector('#id_f8852fc4-da67-4c2f-af2a-a8ff135f1d8b button.colab-df-generate');\n",
              "      buttonEl.style.display =\n",
              "        google.colab.kernel.accessAllowed ? 'block' : 'none';\n",
              "\n",
              "      buttonEl.onclick = () => {\n",
              "        google.colab.notebook.generateWithVariable('new_dataset');\n",
              "      }\n",
              "      })();\n",
              "    </script>\n",
              "  </div>\n",
              "\n",
              "    </div>\n",
              "  </div>\n"
            ],
            "application/vnd.google.colaboratory.intrinsic+json": {
              "type": "dataframe",
              "variable_name": "new_dataset"
            }
          },
          "metadata": {},
          "execution_count": 18
        }
      ]
    },
    {
      "cell_type": "code",
      "source": [
        "new_dataset.head()"
      ],
      "metadata": {
        "colab": {
          "base_uri": "https://localhost:8080/",
          "height": 206
        },
        "id": "zgQGNWfIK1HI",
        "outputId": "cb31aeac-d053-49a2-bc6e-2c08acfe2db5"
      },
      "execution_count": null,
      "outputs": [
        {
          "output_type": "execute_result",
          "data": {
            "text/plain": [
              "                    id dialect  dialect_l_encoded  \\\n",
              "0  1046024946705735552      MA                  9   \n",
              "1  1140189387508134016      YE                 17   \n",
              "2  1051416181855440768      AE                  0   \n",
              "3   781770259422412800      PL                 11   \n",
              "4   968140551366340608      PL                 11   \n",
              "\n",
              "                                                text  \n",
              "0  حسابشخصي اتمني صراحه و خصوصا #طال_عمره بينا وب...  \n",
              "1  حسابشخصي حسابشخصي طبعا عرفته من اللي بشعار الليڤر  \n",
              "2  حسابشخصي حسابشخصي حسابشخصي حسابشخصي هيه هيه م ...  \n",
              "3  كلب شو كنتوا بتتوقعوا منه ! ؟ محمود عباس لا يم...  \n",
              "4                   #عزام 🔊 احنا ابو الولد وام الولد  "
            ],
            "text/html": [
              "\n",
              "  <div id=\"df-ca6855a7-d2f5-415a-a772-d6e67c223faf\" class=\"colab-df-container\">\n",
              "    <div>\n",
              "<style scoped>\n",
              "    .dataframe tbody tr th:only-of-type {\n",
              "        vertical-align: middle;\n",
              "    }\n",
              "\n",
              "    .dataframe tbody tr th {\n",
              "        vertical-align: top;\n",
              "    }\n",
              "\n",
              "    .dataframe thead th {\n",
              "        text-align: right;\n",
              "    }\n",
              "</style>\n",
              "<table border=\"1\" class=\"dataframe\">\n",
              "  <thead>\n",
              "    <tr style=\"text-align: right;\">\n",
              "      <th></th>\n",
              "      <th>id</th>\n",
              "      <th>dialect</th>\n",
              "      <th>dialect_l_encoded</th>\n",
              "      <th>text</th>\n",
              "    </tr>\n",
              "  </thead>\n",
              "  <tbody>\n",
              "    <tr>\n",
              "      <th>0</th>\n",
              "      <td>1046024946705735552</td>\n",
              "      <td>MA</td>\n",
              "      <td>9</td>\n",
              "      <td>حسابشخصي اتمني صراحه و خصوصا #طال_عمره بينا وب...</td>\n",
              "    </tr>\n",
              "    <tr>\n",
              "      <th>1</th>\n",
              "      <td>1140189387508134016</td>\n",
              "      <td>YE</td>\n",
              "      <td>17</td>\n",
              "      <td>حسابشخصي حسابشخصي طبعا عرفته من اللي بشعار الليڤر</td>\n",
              "    </tr>\n",
              "    <tr>\n",
              "      <th>2</th>\n",
              "      <td>1051416181855440768</td>\n",
              "      <td>AE</td>\n",
              "      <td>0</td>\n",
              "      <td>حسابشخصي حسابشخصي حسابشخصي حسابشخصي هيه هيه م ...</td>\n",
              "    </tr>\n",
              "    <tr>\n",
              "      <th>3</th>\n",
              "      <td>781770259422412800</td>\n",
              "      <td>PL</td>\n",
              "      <td>11</td>\n",
              "      <td>كلب شو كنتوا بتتوقعوا منه ! ؟ محمود عباس لا يم...</td>\n",
              "    </tr>\n",
              "    <tr>\n",
              "      <th>4</th>\n",
              "      <td>968140551366340608</td>\n",
              "      <td>PL</td>\n",
              "      <td>11</td>\n",
              "      <td>#عزام 🔊 احنا ابو الولد وام الولد</td>\n",
              "    </tr>\n",
              "  </tbody>\n",
              "</table>\n",
              "</div>\n",
              "    <div class=\"colab-df-buttons\">\n",
              "\n",
              "  <div class=\"colab-df-container\">\n",
              "    <button class=\"colab-df-convert\" onclick=\"convertToInteractive('df-ca6855a7-d2f5-415a-a772-d6e67c223faf')\"\n",
              "            title=\"Convert this dataframe to an interactive table.\"\n",
              "            style=\"display:none;\">\n",
              "\n",
              "  <svg xmlns=\"http://www.w3.org/2000/svg\" height=\"24px\" viewBox=\"0 -960 960 960\">\n",
              "    <path d=\"M120-120v-720h720v720H120Zm60-500h600v-160H180v160Zm220 220h160v-160H400v160Zm0 220h160v-160H400v160ZM180-400h160v-160H180v160Zm440 0h160v-160H620v160ZM180-180h160v-160H180v160Zm440 0h160v-160H620v160Z\"/>\n",
              "  </svg>\n",
              "    </button>\n",
              "\n",
              "  <style>\n",
              "    .colab-df-container {\n",
              "      display:flex;\n",
              "      gap: 12px;\n",
              "    }\n",
              "\n",
              "    .colab-df-convert {\n",
              "      background-color: #E8F0FE;\n",
              "      border: none;\n",
              "      border-radius: 50%;\n",
              "      cursor: pointer;\n",
              "      display: none;\n",
              "      fill: #1967D2;\n",
              "      height: 32px;\n",
              "      padding: 0 0 0 0;\n",
              "      width: 32px;\n",
              "    }\n",
              "\n",
              "    .colab-df-convert:hover {\n",
              "      background-color: #E2EBFA;\n",
              "      box-shadow: 0px 1px 2px rgba(60, 64, 67, 0.3), 0px 1px 3px 1px rgba(60, 64, 67, 0.15);\n",
              "      fill: #174EA6;\n",
              "    }\n",
              "\n",
              "    .colab-df-buttons div {\n",
              "      margin-bottom: 4px;\n",
              "    }\n",
              "\n",
              "    [theme=dark] .colab-df-convert {\n",
              "      background-color: #3B4455;\n",
              "      fill: #D2E3FC;\n",
              "    }\n",
              "\n",
              "    [theme=dark] .colab-df-convert:hover {\n",
              "      background-color: #434B5C;\n",
              "      box-shadow: 0px 1px 3px 1px rgba(0, 0, 0, 0.15);\n",
              "      filter: drop-shadow(0px 1px 2px rgba(0, 0, 0, 0.3));\n",
              "      fill: #FFFFFF;\n",
              "    }\n",
              "  </style>\n",
              "\n",
              "    <script>\n",
              "      const buttonEl =\n",
              "        document.querySelector('#df-ca6855a7-d2f5-415a-a772-d6e67c223faf button.colab-df-convert');\n",
              "      buttonEl.style.display =\n",
              "        google.colab.kernel.accessAllowed ? 'block' : 'none';\n",
              "\n",
              "      async function convertToInteractive(key) {\n",
              "        const element = document.querySelector('#df-ca6855a7-d2f5-415a-a772-d6e67c223faf');\n",
              "        const dataTable =\n",
              "          await google.colab.kernel.invokeFunction('convertToInteractive',\n",
              "                                                    [key], {});\n",
              "        if (!dataTable) return;\n",
              "\n",
              "        const docLinkHtml = 'Like what you see? Visit the ' +\n",
              "          '<a target=\"_blank\" href=https://colab.research.google.com/notebooks/data_table.ipynb>data table notebook</a>'\n",
              "          + ' to learn more about interactive tables.';\n",
              "        element.innerHTML = '';\n",
              "        dataTable['output_type'] = 'display_data';\n",
              "        await google.colab.output.renderOutput(dataTable, element);\n",
              "        const docLink = document.createElement('div');\n",
              "        docLink.innerHTML = docLinkHtml;\n",
              "        element.appendChild(docLink);\n",
              "      }\n",
              "    </script>\n",
              "  </div>\n",
              "\n",
              "\n",
              "<div id=\"df-71cb4247-1f8b-4516-87da-2d9c767dd748\">\n",
              "  <button class=\"colab-df-quickchart\" onclick=\"quickchart('df-71cb4247-1f8b-4516-87da-2d9c767dd748')\"\n",
              "            title=\"Suggest charts\"\n",
              "            style=\"display:none;\">\n",
              "\n",
              "<svg xmlns=\"http://www.w3.org/2000/svg\" height=\"24px\"viewBox=\"0 0 24 24\"\n",
              "     width=\"24px\">\n",
              "    <g>\n",
              "        <path d=\"M19 3H5c-1.1 0-2 .9-2 2v14c0 1.1.9 2 2 2h14c1.1 0 2-.9 2-2V5c0-1.1-.9-2-2-2zM9 17H7v-7h2v7zm4 0h-2V7h2v10zm4 0h-2v-4h2v4z\"/>\n",
              "    </g>\n",
              "</svg>\n",
              "  </button>\n",
              "\n",
              "<style>\n",
              "  .colab-df-quickchart {\n",
              "      --bg-color: #E8F0FE;\n",
              "      --fill-color: #1967D2;\n",
              "      --hover-bg-color: #E2EBFA;\n",
              "      --hover-fill-color: #174EA6;\n",
              "      --disabled-fill-color: #AAA;\n",
              "      --disabled-bg-color: #DDD;\n",
              "  }\n",
              "\n",
              "  [theme=dark] .colab-df-quickchart {\n",
              "      --bg-color: #3B4455;\n",
              "      --fill-color: #D2E3FC;\n",
              "      --hover-bg-color: #434B5C;\n",
              "      --hover-fill-color: #FFFFFF;\n",
              "      --disabled-bg-color: #3B4455;\n",
              "      --disabled-fill-color: #666;\n",
              "  }\n",
              "\n",
              "  .colab-df-quickchart {\n",
              "    background-color: var(--bg-color);\n",
              "    border: none;\n",
              "    border-radius: 50%;\n",
              "    cursor: pointer;\n",
              "    display: none;\n",
              "    fill: var(--fill-color);\n",
              "    height: 32px;\n",
              "    padding: 0;\n",
              "    width: 32px;\n",
              "  }\n",
              "\n",
              "  .colab-df-quickchart:hover {\n",
              "    background-color: var(--hover-bg-color);\n",
              "    box-shadow: 0 1px 2px rgba(60, 64, 67, 0.3), 0 1px 3px 1px rgba(60, 64, 67, 0.15);\n",
              "    fill: var(--button-hover-fill-color);\n",
              "  }\n",
              "\n",
              "  .colab-df-quickchart-complete:disabled,\n",
              "  .colab-df-quickchart-complete:disabled:hover {\n",
              "    background-color: var(--disabled-bg-color);\n",
              "    fill: var(--disabled-fill-color);\n",
              "    box-shadow: none;\n",
              "  }\n",
              "\n",
              "  .colab-df-spinner {\n",
              "    border: 2px solid var(--fill-color);\n",
              "    border-color: transparent;\n",
              "    border-bottom-color: var(--fill-color);\n",
              "    animation:\n",
              "      spin 1s steps(1) infinite;\n",
              "  }\n",
              "\n",
              "  @keyframes spin {\n",
              "    0% {\n",
              "      border-color: transparent;\n",
              "      border-bottom-color: var(--fill-color);\n",
              "      border-left-color: var(--fill-color);\n",
              "    }\n",
              "    20% {\n",
              "      border-color: transparent;\n",
              "      border-left-color: var(--fill-color);\n",
              "      border-top-color: var(--fill-color);\n",
              "    }\n",
              "    30% {\n",
              "      border-color: transparent;\n",
              "      border-left-color: var(--fill-color);\n",
              "      border-top-color: var(--fill-color);\n",
              "      border-right-color: var(--fill-color);\n",
              "    }\n",
              "    40% {\n",
              "      border-color: transparent;\n",
              "      border-right-color: var(--fill-color);\n",
              "      border-top-color: var(--fill-color);\n",
              "    }\n",
              "    60% {\n",
              "      border-color: transparent;\n",
              "      border-right-color: var(--fill-color);\n",
              "    }\n",
              "    80% {\n",
              "      border-color: transparent;\n",
              "      border-right-color: var(--fill-color);\n",
              "      border-bottom-color: var(--fill-color);\n",
              "    }\n",
              "    90% {\n",
              "      border-color: transparent;\n",
              "      border-bottom-color: var(--fill-color);\n",
              "    }\n",
              "  }\n",
              "</style>\n",
              "\n",
              "  <script>\n",
              "    async function quickchart(key) {\n",
              "      const quickchartButtonEl =\n",
              "        document.querySelector('#' + key + ' button');\n",
              "      quickchartButtonEl.disabled = true;  // To prevent multiple clicks.\n",
              "      quickchartButtonEl.classList.add('colab-df-spinner');\n",
              "      try {\n",
              "        const charts = await google.colab.kernel.invokeFunction(\n",
              "            'suggestCharts', [key], {});\n",
              "      } catch (error) {\n",
              "        console.error('Error during call to suggestCharts:', error);\n",
              "      }\n",
              "      quickchartButtonEl.classList.remove('colab-df-spinner');\n",
              "      quickchartButtonEl.classList.add('colab-df-quickchart-complete');\n",
              "    }\n",
              "    (() => {\n",
              "      let quickchartButtonEl =\n",
              "        document.querySelector('#df-71cb4247-1f8b-4516-87da-2d9c767dd748 button');\n",
              "      quickchartButtonEl.style.display =\n",
              "        google.colab.kernel.accessAllowed ? 'block' : 'none';\n",
              "    })();\n",
              "  </script>\n",
              "</div>\n",
              "\n",
              "    </div>\n",
              "  </div>\n"
            ],
            "application/vnd.google.colaboratory.intrinsic+json": {
              "type": "dataframe",
              "variable_name": "new_dataset"
            }
          },
          "metadata": {},
          "execution_count": 19
        }
      ]
    },
    {
      "cell_type": "code",
      "source": [
        "val_dataset"
      ],
      "metadata": {
        "colab": {
          "base_uri": "https://localhost:8080/",
          "height": 423
        },
        "id": "QinV_WZGHbJ5",
        "outputId": "6ae783b2-8561-4509-9a8c-9b342092602e"
      },
      "execution_count": null,
      "outputs": [
        {
          "output_type": "execute_result",
          "data": {
            "text/plain": [
              "                       id dialect  dialect_l_encoded  \\\n",
              "0      910595516496515200      EG                  3   \n",
              "1      847921262752129024      KW                  6   \n",
              "2     1138977052055560192      OM                 10   \n",
              "3      978901748604645376      SY                 15   \n",
              "4      838068478179430400      EG                  3   \n",
              "...                   ...     ...                ...   \n",
              "9159  1154583936523284480      EG                  3   \n",
              "9160  1139550319241773056      EG                  3   \n",
              "9161  1004448814609129600      PL                 11   \n",
              "9162  1122824694229553152      SA                 13   \n",
              "9163  1155877024000630784      DZ                  2   \n",
              "\n",
              "                                                   text  \n",
              "0     حسابشخصي استاذ عبدالعزيز صارله الموضوع سنه يعن...  \n",
              "1         #كذبه_نيسان كل عام والكذاب بالف خير 😂 رابطويب  \n",
              "2                       حسابشخصي طمطم عااتي طبق جبنه 🙄   \n",
              "3     حسابشخصي حسابشخصي يمكن متلاحقين السوق بيشترون ...  \n",
              "4     حسابشخصي عيل المدرب حمار حشاك . . مالها حل ثال...  \n",
              "...                                                 ...  \n",
              "9159   حسابشخصي الله يشافيه ويعافيه ويكتب اجرك يبو فهيد  \n",
              "9160  حسابشخصي تعال شوفني احسن من الفلم الهندي لك وح...  \n",
              "9161  الناس اللي بتبني جديد قبل ما تعملوا تمديدات ال...  \n",
              "9162         حسابشخصي كثروا مثل الذبان في موسم الصيف 💔   \n",
              "9163  العمل اللي قام به منصور بن مشعل حتي الان مايخت...  \n",
              "\n",
              "[9164 rows x 4 columns]"
            ],
            "text/html": [
              "\n",
              "  <div id=\"df-a693a15f-f23f-4d4d-b3d7-1d56b35b9afa\" class=\"colab-df-container\">\n",
              "    <div>\n",
              "<style scoped>\n",
              "    .dataframe tbody tr th:only-of-type {\n",
              "        vertical-align: middle;\n",
              "    }\n",
              "\n",
              "    .dataframe tbody tr th {\n",
              "        vertical-align: top;\n",
              "    }\n",
              "\n",
              "    .dataframe thead th {\n",
              "        text-align: right;\n",
              "    }\n",
              "</style>\n",
              "<table border=\"1\" class=\"dataframe\">\n",
              "  <thead>\n",
              "    <tr style=\"text-align: right;\">\n",
              "      <th></th>\n",
              "      <th>id</th>\n",
              "      <th>dialect</th>\n",
              "      <th>dialect_l_encoded</th>\n",
              "      <th>text</th>\n",
              "    </tr>\n",
              "  </thead>\n",
              "  <tbody>\n",
              "    <tr>\n",
              "      <th>0</th>\n",
              "      <td>910595516496515200</td>\n",
              "      <td>EG</td>\n",
              "      <td>3</td>\n",
              "      <td>حسابشخصي استاذ عبدالعزيز صارله الموضوع سنه يعن...</td>\n",
              "    </tr>\n",
              "    <tr>\n",
              "      <th>1</th>\n",
              "      <td>847921262752129024</td>\n",
              "      <td>KW</td>\n",
              "      <td>6</td>\n",
              "      <td>#كذبه_نيسان كل عام والكذاب بالف خير 😂 رابطويب</td>\n",
              "    </tr>\n",
              "    <tr>\n",
              "      <th>2</th>\n",
              "      <td>1138977052055560192</td>\n",
              "      <td>OM</td>\n",
              "      <td>10</td>\n",
              "      <td>حسابشخصي طمطم عااتي طبق جبنه 🙄</td>\n",
              "    </tr>\n",
              "    <tr>\n",
              "      <th>3</th>\n",
              "      <td>978901748604645376</td>\n",
              "      <td>SY</td>\n",
              "      <td>15</td>\n",
              "      <td>حسابشخصي حسابشخصي يمكن متلاحقين السوق بيشترون ...</td>\n",
              "    </tr>\n",
              "    <tr>\n",
              "      <th>4</th>\n",
              "      <td>838068478179430400</td>\n",
              "      <td>EG</td>\n",
              "      <td>3</td>\n",
              "      <td>حسابشخصي عيل المدرب حمار حشاك . . مالها حل ثال...</td>\n",
              "    </tr>\n",
              "    <tr>\n",
              "      <th>...</th>\n",
              "      <td>...</td>\n",
              "      <td>...</td>\n",
              "      <td>...</td>\n",
              "      <td>...</td>\n",
              "    </tr>\n",
              "    <tr>\n",
              "      <th>9159</th>\n",
              "      <td>1154583936523284480</td>\n",
              "      <td>EG</td>\n",
              "      <td>3</td>\n",
              "      <td>حسابشخصي الله يشافيه ويعافيه ويكتب اجرك يبو فهيد</td>\n",
              "    </tr>\n",
              "    <tr>\n",
              "      <th>9160</th>\n",
              "      <td>1139550319241773056</td>\n",
              "      <td>EG</td>\n",
              "      <td>3</td>\n",
              "      <td>حسابشخصي تعال شوفني احسن من الفلم الهندي لك وح...</td>\n",
              "    </tr>\n",
              "    <tr>\n",
              "      <th>9161</th>\n",
              "      <td>1004448814609129600</td>\n",
              "      <td>PL</td>\n",
              "      <td>11</td>\n",
              "      <td>الناس اللي بتبني جديد قبل ما تعملوا تمديدات ال...</td>\n",
              "    </tr>\n",
              "    <tr>\n",
              "      <th>9162</th>\n",
              "      <td>1122824694229553152</td>\n",
              "      <td>SA</td>\n",
              "      <td>13</td>\n",
              "      <td>حسابشخصي كثروا مثل الذبان في موسم الصيف 💔</td>\n",
              "    </tr>\n",
              "    <tr>\n",
              "      <th>9163</th>\n",
              "      <td>1155877024000630784</td>\n",
              "      <td>DZ</td>\n",
              "      <td>2</td>\n",
              "      <td>العمل اللي قام به منصور بن مشعل حتي الان مايخت...</td>\n",
              "    </tr>\n",
              "  </tbody>\n",
              "</table>\n",
              "<p>9164 rows × 4 columns</p>\n",
              "</div>\n",
              "    <div class=\"colab-df-buttons\">\n",
              "\n",
              "  <div class=\"colab-df-container\">\n",
              "    <button class=\"colab-df-convert\" onclick=\"convertToInteractive('df-a693a15f-f23f-4d4d-b3d7-1d56b35b9afa')\"\n",
              "            title=\"Convert this dataframe to an interactive table.\"\n",
              "            style=\"display:none;\">\n",
              "\n",
              "  <svg xmlns=\"http://www.w3.org/2000/svg\" height=\"24px\" viewBox=\"0 -960 960 960\">\n",
              "    <path d=\"M120-120v-720h720v720H120Zm60-500h600v-160H180v160Zm220 220h160v-160H400v160Zm0 220h160v-160H400v160ZM180-400h160v-160H180v160Zm440 0h160v-160H620v160ZM180-180h160v-160H180v160Zm440 0h160v-160H620v160Z\"/>\n",
              "  </svg>\n",
              "    </button>\n",
              "\n",
              "  <style>\n",
              "    .colab-df-container {\n",
              "      display:flex;\n",
              "      gap: 12px;\n",
              "    }\n",
              "\n",
              "    .colab-df-convert {\n",
              "      background-color: #E8F0FE;\n",
              "      border: none;\n",
              "      border-radius: 50%;\n",
              "      cursor: pointer;\n",
              "      display: none;\n",
              "      fill: #1967D2;\n",
              "      height: 32px;\n",
              "      padding: 0 0 0 0;\n",
              "      width: 32px;\n",
              "    }\n",
              "\n",
              "    .colab-df-convert:hover {\n",
              "      background-color: #E2EBFA;\n",
              "      box-shadow: 0px 1px 2px rgba(60, 64, 67, 0.3), 0px 1px 3px 1px rgba(60, 64, 67, 0.15);\n",
              "      fill: #174EA6;\n",
              "    }\n",
              "\n",
              "    .colab-df-buttons div {\n",
              "      margin-bottom: 4px;\n",
              "    }\n",
              "\n",
              "    [theme=dark] .colab-df-convert {\n",
              "      background-color: #3B4455;\n",
              "      fill: #D2E3FC;\n",
              "    }\n",
              "\n",
              "    [theme=dark] .colab-df-convert:hover {\n",
              "      background-color: #434B5C;\n",
              "      box-shadow: 0px 1px 3px 1px rgba(0, 0, 0, 0.15);\n",
              "      filter: drop-shadow(0px 1px 2px rgba(0, 0, 0, 0.3));\n",
              "      fill: #FFFFFF;\n",
              "    }\n",
              "  </style>\n",
              "\n",
              "    <script>\n",
              "      const buttonEl =\n",
              "        document.querySelector('#df-a693a15f-f23f-4d4d-b3d7-1d56b35b9afa button.colab-df-convert');\n",
              "      buttonEl.style.display =\n",
              "        google.colab.kernel.accessAllowed ? 'block' : 'none';\n",
              "\n",
              "      async function convertToInteractive(key) {\n",
              "        const element = document.querySelector('#df-a693a15f-f23f-4d4d-b3d7-1d56b35b9afa');\n",
              "        const dataTable =\n",
              "          await google.colab.kernel.invokeFunction('convertToInteractive',\n",
              "                                                    [key], {});\n",
              "        if (!dataTable) return;\n",
              "\n",
              "        const docLinkHtml = 'Like what you see? Visit the ' +\n",
              "          '<a target=\"_blank\" href=https://colab.research.google.com/notebooks/data_table.ipynb>data table notebook</a>'\n",
              "          + ' to learn more about interactive tables.';\n",
              "        element.innerHTML = '';\n",
              "        dataTable['output_type'] = 'display_data';\n",
              "        await google.colab.output.renderOutput(dataTable, element);\n",
              "        const docLink = document.createElement('div');\n",
              "        docLink.innerHTML = docLinkHtml;\n",
              "        element.appendChild(docLink);\n",
              "      }\n",
              "    </script>\n",
              "  </div>\n",
              "\n",
              "\n",
              "<div id=\"df-0fcccaa1-dcaf-489c-9089-212899faebe7\">\n",
              "  <button class=\"colab-df-quickchart\" onclick=\"quickchart('df-0fcccaa1-dcaf-489c-9089-212899faebe7')\"\n",
              "            title=\"Suggest charts\"\n",
              "            style=\"display:none;\">\n",
              "\n",
              "<svg xmlns=\"http://www.w3.org/2000/svg\" height=\"24px\"viewBox=\"0 0 24 24\"\n",
              "     width=\"24px\">\n",
              "    <g>\n",
              "        <path d=\"M19 3H5c-1.1 0-2 .9-2 2v14c0 1.1.9 2 2 2h14c1.1 0 2-.9 2-2V5c0-1.1-.9-2-2-2zM9 17H7v-7h2v7zm4 0h-2V7h2v10zm4 0h-2v-4h2v4z\"/>\n",
              "    </g>\n",
              "</svg>\n",
              "  </button>\n",
              "\n",
              "<style>\n",
              "  .colab-df-quickchart {\n",
              "      --bg-color: #E8F0FE;\n",
              "      --fill-color: #1967D2;\n",
              "      --hover-bg-color: #E2EBFA;\n",
              "      --hover-fill-color: #174EA6;\n",
              "      --disabled-fill-color: #AAA;\n",
              "      --disabled-bg-color: #DDD;\n",
              "  }\n",
              "\n",
              "  [theme=dark] .colab-df-quickchart {\n",
              "      --bg-color: #3B4455;\n",
              "      --fill-color: #D2E3FC;\n",
              "      --hover-bg-color: #434B5C;\n",
              "      --hover-fill-color: #FFFFFF;\n",
              "      --disabled-bg-color: #3B4455;\n",
              "      --disabled-fill-color: #666;\n",
              "  }\n",
              "\n",
              "  .colab-df-quickchart {\n",
              "    background-color: var(--bg-color);\n",
              "    border: none;\n",
              "    border-radius: 50%;\n",
              "    cursor: pointer;\n",
              "    display: none;\n",
              "    fill: var(--fill-color);\n",
              "    height: 32px;\n",
              "    padding: 0;\n",
              "    width: 32px;\n",
              "  }\n",
              "\n",
              "  .colab-df-quickchart:hover {\n",
              "    background-color: var(--hover-bg-color);\n",
              "    box-shadow: 0 1px 2px rgba(60, 64, 67, 0.3), 0 1px 3px 1px rgba(60, 64, 67, 0.15);\n",
              "    fill: var(--button-hover-fill-color);\n",
              "  }\n",
              "\n",
              "  .colab-df-quickchart-complete:disabled,\n",
              "  .colab-df-quickchart-complete:disabled:hover {\n",
              "    background-color: var(--disabled-bg-color);\n",
              "    fill: var(--disabled-fill-color);\n",
              "    box-shadow: none;\n",
              "  }\n",
              "\n",
              "  .colab-df-spinner {\n",
              "    border: 2px solid var(--fill-color);\n",
              "    border-color: transparent;\n",
              "    border-bottom-color: var(--fill-color);\n",
              "    animation:\n",
              "      spin 1s steps(1) infinite;\n",
              "  }\n",
              "\n",
              "  @keyframes spin {\n",
              "    0% {\n",
              "      border-color: transparent;\n",
              "      border-bottom-color: var(--fill-color);\n",
              "      border-left-color: var(--fill-color);\n",
              "    }\n",
              "    20% {\n",
              "      border-color: transparent;\n",
              "      border-left-color: var(--fill-color);\n",
              "      border-top-color: var(--fill-color);\n",
              "    }\n",
              "    30% {\n",
              "      border-color: transparent;\n",
              "      border-left-color: var(--fill-color);\n",
              "      border-top-color: var(--fill-color);\n",
              "      border-right-color: var(--fill-color);\n",
              "    }\n",
              "    40% {\n",
              "      border-color: transparent;\n",
              "      border-right-color: var(--fill-color);\n",
              "      border-top-color: var(--fill-color);\n",
              "    }\n",
              "    60% {\n",
              "      border-color: transparent;\n",
              "      border-right-color: var(--fill-color);\n",
              "    }\n",
              "    80% {\n",
              "      border-color: transparent;\n",
              "      border-right-color: var(--fill-color);\n",
              "      border-bottom-color: var(--fill-color);\n",
              "    }\n",
              "    90% {\n",
              "      border-color: transparent;\n",
              "      border-bottom-color: var(--fill-color);\n",
              "    }\n",
              "  }\n",
              "</style>\n",
              "\n",
              "  <script>\n",
              "    async function quickchart(key) {\n",
              "      const quickchartButtonEl =\n",
              "        document.querySelector('#' + key + ' button');\n",
              "      quickchartButtonEl.disabled = true;  // To prevent multiple clicks.\n",
              "      quickchartButtonEl.classList.add('colab-df-spinner');\n",
              "      try {\n",
              "        const charts = await google.colab.kernel.invokeFunction(\n",
              "            'suggestCharts', [key], {});\n",
              "      } catch (error) {\n",
              "        console.error('Error during call to suggestCharts:', error);\n",
              "      }\n",
              "      quickchartButtonEl.classList.remove('colab-df-spinner');\n",
              "      quickchartButtonEl.classList.add('colab-df-quickchart-complete');\n",
              "    }\n",
              "    (() => {\n",
              "      let quickchartButtonEl =\n",
              "        document.querySelector('#df-0fcccaa1-dcaf-489c-9089-212899faebe7 button');\n",
              "      quickchartButtonEl.style.display =\n",
              "        google.colab.kernel.accessAllowed ? 'block' : 'none';\n",
              "    })();\n",
              "  </script>\n",
              "</div>\n",
              "\n",
              "  <div id=\"id_e6ba657c-f95b-46bc-bc8f-1d08a36d737a\">\n",
              "    <style>\n",
              "      .colab-df-generate {\n",
              "        background-color: #E8F0FE;\n",
              "        border: none;\n",
              "        border-radius: 50%;\n",
              "        cursor: pointer;\n",
              "        display: none;\n",
              "        fill: #1967D2;\n",
              "        height: 32px;\n",
              "        padding: 0 0 0 0;\n",
              "        width: 32px;\n",
              "      }\n",
              "\n",
              "      .colab-df-generate:hover {\n",
              "        background-color: #E2EBFA;\n",
              "        box-shadow: 0px 1px 2px rgba(60, 64, 67, 0.3), 0px 1px 3px 1px rgba(60, 64, 67, 0.15);\n",
              "        fill: #174EA6;\n",
              "      }\n",
              "\n",
              "      [theme=dark] .colab-df-generate {\n",
              "        background-color: #3B4455;\n",
              "        fill: #D2E3FC;\n",
              "      }\n",
              "\n",
              "      [theme=dark] .colab-df-generate:hover {\n",
              "        background-color: #434B5C;\n",
              "        box-shadow: 0px 1px 3px 1px rgba(0, 0, 0, 0.15);\n",
              "        filter: drop-shadow(0px 1px 2px rgba(0, 0, 0, 0.3));\n",
              "        fill: #FFFFFF;\n",
              "      }\n",
              "    </style>\n",
              "    <button class=\"colab-df-generate\" onclick=\"generateWithVariable('val_dataset')\"\n",
              "            title=\"Generate code using this dataframe.\"\n",
              "            style=\"display:none;\">\n",
              "\n",
              "  <svg xmlns=\"http://www.w3.org/2000/svg\" height=\"24px\"viewBox=\"0 0 24 24\"\n",
              "       width=\"24px\">\n",
              "    <path d=\"M7,19H8.4L18.45,9,17,7.55,7,17.6ZM5,21V16.75L18.45,3.32a2,2,0,0,1,2.83,0l1.4,1.43a1.91,1.91,0,0,1,.58,1.4,1.91,1.91,0,0,1-.58,1.4L9.25,21ZM18.45,9,17,7.55Zm-12,3A5.31,5.31,0,0,0,4.9,8.1,5.31,5.31,0,0,0,1,6.5,5.31,5.31,0,0,0,4.9,4.9,5.31,5.31,0,0,0,6.5,1,5.31,5.31,0,0,0,8.1,4.9,5.31,5.31,0,0,0,12,6.5,5.46,5.46,0,0,0,6.5,12Z\"/>\n",
              "  </svg>\n",
              "    </button>\n",
              "    <script>\n",
              "      (() => {\n",
              "      const buttonEl =\n",
              "        document.querySelector('#id_e6ba657c-f95b-46bc-bc8f-1d08a36d737a button.colab-df-generate');\n",
              "      buttonEl.style.display =\n",
              "        google.colab.kernel.accessAllowed ? 'block' : 'none';\n",
              "\n",
              "      buttonEl.onclick = () => {\n",
              "        google.colab.notebook.generateWithVariable('val_dataset');\n",
              "      }\n",
              "      })();\n",
              "    </script>\n",
              "  </div>\n",
              "\n",
              "    </div>\n",
              "  </div>\n"
            ],
            "application/vnd.google.colaboratory.intrinsic+json": {
              "type": "dataframe",
              "variable_name": "val_dataset",
              "summary": "{\n  \"name\": \"val_dataset\",\n  \"rows\": 9164,\n  \"fields\": [\n    {\n      \"column\": \"id\",\n      \"properties\": {\n        \"dtype\": \"number\",\n        \"std\": 199844061191049056,\n        \"min\": 52352406893244416,\n        \"max\": 1189647303499534336,\n        \"num_unique_values\": 9164,\n        \"samples\": [\n          933693647048138752,\n          967510877535637632,\n          1129852659668803584\n        ],\n        \"semantic_type\": \"\",\n        \"description\": \"\"\n      }\n    },\n    {\n      \"column\": \"dialect\",\n      \"properties\": {\n        \"dtype\": \"category\",\n        \"num_unique_values\": 18,\n        \"samples\": [\n          \"EG\",\n          \"KW\",\n          \"LB\"\n        ],\n        \"semantic_type\": \"\",\n        \"description\": \"\"\n      }\n    },\n    {\n      \"column\": \"dialect_l_encoded\",\n      \"properties\": {\n        \"dtype\": \"number\",\n        \"std\": 5,\n        \"min\": 0,\n        \"max\": 17,\n        \"num_unique_values\": 18,\n        \"samples\": [\n          3,\n          6,\n          7\n        ],\n        \"semantic_type\": \"\",\n        \"description\": \"\"\n      }\n    },\n    {\n      \"column\": \"text\",\n      \"properties\": {\n        \"dtype\": \"string\",\n        \"num_unique_values\": 9164,\n        \"samples\": [\n          \"\\u0648\\u0627\\u0636\\u062d \\u0648\\u0627\\u0636\\u062d \\u0648\\u0636\\u0648\\u062d \\u0627\\u0644\\u0634\\u0645\\u0633 \\u0631\\u0627\\u0628\\u0637\\u0648\\u064a\\u0628\",\n          \"\\u062d\\u0633\\u0627\\u0628\\u0634\\u062e\\u0635\\u064a \\u0644\\u0627 \\u0642\\u0644\\u062a \\u0644\\u0643 \\u063a\\u062f\\u0627\\u0643 \\u0628\\u0643\\u0631\\u0647 \\u0639\\u0644\\u064a \\u0627\\u0644\\u0639\\u0634\\u0627 \\u0648\\u0634 \\u062f\\u062e\\u0644\\u0646\\u064a \\u062f\\u0628\\u0631 \\u0631\\u0648\\u062d\\u0643 \\ud83d\\ude02 \",\n          \"\\u062d\\u0633\\u0627\\u0628\\u0634\\u062e\\u0635\\u064a \\u062d\\u0633\\u0627\\u0628\\u0634\\u062e\\u0635\\u064a \\u0627\\u062d\\u0646\\u0627 \\u0627\\u0644\\u0644\\u064a \\u0645\\u0627\\u0646\\u0628\\u064a \\u0646\\u0631\\u0648\\u062d \\u0645\\u0643\\u0647 \\u062f\\u0627\\u0645 \\u0627\\u0644\\u0642\\u0644\\u0648\\u0628 \\u0645\\u0644\\u064a\\u0627\\u0646\\u0647 \\u062d\\u0642\\u062f \\u0648\\u0643\\u0631\\u0627\\u0647\\u064a\\u0647 \\u0648\\u0646\\u062e\\u0627\\u0641 \\u0639\\u0644\\u064a \\u0646\\u0641\\u0633\\u0646\\u0627 \\u0645\\u0646 \\u063a\\u062f\\u0631\\u0643\\u0645 \\u0648\\u0644\\u0627 \\u0648\\u0644\\u064a \\u0627\\u0644\\u0627\\u0645\\u0631 \\u0645\\u0627 \\u064a\\u0645\\u0646\\u0639 \\u0645\\u0648\\u0627\\u0637\\u0646\\u064a\\u0646\\u0647 \\u0645\\u0646 \\u0627\\u0644\\u062d\\u062c \\u0648\\u0644\\u0627 \\u0627\\u0644\\u0639\\u0645\\u0631 \\u0627\\u0646\\u062a\\u0648 \\u0627\\u0644\\u0644\\u064a \\u0637\\u0631\\u062f\\u0648\\u0646\\u0627 \\u0645\\u0646 \\u0628\\u064a\\u062a \\u0627\\u0644\\u0644\\u0647 \\u0648\\u0641\\u064a \\u0630\\u0645\\u062a\\u0643\\u0645 \\u0627\\u0644\\u0648\\u0633\\u064a\\u0639\\u0647 . \\u0633\\u0643\\u062a\\u0648 \\u0643\\u0644\\u0627\\u0628\\u0643\\u0645 \\u0639\\u0646 \\u0627\\u0644\\u0646\\u0628\\u062d \\u0639\\u0646 \\u0642\\u0637\\u0631 \\u0648\\u0641\\u0643\\u0648\\u0646\\u0627 \\u0645\\u0646\\u0643\\u0645 \\u0627\\u0645\\u062d\\u0642 \\u062c\\u064a\\u0631\\u0627\\u0646\"\n        ],\n        \"semantic_type\": \"\",\n        \"description\": \"\"\n      }\n    }\n  ]\n}"
            }
          },
          "metadata": {},
          "execution_count": 20
        }
      ]
    },
    {
      "cell_type": "code",
      "source": [
        "val_dataset.head()"
      ],
      "metadata": {
        "colab": {
          "base_uri": "https://localhost:8080/",
          "height": 206
        },
        "id": "c0dn-LsLER7D",
        "outputId": "24622ce2-322a-4ed6-a484-c78049500156"
      },
      "execution_count": null,
      "outputs": [
        {
          "output_type": "execute_result",
          "data": {
            "text/plain": [
              "                    id dialect  dialect_l_encoded  \\\n",
              "0   910595516496515200      EG                  3   \n",
              "1   847921262752129024      KW                  6   \n",
              "2  1138977052055560192      OM                 10   \n",
              "3   978901748604645376      SY                 15   \n",
              "4   838068478179430400      EG                  3   \n",
              "\n",
              "                                                text  \n",
              "0  حسابشخصي استاذ عبدالعزيز صارله الموضوع سنه يعن...  \n",
              "1      #كذبه_نيسان كل عام والكذاب بالف خير 😂 رابطويب  \n",
              "2                    حسابشخصي طمطم عااتي طبق جبنه 🙄   \n",
              "3  حسابشخصي حسابشخصي يمكن متلاحقين السوق بيشترون ...  \n",
              "4  حسابشخصي عيل المدرب حمار حشاك . . مالها حل ثال...  "
            ],
            "text/html": [
              "\n",
              "  <div id=\"df-03c6e103-f9f2-4158-af28-a7582305fa7f\" class=\"colab-df-container\">\n",
              "    <div>\n",
              "<style scoped>\n",
              "    .dataframe tbody tr th:only-of-type {\n",
              "        vertical-align: middle;\n",
              "    }\n",
              "\n",
              "    .dataframe tbody tr th {\n",
              "        vertical-align: top;\n",
              "    }\n",
              "\n",
              "    .dataframe thead th {\n",
              "        text-align: right;\n",
              "    }\n",
              "</style>\n",
              "<table border=\"1\" class=\"dataframe\">\n",
              "  <thead>\n",
              "    <tr style=\"text-align: right;\">\n",
              "      <th></th>\n",
              "      <th>id</th>\n",
              "      <th>dialect</th>\n",
              "      <th>dialect_l_encoded</th>\n",
              "      <th>text</th>\n",
              "    </tr>\n",
              "  </thead>\n",
              "  <tbody>\n",
              "    <tr>\n",
              "      <th>0</th>\n",
              "      <td>910595516496515200</td>\n",
              "      <td>EG</td>\n",
              "      <td>3</td>\n",
              "      <td>حسابشخصي استاذ عبدالعزيز صارله الموضوع سنه يعن...</td>\n",
              "    </tr>\n",
              "    <tr>\n",
              "      <th>1</th>\n",
              "      <td>847921262752129024</td>\n",
              "      <td>KW</td>\n",
              "      <td>6</td>\n",
              "      <td>#كذبه_نيسان كل عام والكذاب بالف خير 😂 رابطويب</td>\n",
              "    </tr>\n",
              "    <tr>\n",
              "      <th>2</th>\n",
              "      <td>1138977052055560192</td>\n",
              "      <td>OM</td>\n",
              "      <td>10</td>\n",
              "      <td>حسابشخصي طمطم عااتي طبق جبنه 🙄</td>\n",
              "    </tr>\n",
              "    <tr>\n",
              "      <th>3</th>\n",
              "      <td>978901748604645376</td>\n",
              "      <td>SY</td>\n",
              "      <td>15</td>\n",
              "      <td>حسابشخصي حسابشخصي يمكن متلاحقين السوق بيشترون ...</td>\n",
              "    </tr>\n",
              "    <tr>\n",
              "      <th>4</th>\n",
              "      <td>838068478179430400</td>\n",
              "      <td>EG</td>\n",
              "      <td>3</td>\n",
              "      <td>حسابشخصي عيل المدرب حمار حشاك . . مالها حل ثال...</td>\n",
              "    </tr>\n",
              "  </tbody>\n",
              "</table>\n",
              "</div>\n",
              "    <div class=\"colab-df-buttons\">\n",
              "\n",
              "  <div class=\"colab-df-container\">\n",
              "    <button class=\"colab-df-convert\" onclick=\"convertToInteractive('df-03c6e103-f9f2-4158-af28-a7582305fa7f')\"\n",
              "            title=\"Convert this dataframe to an interactive table.\"\n",
              "            style=\"display:none;\">\n",
              "\n",
              "  <svg xmlns=\"http://www.w3.org/2000/svg\" height=\"24px\" viewBox=\"0 -960 960 960\">\n",
              "    <path d=\"M120-120v-720h720v720H120Zm60-500h600v-160H180v160Zm220 220h160v-160H400v160Zm0 220h160v-160H400v160ZM180-400h160v-160H180v160Zm440 0h160v-160H620v160ZM180-180h160v-160H180v160Zm440 0h160v-160H620v160Z\"/>\n",
              "  </svg>\n",
              "    </button>\n",
              "\n",
              "  <style>\n",
              "    .colab-df-container {\n",
              "      display:flex;\n",
              "      gap: 12px;\n",
              "    }\n",
              "\n",
              "    .colab-df-convert {\n",
              "      background-color: #E8F0FE;\n",
              "      border: none;\n",
              "      border-radius: 50%;\n",
              "      cursor: pointer;\n",
              "      display: none;\n",
              "      fill: #1967D2;\n",
              "      height: 32px;\n",
              "      padding: 0 0 0 0;\n",
              "      width: 32px;\n",
              "    }\n",
              "\n",
              "    .colab-df-convert:hover {\n",
              "      background-color: #E2EBFA;\n",
              "      box-shadow: 0px 1px 2px rgba(60, 64, 67, 0.3), 0px 1px 3px 1px rgba(60, 64, 67, 0.15);\n",
              "      fill: #174EA6;\n",
              "    }\n",
              "\n",
              "    .colab-df-buttons div {\n",
              "      margin-bottom: 4px;\n",
              "    }\n",
              "\n",
              "    [theme=dark] .colab-df-convert {\n",
              "      background-color: #3B4455;\n",
              "      fill: #D2E3FC;\n",
              "    }\n",
              "\n",
              "    [theme=dark] .colab-df-convert:hover {\n",
              "      background-color: #434B5C;\n",
              "      box-shadow: 0px 1px 3px 1px rgba(0, 0, 0, 0.15);\n",
              "      filter: drop-shadow(0px 1px 2px rgba(0, 0, 0, 0.3));\n",
              "      fill: #FFFFFF;\n",
              "    }\n",
              "  </style>\n",
              "\n",
              "    <script>\n",
              "      const buttonEl =\n",
              "        document.querySelector('#df-03c6e103-f9f2-4158-af28-a7582305fa7f button.colab-df-convert');\n",
              "      buttonEl.style.display =\n",
              "        google.colab.kernel.accessAllowed ? 'block' : 'none';\n",
              "\n",
              "      async function convertToInteractive(key) {\n",
              "        const element = document.querySelector('#df-03c6e103-f9f2-4158-af28-a7582305fa7f');\n",
              "        const dataTable =\n",
              "          await google.colab.kernel.invokeFunction('convertToInteractive',\n",
              "                                                    [key], {});\n",
              "        if (!dataTable) return;\n",
              "\n",
              "        const docLinkHtml = 'Like what you see? Visit the ' +\n",
              "          '<a target=\"_blank\" href=https://colab.research.google.com/notebooks/data_table.ipynb>data table notebook</a>'\n",
              "          + ' to learn more about interactive tables.';\n",
              "        element.innerHTML = '';\n",
              "        dataTable['output_type'] = 'display_data';\n",
              "        await google.colab.output.renderOutput(dataTable, element);\n",
              "        const docLink = document.createElement('div');\n",
              "        docLink.innerHTML = docLinkHtml;\n",
              "        element.appendChild(docLink);\n",
              "      }\n",
              "    </script>\n",
              "  </div>\n",
              "\n",
              "\n",
              "<div id=\"df-67dcdf63-6c89-4567-b4cd-59753bf535a7\">\n",
              "  <button class=\"colab-df-quickchart\" onclick=\"quickchart('df-67dcdf63-6c89-4567-b4cd-59753bf535a7')\"\n",
              "            title=\"Suggest charts\"\n",
              "            style=\"display:none;\">\n",
              "\n",
              "<svg xmlns=\"http://www.w3.org/2000/svg\" height=\"24px\"viewBox=\"0 0 24 24\"\n",
              "     width=\"24px\">\n",
              "    <g>\n",
              "        <path d=\"M19 3H5c-1.1 0-2 .9-2 2v14c0 1.1.9 2 2 2h14c1.1 0 2-.9 2-2V5c0-1.1-.9-2-2-2zM9 17H7v-7h2v7zm4 0h-2V7h2v10zm4 0h-2v-4h2v4z\"/>\n",
              "    </g>\n",
              "</svg>\n",
              "  </button>\n",
              "\n",
              "<style>\n",
              "  .colab-df-quickchart {\n",
              "      --bg-color: #E8F0FE;\n",
              "      --fill-color: #1967D2;\n",
              "      --hover-bg-color: #E2EBFA;\n",
              "      --hover-fill-color: #174EA6;\n",
              "      --disabled-fill-color: #AAA;\n",
              "      --disabled-bg-color: #DDD;\n",
              "  }\n",
              "\n",
              "  [theme=dark] .colab-df-quickchart {\n",
              "      --bg-color: #3B4455;\n",
              "      --fill-color: #D2E3FC;\n",
              "      --hover-bg-color: #434B5C;\n",
              "      --hover-fill-color: #FFFFFF;\n",
              "      --disabled-bg-color: #3B4455;\n",
              "      --disabled-fill-color: #666;\n",
              "  }\n",
              "\n",
              "  .colab-df-quickchart {\n",
              "    background-color: var(--bg-color);\n",
              "    border: none;\n",
              "    border-radius: 50%;\n",
              "    cursor: pointer;\n",
              "    display: none;\n",
              "    fill: var(--fill-color);\n",
              "    height: 32px;\n",
              "    padding: 0;\n",
              "    width: 32px;\n",
              "  }\n",
              "\n",
              "  .colab-df-quickchart:hover {\n",
              "    background-color: var(--hover-bg-color);\n",
              "    box-shadow: 0 1px 2px rgba(60, 64, 67, 0.3), 0 1px 3px 1px rgba(60, 64, 67, 0.15);\n",
              "    fill: var(--button-hover-fill-color);\n",
              "  }\n",
              "\n",
              "  .colab-df-quickchart-complete:disabled,\n",
              "  .colab-df-quickchart-complete:disabled:hover {\n",
              "    background-color: var(--disabled-bg-color);\n",
              "    fill: var(--disabled-fill-color);\n",
              "    box-shadow: none;\n",
              "  }\n",
              "\n",
              "  .colab-df-spinner {\n",
              "    border: 2px solid var(--fill-color);\n",
              "    border-color: transparent;\n",
              "    border-bottom-color: var(--fill-color);\n",
              "    animation:\n",
              "      spin 1s steps(1) infinite;\n",
              "  }\n",
              "\n",
              "  @keyframes spin {\n",
              "    0% {\n",
              "      border-color: transparent;\n",
              "      border-bottom-color: var(--fill-color);\n",
              "      border-left-color: var(--fill-color);\n",
              "    }\n",
              "    20% {\n",
              "      border-color: transparent;\n",
              "      border-left-color: var(--fill-color);\n",
              "      border-top-color: var(--fill-color);\n",
              "    }\n",
              "    30% {\n",
              "      border-color: transparent;\n",
              "      border-left-color: var(--fill-color);\n",
              "      border-top-color: var(--fill-color);\n",
              "      border-right-color: var(--fill-color);\n",
              "    }\n",
              "    40% {\n",
              "      border-color: transparent;\n",
              "      border-right-color: var(--fill-color);\n",
              "      border-top-color: var(--fill-color);\n",
              "    }\n",
              "    60% {\n",
              "      border-color: transparent;\n",
              "      border-right-color: var(--fill-color);\n",
              "    }\n",
              "    80% {\n",
              "      border-color: transparent;\n",
              "      border-right-color: var(--fill-color);\n",
              "      border-bottom-color: var(--fill-color);\n",
              "    }\n",
              "    90% {\n",
              "      border-color: transparent;\n",
              "      border-bottom-color: var(--fill-color);\n",
              "    }\n",
              "  }\n",
              "</style>\n",
              "\n",
              "  <script>\n",
              "    async function quickchart(key) {\n",
              "      const quickchartButtonEl =\n",
              "        document.querySelector('#' + key + ' button');\n",
              "      quickchartButtonEl.disabled = true;  // To prevent multiple clicks.\n",
              "      quickchartButtonEl.classList.add('colab-df-spinner');\n",
              "      try {\n",
              "        const charts = await google.colab.kernel.invokeFunction(\n",
              "            'suggestCharts', [key], {});\n",
              "      } catch (error) {\n",
              "        console.error('Error during call to suggestCharts:', error);\n",
              "      }\n",
              "      quickchartButtonEl.classList.remove('colab-df-spinner');\n",
              "      quickchartButtonEl.classList.add('colab-df-quickchart-complete');\n",
              "    }\n",
              "    (() => {\n",
              "      let quickchartButtonEl =\n",
              "        document.querySelector('#df-67dcdf63-6c89-4567-b4cd-59753bf535a7 button');\n",
              "      quickchartButtonEl.style.display =\n",
              "        google.colab.kernel.accessAllowed ? 'block' : 'none';\n",
              "    })();\n",
              "  </script>\n",
              "</div>\n",
              "\n",
              "    </div>\n",
              "  </div>\n"
            ],
            "application/vnd.google.colaboratory.intrinsic+json": {
              "type": "dataframe",
              "variable_name": "val_dataset",
              "summary": "{\n  \"name\": \"val_dataset\",\n  \"rows\": 9164,\n  \"fields\": [\n    {\n      \"column\": \"id\",\n      \"properties\": {\n        \"dtype\": \"number\",\n        \"std\": 199844061191049056,\n        \"min\": 52352406893244416,\n        \"max\": 1189647303499534336,\n        \"num_unique_values\": 9164,\n        \"samples\": [\n          933693647048138752,\n          967510877535637632,\n          1129852659668803584\n        ],\n        \"semantic_type\": \"\",\n        \"description\": \"\"\n      }\n    },\n    {\n      \"column\": \"dialect\",\n      \"properties\": {\n        \"dtype\": \"category\",\n        \"num_unique_values\": 18,\n        \"samples\": [\n          \"EG\",\n          \"KW\",\n          \"LB\"\n        ],\n        \"semantic_type\": \"\",\n        \"description\": \"\"\n      }\n    },\n    {\n      \"column\": \"dialect_l_encoded\",\n      \"properties\": {\n        \"dtype\": \"number\",\n        \"std\": 5,\n        \"min\": 0,\n        \"max\": 17,\n        \"num_unique_values\": 18,\n        \"samples\": [\n          3,\n          6,\n          7\n        ],\n        \"semantic_type\": \"\",\n        \"description\": \"\"\n      }\n    },\n    {\n      \"column\": \"text\",\n      \"properties\": {\n        \"dtype\": \"string\",\n        \"num_unique_values\": 9164,\n        \"samples\": [\n          \"\\u0648\\u0627\\u0636\\u062d \\u0648\\u0627\\u0636\\u062d \\u0648\\u0636\\u0648\\u062d \\u0627\\u0644\\u0634\\u0645\\u0633 \\u0631\\u0627\\u0628\\u0637\\u0648\\u064a\\u0628\",\n          \"\\u062d\\u0633\\u0627\\u0628\\u0634\\u062e\\u0635\\u064a \\u0644\\u0627 \\u0642\\u0644\\u062a \\u0644\\u0643 \\u063a\\u062f\\u0627\\u0643 \\u0628\\u0643\\u0631\\u0647 \\u0639\\u0644\\u064a \\u0627\\u0644\\u0639\\u0634\\u0627 \\u0648\\u0634 \\u062f\\u062e\\u0644\\u0646\\u064a \\u062f\\u0628\\u0631 \\u0631\\u0648\\u062d\\u0643 \\ud83d\\ude02 \",\n          \"\\u062d\\u0633\\u0627\\u0628\\u0634\\u062e\\u0635\\u064a \\u062d\\u0633\\u0627\\u0628\\u0634\\u062e\\u0635\\u064a \\u0627\\u062d\\u0646\\u0627 \\u0627\\u0644\\u0644\\u064a \\u0645\\u0627\\u0646\\u0628\\u064a \\u0646\\u0631\\u0648\\u062d \\u0645\\u0643\\u0647 \\u062f\\u0627\\u0645 \\u0627\\u0644\\u0642\\u0644\\u0648\\u0628 \\u0645\\u0644\\u064a\\u0627\\u0646\\u0647 \\u062d\\u0642\\u062f \\u0648\\u0643\\u0631\\u0627\\u0647\\u064a\\u0647 \\u0648\\u0646\\u062e\\u0627\\u0641 \\u0639\\u0644\\u064a \\u0646\\u0641\\u0633\\u0646\\u0627 \\u0645\\u0646 \\u063a\\u062f\\u0631\\u0643\\u0645 \\u0648\\u0644\\u0627 \\u0648\\u0644\\u064a \\u0627\\u0644\\u0627\\u0645\\u0631 \\u0645\\u0627 \\u064a\\u0645\\u0646\\u0639 \\u0645\\u0648\\u0627\\u0637\\u0646\\u064a\\u0646\\u0647 \\u0645\\u0646 \\u0627\\u0644\\u062d\\u062c \\u0648\\u0644\\u0627 \\u0627\\u0644\\u0639\\u0645\\u0631 \\u0627\\u0646\\u062a\\u0648 \\u0627\\u0644\\u0644\\u064a \\u0637\\u0631\\u062f\\u0648\\u0646\\u0627 \\u0645\\u0646 \\u0628\\u064a\\u062a \\u0627\\u0644\\u0644\\u0647 \\u0648\\u0641\\u064a \\u0630\\u0645\\u062a\\u0643\\u0645 \\u0627\\u0644\\u0648\\u0633\\u064a\\u0639\\u0647 . \\u0633\\u0643\\u062a\\u0648 \\u0643\\u0644\\u0627\\u0628\\u0643\\u0645 \\u0639\\u0646 \\u0627\\u0644\\u0646\\u0628\\u062d \\u0639\\u0646 \\u0642\\u0637\\u0631 \\u0648\\u0641\\u0643\\u0648\\u0646\\u0627 \\u0645\\u0646\\u0643\\u0645 \\u0627\\u0645\\u062d\\u0642 \\u062c\\u064a\\u0631\\u0627\\u0646\"\n        ],\n        \"semantic_type\": \"\",\n        \"description\": \"\"\n      }\n    }\n  ]\n}"
            }
          },
          "metadata": {},
          "execution_count": 21
        }
      ]
    },
    {
      "cell_type": "code",
      "source": [
        "pip install nltk"
      ],
      "metadata": {
        "colab": {
          "base_uri": "https://localhost:8080/"
        },
        "id": "HHjFdjYC94t7",
        "outputId": "035d9c42-b50d-4a51-a4ec-14397f18c5e7"
      },
      "execution_count": null,
      "outputs": [
        {
          "output_type": "stream",
          "name": "stdout",
          "text": [
            "Requirement already satisfied: nltk in /usr/local/lib/python3.10/dist-packages (3.9.1)\n",
            "Requirement already satisfied: click in /usr/local/lib/python3.10/dist-packages (from nltk) (8.1.8)\n",
            "Requirement already satisfied: joblib in /usr/local/lib/python3.10/dist-packages (from nltk) (1.4.2)\n",
            "Requirement already satisfied: regex>=2021.8.3 in /usr/local/lib/python3.10/dist-packages (from nltk) (2024.11.6)\n",
            "Requirement already satisfied: tqdm in /usr/local/lib/python3.10/dist-packages (from nltk) (4.67.1)\n"
          ]
        }
      ]
    },
    {
      "cell_type": "code",
      "source": [
        "# def prepare_data(data):\n",
        "#     '''\n",
        "#     The function used to prepare the data we will use as features(text),\n",
        "#     and the corresponding class associated with that text.\n",
        "\n",
        "#     Argument\n",
        "#         data         : dataframe, the data you need to split into training and validation.\n",
        "\n",
        "#     Return\n",
        "#         x_train_text : list, the training data we need to train our model on, but need to prepared as numbers.\n",
        "#         x_val_text   : list, the Validation data we need to validate the model trained on, but need to prepared as numbers.\n",
        "#         y_train      : array, the corresponding label for each text.\n",
        "#         y_val        : array, the corresponding label for each text.\n",
        "#     '''\n",
        "\n",
        "#     # Get the splited training and validation datasets.\n",
        "#     # functionfrom Stratified_split_and_shuffle function defined in data_shuffling_split file\n",
        "#     x_train, x_val = Stratified_split_and_shuffle(data, \"dialect\", split_percentage=.02)\n",
        "\n",
        "#     # Separate text into lists\n",
        "#     x_train_text, x_val_text = list(x_train['text']), list(x_val['text'])\n",
        "\n",
        "#     # Separate labels into arrays as .values return numpy array\n",
        "#     y_train, y_val = x_train['dialect_l_encoded'].values, x_val['dialect_l_encoded'].values\n",
        "\n",
        "#     # Display some info after splitting\n",
        "#     print(\"The number of trainin instances: \", len(x_train_text))\n",
        "#     print(\"The number of validation instances: \",len(x_val_text))\n",
        "#     print(\"The number of trainin labels : \", len(y_train))\n",
        "#     print(\"The number of validation labels : \", len(y_val))\n",
        "\n",
        "#     return x_train_text, x_val_text, y_train, y_val"
      ],
      "metadata": {
        "id": "OQg3D2OEP3R0"
      },
      "execution_count": null,
      "outputs": []
    },
    {
      "cell_type": "markdown",
      "source": [
        "Average words in a tweet"
      ],
      "metadata": {
        "id": "LQE3hSI-vnOa"
      }
    },
    {
      "cell_type": "code",
      "source": [
        "sum = 0\n",
        "for text in new_dataset[\"text\"]:\n",
        "    sum += len(str(text).split())\n",
        "avg = sum / len(new_dataset[\"text\"])\n",
        "avg"
      ],
      "metadata": {
        "colab": {
          "base_uri": "https://localhost:8080/"
        },
        "id": "Lk2W2aZ-qxF3",
        "outputId": "9b842b45-ab42-441e-81e6-74c1795f2af1"
      },
      "execution_count": null,
      "outputs": [
        {
          "output_type": "execute_result",
          "data": {
            "text/plain": [
              "15.961004608546263"
            ]
          },
          "metadata": {},
          "execution_count": 25
        }
      ]
    },
    {
      "cell_type": "markdown",
      "source": [
        "Loading dataset"
      ],
      "metadata": {
        "id": "Ivki-GZTL8LH"
      }
    },
    {
      "cell_type": "code",
      "source": [
        "new_dataset = pd.read_csv(\"/content/dataset_preprocessed.csv\")\n",
        "val_dataset = pd.read_csv(\"/content/valdataset_preprocessed.csv\")"
      ],
      "metadata": {
        "id": "0jI-1FQ0XgaC"
      },
      "execution_count": 7,
      "outputs": []
    },
    {
      "cell_type": "markdown",
      "source": [
        "Prepare data to train"
      ],
      "metadata": {
        "id": "QAU1P3y9MiOi"
      }
    },
    {
      "cell_type": "code",
      "source": [
        "from sklearn.model_selection import train_test_split\n",
        "\n",
        "x = new_dataset[:115000].drop(\"dialect_l_encoded\", axis=1)\n",
        "y = new_dataset[:115000][\"dialect_l_encoded\"]\n",
        "x_train, x_temp, y_train, y_temp = train_test_split(x, y, test_size=0.2, stratify=y, random_state=42)\n",
        "x_val, x_test, y_val, y_test = train_test_split(x_temp, y_temp, test_size=0.5, stratify=y_temp, random_state=42)\n",
        "\n",
        "x_train = x_train[\"text\"]\n",
        "x_val = x_val[\"text\"]\n",
        "# y_train = new_dataset[\"dialect_l_encoded\"]\n",
        "# y_val = val_dataset[\"dialect_l_encoded\"]\n",
        "\n",
        "print(f\"Number of data to train: {len(x_train)}\")\n",
        "print(f\"number of data to validate: {len(x_val)}\")\n",
        "print(f\"Number of labels to train: {len(y_train)}\")\n",
        "print(f\"number of labels to validate: {len(y_val)}\")\n",
        "\n",
        "x_train_text = x_train.reset_index(drop=True)\n",
        "x_val_text = x_val.reset_index(drop=True)"
      ],
      "metadata": {
        "colab": {
          "base_uri": "https://localhost:8080/"
        },
        "id": "dKIkbJvQMIcn",
        "outputId": "714726f9-bfc8-4cde-d98a-d4916dfec218"
      },
      "execution_count": 8,
      "outputs": [
        {
          "output_type": "stream",
          "name": "stdout",
          "text": [
            "Number of data to train: 92000\n",
            "number of data to validate: 11500\n",
            "Number of labels to train: 92000\n",
            "number of labels to validate: 11500\n"
          ]
        }
      ]
    },
    {
      "cell_type": "code",
      "source": [
        "x_train_text.head()"
      ],
      "metadata": {
        "colab": {
          "base_uri": "https://localhost:8080/",
          "height": 241
        },
        "id": "dQKsZ1gZMJoQ",
        "outputId": "a26e168a-3a5b-450f-cd48-8dd1b3d0597c"
      },
      "execution_count": 9,
      "outputs": [
        {
          "output_type": "execute_result",
          "data": {
            "text/plain": [
              "0                باش نمشي لمصر توا . . . . . 🤠 رابطويب\n",
              "1    حسابشخصي حسابشخصي حسابشخصي سائده—سفرجل—سلحفاه—...\n",
              "2    ابن صفي الغالي 😍 كل عام وانت بخير ، العمر كلو ...\n",
              "3    حسابشخصي علا تعود من جديد 😂 بس اتفق معاكي اصل ...\n",
              "4    هذا مريض بس فنان . . والا فنان بس مريض ؟ 😅 راب...\n",
              "Name: text, dtype: object"
            ],
            "text/html": [
              "<div>\n",
              "<style scoped>\n",
              "    .dataframe tbody tr th:only-of-type {\n",
              "        vertical-align: middle;\n",
              "    }\n",
              "\n",
              "    .dataframe tbody tr th {\n",
              "        vertical-align: top;\n",
              "    }\n",
              "\n",
              "    .dataframe thead th {\n",
              "        text-align: right;\n",
              "    }\n",
              "</style>\n",
              "<table border=\"1\" class=\"dataframe\">\n",
              "  <thead>\n",
              "    <tr style=\"text-align: right;\">\n",
              "      <th></th>\n",
              "      <th>text</th>\n",
              "    </tr>\n",
              "  </thead>\n",
              "  <tbody>\n",
              "    <tr>\n",
              "      <th>0</th>\n",
              "      <td>باش نمشي لمصر توا . . . . . 🤠 رابطويب</td>\n",
              "    </tr>\n",
              "    <tr>\n",
              "      <th>1</th>\n",
              "      <td>حسابشخصي حسابشخصي حسابشخصي سائده—سفرجل—سلحفاه—...</td>\n",
              "    </tr>\n",
              "    <tr>\n",
              "      <th>2</th>\n",
              "      <td>ابن صفي الغالي 😍 كل عام وانت بخير ، العمر كلو ...</td>\n",
              "    </tr>\n",
              "    <tr>\n",
              "      <th>3</th>\n",
              "      <td>حسابشخصي علا تعود من جديد 😂 بس اتفق معاكي اصل ...</td>\n",
              "    </tr>\n",
              "    <tr>\n",
              "      <th>4</th>\n",
              "      <td>هذا مريض بس فنان . . والا فنان بس مريض ؟ 😅 راب...</td>\n",
              "    </tr>\n",
              "  </tbody>\n",
              "</table>\n",
              "</div><br><label><b>dtype:</b> object</label>"
            ]
          },
          "metadata": {},
          "execution_count": 9
        }
      ]
    },
    {
      "cell_type": "code",
      "source": [
        "x_val_text.head()"
      ],
      "metadata": {
        "colab": {
          "base_uri": "https://localhost:8080/",
          "height": 241
        },
        "id": "i5gWzRurMQ6_",
        "outputId": "26ce47e4-f15c-4fc4-cc2b-2ebf32cfa6b6"
      },
      "execution_count": 10,
      "outputs": [
        {
          "output_type": "execute_result",
          "data": {
            "text/plain": [
              "0    حسابشخصي هذي مويه نار ماراح يبقي له لسان يذوبه هه\n",
              "1    احدي العواقب اللي كانت عندي و اصعبها كوني انا ...\n",
              "2    تخيل علشان تدخل الحمام تدفع 5 شيكل ( 1 يورو ) ...\n",
              "3    احلي شعور لما تبدي تمارس الرياضه وجسمك مخشب . ...\n",
              "4    سبحان الله السياسه شو الها تاثير عنفسيه اللبنانين\n",
              "Name: text, dtype: object"
            ],
            "text/html": [
              "<div>\n",
              "<style scoped>\n",
              "    .dataframe tbody tr th:only-of-type {\n",
              "        vertical-align: middle;\n",
              "    }\n",
              "\n",
              "    .dataframe tbody tr th {\n",
              "        vertical-align: top;\n",
              "    }\n",
              "\n",
              "    .dataframe thead th {\n",
              "        text-align: right;\n",
              "    }\n",
              "</style>\n",
              "<table border=\"1\" class=\"dataframe\">\n",
              "  <thead>\n",
              "    <tr style=\"text-align: right;\">\n",
              "      <th></th>\n",
              "      <th>text</th>\n",
              "    </tr>\n",
              "  </thead>\n",
              "  <tbody>\n",
              "    <tr>\n",
              "      <th>0</th>\n",
              "      <td>حسابشخصي هذي مويه نار ماراح يبقي له لسان يذوبه هه</td>\n",
              "    </tr>\n",
              "    <tr>\n",
              "      <th>1</th>\n",
              "      <td>احدي العواقب اللي كانت عندي و اصعبها كوني انا ...</td>\n",
              "    </tr>\n",
              "    <tr>\n",
              "      <th>2</th>\n",
              "      <td>تخيل علشان تدخل الحمام تدفع 5 شيكل ( 1 يورو ) ...</td>\n",
              "    </tr>\n",
              "    <tr>\n",
              "      <th>3</th>\n",
              "      <td>احلي شعور لما تبدي تمارس الرياضه وجسمك مخشب . ...</td>\n",
              "    </tr>\n",
              "    <tr>\n",
              "      <th>4</th>\n",
              "      <td>سبحان الله السياسه شو الها تاثير عنفسيه اللبنانين</td>\n",
              "    </tr>\n",
              "  </tbody>\n",
              "</table>\n",
              "</div><br><label><b>dtype:</b> object</label>"
            ]
          },
          "metadata": {},
          "execution_count": 10
        }
      ]
    },
    {
      "cell_type": "code",
      "source": [
        "def display_text_before_tokenization(text_list):\n",
        "  before_tokenization = []\n",
        "  for sentence in text_list[:4]:\n",
        "    before_tokenization.append(sentence)\n",
        "  print(\"Text before tokenization\")\n",
        "  print(before_tokenization)"
      ],
      "metadata": {
        "id": "3wN4Ub6MoFqD"
      },
      "execution_count": 11,
      "outputs": []
    },
    {
      "cell_type": "markdown",
      "source": [
        "Tokenization and stemming"
      ],
      "metadata": {
        "id": "_RZwNAhyMv87"
      }
    },
    {
      "cell_type": "code",
      "source": [
        "from nltk.tokenize import TreebankWordTokenizer\n",
        "\n",
        "def treebank_tokenization(text_list):\n",
        "  display_text_before_tokenization(text_list)\n",
        "  tree_tokenizer = TreebankWordTokenizer()\n",
        "  tokenized_text = []\n",
        "  for text in text_list:\n",
        "    tokenized_text.append(tree_tokenizer.tokenize(text))\n",
        "  print(\"Text after tokenization\")\n",
        "  print(tokenized_text[:4])\n",
        "  return tokenized_text"
      ],
      "metadata": {
        "id": "dADiYEbXMrQ6"
      },
      "execution_count": 12,
      "outputs": []
    },
    {
      "cell_type": "code",
      "source": [
        "from tashaphyne.stemming import ArabicLightStemmer\n",
        "\n",
        "def arabic_porter_stemmer(text_list):\n",
        "  stemmed_text = []\n",
        "  for text in text_list:\n",
        "    stemmed_sentence = []\n",
        "    for word in text:\n",
        "      Arabic_stemmer = ArabicLightStemmer()\n",
        "      Arabic_stemmer.light_stem(word)\n",
        "      stemmed_sentence.append(Arabic_stemmer.get_stem())\n",
        "    stemmed_text.append(stemmed_sentence)\n",
        "\n",
        "  print(\"before\")\n",
        "  print(text_list[:4])\n",
        "  print(\"after\")\n",
        "  print(stemmed_text[:4])"
      ],
      "metadata": {
        "id": "kmnYOtatMu7r"
      },
      "execution_count": 13,
      "outputs": []
    },
    {
      "cell_type": "code",
      "source": [
        "tokenized_train_text = treebank_tokenization(x_train_text)\n",
        "tokenized_val_text = treebank_tokenization(x_val_text)"
      ],
      "metadata": {
        "colab": {
          "base_uri": "https://localhost:8080/"
        },
        "id": "LkffSsIAM5HX",
        "outputId": "e82b3226-b1da-4ea1-a2c3-e82ce65abe46"
      },
      "execution_count": 14,
      "outputs": [
        {
          "output_type": "stream",
          "name": "stdout",
          "text": [
            "Text before tokenization\n",
            "['باش نمشي لمصر توا . . . . . 🤠 رابطويب', 'حسابشخصي حسابشخصي حسابشخصي سائده—سفرجل—سلحفاه—سن—سوريا', 'ابن صفي الغالي 😍 كل عام وانت بخير ، العمر كلو يا رب ❤️ حسابشخصي', 'حسابشخصي علا تعود من جديد 😂 بس اتفق معاكي اصل اللي ماشي اليومين بيكون غير كدا خالص 😅 ']\n",
            "Text after tokenization\n",
            "[['باش', 'نمشي', 'لمصر', 'توا', '.', '.', '.', '.', '.', '🤠', 'رابطويب'], ['حسابشخصي', 'حسابشخصي', 'حسابشخصي', 'سائده—سفرجل—سلحفاه—سن—سوريا'], ['ابن', 'صفي', 'الغالي', '😍', 'كل', 'عام', 'وانت', 'بخير', '،', 'العمر', 'كلو', 'يا', 'رب', '❤️', 'حسابشخصي'], ['حسابشخصي', 'علا', 'تعود', 'من', 'جديد', '😂', 'بس', 'اتفق', 'معاكي', 'اصل', 'اللي', 'ماشي', 'اليومين', 'بيكون', 'غير', 'كدا', 'خالص', '😅']]\n",
            "Text before tokenization\n",
            "['حسابشخصي هذي مويه نار ماراح يبقي له لسان يذوبه هه', 'احدي العواقب اللي كانت عندي و اصعبها كوني انا من الاردن و مغترب في السعوديه و هي من الضفه و كان من المستحيل اني اقدر انزل اتقدم الها بسبب ظروف الجغرافيه و السياسيه بالمنطقه في فلسطين ! فرق العمر بينا و اللي بنظر الها المجتمع نظره اخري كونها اكبر مني ببضع سنوات ! ', 'تخيل علشان تدخل الحمام تدفع 5 شيكل ( 1 يورو ) ؟ عليم الله يصير مع الواحد امساك احسن من انه يدفعوني حق ال 💩 ', 'احلي شعور لما تبدي تمارس الرياضه وجسمك مخشب . . ترجع تحس بكل عضله بجسمك وكانه رجعتلها الحياه بس وره ما ترجع للبيت يبدي الونين 😂 # gym _ time # workout رابطويب']\n",
            "Text after tokenization\n",
            "[['حسابشخصي', 'هذي', 'مويه', 'نار', 'ماراح', 'يبقي', 'له', 'لسان', 'يذوبه', 'هه'], ['احدي', 'العواقب', 'اللي', 'كانت', 'عندي', 'و', 'اصعبها', 'كوني', 'انا', 'من', 'الاردن', 'و', 'مغترب', 'في', 'السعوديه', 'و', 'هي', 'من', 'الضفه', 'و', 'كان', 'من', 'المستحيل', 'اني', 'اقدر', 'انزل', 'اتقدم', 'الها', 'بسبب', 'ظروف', 'الجغرافيه', 'و', 'السياسيه', 'بالمنطقه', 'في', 'فلسطين', '!', 'فرق', 'العمر', 'بينا', 'و', 'اللي', 'بنظر', 'الها', 'المجتمع', 'نظره', 'اخري', 'كونها', 'اكبر', 'مني', 'ببضع', 'سنوات', '!'], ['تخيل', 'علشان', 'تدخل', 'الحمام', 'تدفع', '5', 'شيكل', '(', '1', 'يورو', ')', '؟', 'عليم', 'الله', 'يصير', 'مع', 'الواحد', 'امساك', 'احسن', 'من', 'انه', 'يدفعوني', 'حق', 'ال', '💩'], ['احلي', 'شعور', 'لما', 'تبدي', 'تمارس', 'الرياضه', 'وجسمك', 'مخشب', '.', '.', 'ترجع', 'تحس', 'بكل', 'عضله', 'بجسمك', 'وكانه', 'رجعتلها', 'الحياه', 'بس', 'وره', 'ما', 'ترجع', 'للبيت', 'يبدي', 'الونين', '😂', '#', 'gym', '_', 'time', '#', 'workout', 'رابطويب']]\n"
          ]
        }
      ]
    },
    {
      "cell_type": "code",
      "source": [
        "# stemmed_train_text = arabic_porter_stemmer(tokenized_train_text)\n",
        "# stemmed_val_text = arabic_porter_stemmer(tokenized_val_text)"
      ],
      "metadata": {
        "id": "NYe8RrFcZgd6"
      },
      "execution_count": 23,
      "outputs": []
    },
    {
      "cell_type": "code",
      "source": [
        "pip install tensorflow"
      ],
      "metadata": {
        "colab": {
          "base_uri": "https://localhost:8080/"
        },
        "id": "CXqYLJHyOUvP",
        "outputId": "de5a7526-886d-46be-934a-6180e761ded6"
      },
      "execution_count": 15,
      "outputs": [
        {
          "output_type": "stream",
          "name": "stdout",
          "text": [
            "Requirement already satisfied: tensorflow in /usr/local/lib/python3.11/dist-packages (2.17.1)\n",
            "Requirement already satisfied: absl-py>=1.0.0 in /usr/local/lib/python3.11/dist-packages (from tensorflow) (1.4.0)\n",
            "Requirement already satisfied: astunparse>=1.6.0 in /usr/local/lib/python3.11/dist-packages (from tensorflow) (1.6.3)\n",
            "Requirement already satisfied: flatbuffers>=24.3.25 in /usr/local/lib/python3.11/dist-packages (from tensorflow) (24.12.23)\n",
            "Requirement already satisfied: gast!=0.5.0,!=0.5.1,!=0.5.2,>=0.2.1 in /usr/local/lib/python3.11/dist-packages (from tensorflow) (0.6.0)\n",
            "Requirement already satisfied: google-pasta>=0.1.1 in /usr/local/lib/python3.11/dist-packages (from tensorflow) (0.2.0)\n",
            "Requirement already satisfied: h5py>=3.10.0 in /usr/local/lib/python3.11/dist-packages (from tensorflow) (3.12.1)\n",
            "Requirement already satisfied: libclang>=13.0.0 in /usr/local/lib/python3.11/dist-packages (from tensorflow) (18.1.1)\n",
            "Requirement already satisfied: ml-dtypes<0.5.0,>=0.3.1 in /usr/local/lib/python3.11/dist-packages (from tensorflow) (0.4.1)\n",
            "Requirement already satisfied: opt-einsum>=2.3.2 in /usr/local/lib/python3.11/dist-packages (from tensorflow) (3.4.0)\n",
            "Requirement already satisfied: packaging in /usr/local/lib/python3.11/dist-packages (from tensorflow) (24.2)\n",
            "Requirement already satisfied: protobuf!=4.21.0,!=4.21.1,!=4.21.2,!=4.21.3,!=4.21.4,!=4.21.5,<5.0.0dev,>=3.20.3 in /usr/local/lib/python3.11/dist-packages (from tensorflow) (4.25.5)\n",
            "Requirement already satisfied: requests<3,>=2.21.0 in /usr/local/lib/python3.11/dist-packages (from tensorflow) (2.32.3)\n",
            "Requirement already satisfied: setuptools in /usr/local/lib/python3.11/dist-packages (from tensorflow) (75.1.0)\n",
            "Requirement already satisfied: six>=1.12.0 in /usr/local/lib/python3.11/dist-packages (from tensorflow) (1.17.0)\n",
            "Requirement already satisfied: termcolor>=1.1.0 in /usr/local/lib/python3.11/dist-packages (from tensorflow) (2.5.0)\n",
            "Requirement already satisfied: typing-extensions>=3.6.6 in /usr/local/lib/python3.11/dist-packages (from tensorflow) (4.12.2)\n",
            "Requirement already satisfied: wrapt>=1.11.0 in /usr/local/lib/python3.11/dist-packages (from tensorflow) (1.17.0)\n",
            "Requirement already satisfied: grpcio<2.0,>=1.24.3 in /usr/local/lib/python3.11/dist-packages (from tensorflow) (1.69.0)\n",
            "Requirement already satisfied: tensorboard<2.18,>=2.17 in /usr/local/lib/python3.11/dist-packages (from tensorflow) (2.17.1)\n",
            "Requirement already satisfied: keras>=3.2.0 in /usr/local/lib/python3.11/dist-packages (from tensorflow) (3.5.0)\n",
            "Requirement already satisfied: tensorflow-io-gcs-filesystem>=0.23.1 in /usr/local/lib/python3.11/dist-packages (from tensorflow) (0.37.1)\n",
            "Requirement already satisfied: numpy<2.0.0,>=1.23.5 in /usr/local/lib/python3.11/dist-packages (from tensorflow) (1.26.4)\n",
            "Requirement already satisfied: wheel<1.0,>=0.23.0 in /usr/local/lib/python3.11/dist-packages (from astunparse>=1.6.0->tensorflow) (0.45.1)\n",
            "Requirement already satisfied: rich in /usr/local/lib/python3.11/dist-packages (from keras>=3.2.0->tensorflow) (13.9.4)\n",
            "Requirement already satisfied: namex in /usr/local/lib/python3.11/dist-packages (from keras>=3.2.0->tensorflow) (0.0.8)\n",
            "Requirement already satisfied: optree in /usr/local/lib/python3.11/dist-packages (from keras>=3.2.0->tensorflow) (0.13.1)\n",
            "Requirement already satisfied: charset-normalizer<4,>=2 in /usr/local/lib/python3.11/dist-packages (from requests<3,>=2.21.0->tensorflow) (3.4.1)\n",
            "Requirement already satisfied: idna<4,>=2.5 in /usr/local/lib/python3.11/dist-packages (from requests<3,>=2.21.0->tensorflow) (3.10)\n",
            "Requirement already satisfied: urllib3<3,>=1.21.1 in /usr/local/lib/python3.11/dist-packages (from requests<3,>=2.21.0->tensorflow) (2.3.0)\n",
            "Requirement already satisfied: certifi>=2017.4.17 in /usr/local/lib/python3.11/dist-packages (from requests<3,>=2.21.0->tensorflow) (2024.12.14)\n",
            "Requirement already satisfied: markdown>=2.6.8 in /usr/local/lib/python3.11/dist-packages (from tensorboard<2.18,>=2.17->tensorflow) (3.7)\n",
            "Requirement already satisfied: tensorboard-data-server<0.8.0,>=0.7.0 in /usr/local/lib/python3.11/dist-packages (from tensorboard<2.18,>=2.17->tensorflow) (0.7.2)\n",
            "Requirement already satisfied: werkzeug>=1.0.1 in /usr/local/lib/python3.11/dist-packages (from tensorboard<2.18,>=2.17->tensorflow) (3.1.3)\n",
            "Requirement already satisfied: MarkupSafe>=2.1.1 in /usr/local/lib/python3.11/dist-packages (from werkzeug>=1.0.1->tensorboard<2.18,>=2.17->tensorflow) (3.0.2)\n",
            "Requirement already satisfied: markdown-it-py>=2.2.0 in /usr/local/lib/python3.11/dist-packages (from rich->keras>=3.2.0->tensorflow) (3.0.0)\n",
            "Requirement already satisfied: pygments<3.0.0,>=2.13.0 in /usr/local/lib/python3.11/dist-packages (from rich->keras>=3.2.0->tensorflow) (2.18.0)\n",
            "Requirement already satisfied: mdurl~=0.1 in /usr/local/lib/python3.11/dist-packages (from markdown-it-py>=2.2.0->rich->keras>=3.2.0->tensorflow) (0.1.2)\n"
          ]
        }
      ]
    },
    {
      "cell_type": "markdown",
      "source": [
        "Loading the AraVec embedding model"
      ],
      "metadata": {
        "id": "U-IgDxyChq7r"
      }
    },
    {
      "cell_type": "code",
      "source": [
        "from gensim import *\n",
        "\n",
        "ara_vec = models.Word2Vec.load(\"/content/drive/MyDrive/AraVec model/full_grams_cbow_100_twitter.mdl\")\n",
        "token = \"مرحبا\""
      ],
      "metadata": {
        "id": "aqgMf_eJb0mn"
      },
      "execution_count": 16,
      "outputs": []
    },
    {
      "cell_type": "markdown",
      "source": [
        "This is the embedding of the word \"مرحبا \" every word will have a vector size of 100"
      ],
      "metadata": {
        "id": "uYjUKC_bhxN8"
      }
    },
    {
      "cell_type": "code",
      "source": [
        "ara_vec.wv[token]"
      ],
      "metadata": {
        "id": "pRcIgUJccXGE",
        "colab": {
          "base_uri": "https://localhost:8080/"
        },
        "outputId": "254eef63-b63c-449e-dc06-6f7c5f7e7452"
      },
      "execution_count": 17,
      "outputs": [
        {
          "output_type": "execute_result",
          "data": {
            "text/plain": [
              "array([ 7.8940596e-03, -1.9478461e+00,  1.1631009e-02, -3.5182920e+00,\n",
              "       -1.2167654e+00,  3.1339860e+00,  1.5371485e+00, -1.8152795e+00,\n",
              "       -1.2115160e+00, -3.5992939e+00,  2.4862409e-01,  2.7312357e+00,\n",
              "        8.0305028e-01, -4.1077638e-01, -1.6454821e+00, -1.0270128e+00,\n",
              "        2.4021879e-01, -1.9182550e+00, -4.1562691e+00, -2.7357066e-01,\n",
              "        3.6352795e-01, -5.0566471e-01, -1.8600090e+00, -3.6048862e-01,\n",
              "        2.0769353e+00,  1.6658021e-02,  2.4419727e+00, -1.1157359e+00,\n",
              "       -1.1297592e+00, -5.2575749e-01,  5.4749495e-01,  1.1458756e+00,\n",
              "        7.8666162e-01, -2.6775408e-01,  4.9869961e-01, -9.9649131e-01,\n",
              "       -1.2755750e+00, -2.9144409e-01, -1.9790000e+00, -7.6061869e-01,\n",
              "       -2.2856839e+00, -2.2579525e+00,  1.1075810e+00,  1.2388148e+00,\n",
              "       -2.0124793e-01,  7.2702956e-01,  6.1502811e-02,  1.2161491e+00,\n",
              "        1.7231876e-01, -5.2533872e-02, -2.7908528e+00, -2.1365383e+00,\n",
              "       -1.8886662e+00,  7.3253202e-01,  4.2989811e-01,  1.0156611e+00,\n",
              "       -3.5370171e-01,  6.1726186e-02, -7.0853502e-01,  1.0767945e+00,\n",
              "       -1.2942544e+00, -3.3022109e-01,  6.0169697e-01,  1.3413342e+00,\n",
              "       -7.2281032e+00,  3.3260748e-01, -8.3516157e-01, -7.5339770e-01,\n",
              "        7.9097968e-01, -3.1070046e-03, -2.2748711e+00, -2.0984866e-01,\n",
              "       -1.4758885e+00, -2.4212074e+00,  1.8787105e+00,  1.4241277e+00,\n",
              "       -3.3634238e+00,  1.1889958e+00,  3.0775642e+00, -6.7938489e-01,\n",
              "       -2.3407989e+00,  5.1415914e-01,  2.6232326e-01, -1.2634530e+00,\n",
              "       -4.7019544e+00,  8.8880885e-01,  3.4549773e+00, -3.6733248e+00,\n",
              "        1.0713350e+00, -4.4739869e-01, -2.3007927e+00,  1.7190911e-01,\n",
              "        4.7368106e-01, -5.9018075e-01, -2.6933851e+00, -2.0220284e+00,\n",
              "        4.0170094e-01,  6.0225141e-01,  1.7372146e+00, -1.1967787e+00],\n",
              "      dtype=float32)"
            ]
          },
          "metadata": {},
          "execution_count": 17
        }
      ]
    },
    {
      "cell_type": "code",
      "source": [
        "import tensorflow as tf\n",
        "print(\"Num GPUs Available: \", len(tf.config.list_physical_devices('GPU')))"
      ],
      "metadata": {
        "colab": {
          "base_uri": "https://localhost:8080/"
        },
        "id": "8n2VIXRac6xE",
        "outputId": "cac9c3d9-9be4-4d37-eb12-7b3d44b7eb2a"
      },
      "execution_count": 18,
      "outputs": [
        {
          "output_type": "stream",
          "name": "stdout",
          "text": [
            "Num GPUs Available:  1\n"
          ]
        }
      ]
    },
    {
      "cell_type": "code",
      "source": [
        "import tensorflow as tf\n",
        "\n",
        "# Verify GPU usage\n",
        "print(\"GPU Available:\", tf.config.list_physical_devices('GPU'))"
      ],
      "metadata": {
        "colab": {
          "base_uri": "https://localhost:8080/"
        },
        "id": "KSiPnyR13dCZ",
        "outputId": "b4476828-eb40-4984-93b7-be6289c4a6b5"
      },
      "execution_count": 19,
      "outputs": [
        {
          "output_type": "stream",
          "name": "stdout",
          "text": [
            "GPU Available: [PhysicalDevice(name='/physical_device:GPU:0', device_type='GPU')]\n"
          ]
        }
      ]
    },
    {
      "cell_type": "code",
      "source": [
        "from tensorflow import keras\n",
        "from keras.preprocessing.sequence import pad_sequences\n",
        "import numpy as np\n",
        "def get_embedding_matrix(text_list, maxlen, batch_size=10000):\n",
        "    cterror = 0\n",
        "    outofvocab_words = []\n",
        "    padded_batches = []\n",
        "\n",
        "    for i in range(0, len(text_list), batch_size):\n",
        "        batch = text_list[i:i+batch_size]\n",
        "        batch_embds = []\n",
        "\n",
        "        for text in batch:\n",
        "            sentence_embds = []\n",
        "            for word in text:\n",
        "                try:\n",
        "                    sentence_embds.append(ara_vec.wv[word])\n",
        "                except KeyError:\n",
        "                  if word not in outofvocab_words:\n",
        "                    outofvocab_words.append(word)\n",
        "            batch_embds.append(sentence_embds)\n",
        "\n",
        "        # Pad and store the current batch\n",
        "        padded_batches.append(pad_sequences(batch_embds, maxlen=maxlen, padding=\"post\", dtype=\"float16\"))\n",
        "\n",
        "    print(f\"Number of Out Of Vocab words: {len(outofvocab_words)}\")\n",
        "\n",
        "    # Concatenate all padded batches into one array\n",
        "    text_embds = np.vstack(padded_batches)\n",
        "    print(f\"Embedded text shape: {text_embds.shape}\")\n",
        "    return text_embds\n"
      ],
      "metadata": {
        "id": "zeojh5Ppb_iF"
      },
      "execution_count": 20,
      "outputs": []
    },
    {
      "cell_type": "markdown",
      "source": [
        "Embbeding"
      ],
      "metadata": {
        "id": "d5YBioTyxn4b"
      }
    },
    {
      "cell_type": "code",
      "source": [
        "x_train_embds = get_embedding_matrix(tokenized_train_text, 64)"
      ],
      "metadata": {
        "id": "A6zAlvaxw99p",
        "colab": {
          "base_uri": "https://localhost:8080/"
        },
        "outputId": "0fb36cb5-3d99-48cc-ff46-a3785bbb09b1"
      },
      "execution_count": 21,
      "outputs": [
        {
          "output_type": "stream",
          "name": "stdout",
          "text": [
            "Number of Out Of Vocab words: 43352\n",
            "Embedded text shape: (92000, 64, 100)\n"
          ]
        }
      ]
    },
    {
      "cell_type": "code",
      "source": [
        "x_val_embds = get_embedding_matrix(tokenized_val_text, 64)"
      ],
      "metadata": {
        "id": "EqRgGmknlyqj",
        "colab": {
          "base_uri": "https://localhost:8080/"
        },
        "outputId": "77e4ce6e-4337-4f6c-8cc3-4e23cfe33887"
      },
      "execution_count": 22,
      "outputs": [
        {
          "output_type": "stream",
          "name": "stdout",
          "text": [
            "Number of Out Of Vocab words: 6300\n",
            "Embedded text shape: (11500, 64, 100)\n"
          ]
        }
      ]
    },
    {
      "cell_type": "code",
      "source": [
        "x_train_embds.shape"
      ],
      "metadata": {
        "id": "X1Bu5TxJEjNm",
        "colab": {
          "base_uri": "https://localhost:8080/"
        },
        "outputId": "b8503c93-6df6-4abb-9ccf-d7b7a720f548"
      },
      "execution_count": 23,
      "outputs": [
        {
          "output_type": "execute_result",
          "data": {
            "text/plain": [
              "(92000, 64, 100)"
            ]
          },
          "metadata": {},
          "execution_count": 23
        }
      ]
    },
    {
      "cell_type": "code",
      "source": [
        "x_val_embds.shape"
      ],
      "metadata": {
        "id": "uxlpmTQlEpaJ",
        "colab": {
          "base_uri": "https://localhost:8080/"
        },
        "outputId": "0e1ea7c1-23f2-41d1-ed87-c3a6eda9f1fc"
      },
      "execution_count": 24,
      "outputs": [
        {
          "output_type": "execute_result",
          "data": {
            "text/plain": [
              "(11500, 64, 100)"
            ]
          },
          "metadata": {},
          "execution_count": 24
        }
      ]
    },
    {
      "cell_type": "code",
      "source": [
        "y_train = y_train.astype(\"int32\")\n",
        "# x_train_embds = x_train_embds.reshape(x_train_embds.shape[0], 64, 100)\n",
        "# x_val_embds = x_val_embds.reshape(x_val_embds.shape[0], 64, 100)\n",
        "print(y_train.shape)"
      ],
      "metadata": {
        "id": "JnM8dBRbfkLH",
        "colab": {
          "base_uri": "https://localhost:8080/"
        },
        "outputId": "a0e16663-aebf-4414-8756-56546fac77d0"
      },
      "execution_count": 25,
      "outputs": [
        {
          "output_type": "stream",
          "name": "stdout",
          "text": [
            "(92000,)\n"
          ]
        }
      ]
    },
    {
      "cell_type": "markdown",
      "source": [
        "Tokenizing and Embedding of the testing sample to calculate F1-score down bellow after each model"
      ],
      "metadata": {
        "id": "VBMnX4RhiQu5"
      }
    },
    {
      "cell_type": "code",
      "source": [
        "x_test = x_test[\"text\"]"
      ],
      "metadata": {
        "id": "7_MScTISxQ5n"
      },
      "execution_count": 26,
      "outputs": []
    },
    {
      "cell_type": "code",
      "source": [
        "x_test_tokenized = treebank_tokenization(x_test)"
      ],
      "metadata": {
        "colab": {
          "base_uri": "https://localhost:8080/"
        },
        "id": "qvy2NwR8xQ9L",
        "outputId": "53d68992-1780-4008-8e54-03faad18197b"
      },
      "execution_count": 27,
      "outputs": [
        {
          "output_type": "stream",
          "name": "stdout",
          "text": [
            "Text before tokenization\n",
            "['حسابشخصي طمع خاايب اوا ماشي بزاف اولو يخليه لولاد ولادو ♀️ ', 'حسابشخصي شو اسمو هالسوق او اسم المحل', 'ماحب المواد الي فيهم تواريخ ومادري شنو 🙂 mcm 401 ', 'حسابشخصي حسابشخصي بس اللي ما يشوف من الغربال اعمي']\n",
            "Text after tokenization\n",
            "[['حسابشخصي', 'طمع', 'خاايب', 'اوا', 'ماشي', 'بزاف', 'اولو', 'يخليه', 'لولاد', 'ولادو', '♀️'], ['حسابشخصي', 'شو', 'اسمو', 'هالسوق', 'او', 'اسم', 'المحل'], ['ماحب', 'المواد', 'الي', 'فيهم', 'تواريخ', 'ومادري', 'شنو', '🙂', 'mcm', '401'], ['حسابشخصي', 'حسابشخصي', 'بس', 'اللي', 'ما', 'يشوف', 'من', 'الغربال', 'اعمي']]\n"
          ]
        }
      ]
    },
    {
      "cell_type": "code",
      "source": [
        "x_test = get_embedding_matrix(x_test_tokenized, 64)"
      ],
      "metadata": {
        "colab": {
          "base_uri": "https://localhost:8080/"
        },
        "id": "blt_oxg5xduH",
        "outputId": "dcaf16e0-07b1-448a-ad35-f1882d6b4cae"
      },
      "execution_count": 28,
      "outputs": [
        {
          "output_type": "stream",
          "name": "stdout",
          "text": [
            "Number of Out Of Vocab words: 6205\n",
            "Embedded text shape: (11500, 64, 100)\n"
          ]
        }
      ]
    },
    {
      "cell_type": "markdown",
      "source": [
        "Models"
      ],
      "metadata": {
        "id": "xzmrQ4DFi5gh"
      }
    },
    {
      "cell_type": "markdown",
      "source": [
        "Note: There are two callbacks used one of them is early stopping which stops training the model if the validation loss didn't improve for (if patience=5) 5 epochs since the best validation reached\n",
        "\n",
        "model checkpoint saves the model when reaching better weights and continues training"
      ],
      "metadata": {
        "id": "SHkkwhlJi85i"
      }
    },
    {
      "cell_type": "markdown",
      "source": [
        "LSTM_100 batch size 128 36 f1 score"
      ],
      "metadata": {
        "id": "OeWbe96jqlm1"
      }
    },
    {
      "cell_type": "code",
      "source": [
        "from keras import layers\n",
        "from tensorflow.keras.layers import Dense, Dropout, Flatten, Embedding, LSTM, BatchNormalization\n",
        "from tensorflow.keras.optimizers import Adam\n",
        "from tensorflow.keras.callbacks import ModelCheckpoint, EarlyStopping\n",
        "\n",
        "lstm_model = keras.models.Sequential([\n",
        "    layers.Input(shape=(64, 100)),\n",
        "    LSTM(128, return_sequences=True),\n",
        "    LSTM(64, return_sequences=False),\n",
        "    layers.Dropout(0.4),\n",
        "    layers.Dense(64, activation=\"relu\", kernel_regularizer=\"l2\"),\n",
        "    layers.Dense(18, activation=\"softmax\"),\n",
        "])\n",
        "\n",
        "lstm_model.compile(loss=\"sparse_categorical_crossentropy\", optimizer=Adam(learning_rate=0.001), metrics=[\"accuracy\"])"
      ],
      "metadata": {
        "id": "5yR3f5N_Zjj2"
      },
      "execution_count": 29,
      "outputs": []
    },
    {
      "cell_type": "code",
      "source": [
        "checkpoint = ModelCheckpoint(\"LSTm_100.keras\", save_best_only=True, monitor=\"val_loss\", verbose=1)\n",
        "early_stopping = EarlyStopping(monitor=\"val_loss\", patience=5, restore_best_weights=True)\n",
        "history = lstm_model.fit(x_train_embds, y_train, batch_size=128, epochs=20, validation_data=(x_val_embds, y_val), callbacks=[checkpoint, early_stopping])\n",
        "lstm_model.save(\"LSTm_100.h5\")\n"
      ],
      "metadata": {
        "id": "arPuahyPMVwB",
        "colab": {
          "base_uri": "https://localhost:8080/"
        },
        "outputId": "da7c53d7-f95a-4686-df5e-c8aaa647437b"
      },
      "execution_count": 30,
      "outputs": [
        {
          "output_type": "stream",
          "name": "stdout",
          "text": [
            "Epoch 1/20\n",
            "\u001b[1m716/719\u001b[0m \u001b[32m━━━━━━━━━━━━━━━━━━━\u001b[0m\u001b[37m━\u001b[0m \u001b[1m0s\u001b[0m 13ms/step - accuracy: 0.1676 - loss: 2.8728\n",
            "Epoch 1: val_loss improved from inf to 2.41612, saving model to LSTm_100.keras\n",
            "\u001b[1m719/719\u001b[0m \u001b[32m━━━━━━━━━━━━━━━━━━━━\u001b[0m\u001b[37m\u001b[0m \u001b[1m18s\u001b[0m 16ms/step - accuracy: 0.1678 - loss: 2.8715 - val_accuracy: 0.2189 - val_loss: 2.4161\n",
            "Epoch 2/20\n",
            "\u001b[1m716/719\u001b[0m \u001b[32m━━━━━━━━━━━━━━━━━━━\u001b[0m\u001b[37m━\u001b[0m \u001b[1m0s\u001b[0m 15ms/step - accuracy: 0.2442 - loss: 2.3533\n",
            "Epoch 2: val_loss improved from 2.41612 to 2.28908, saving model to LSTm_100.keras\n",
            "\u001b[1m719/719\u001b[0m \u001b[32m━━━━━━━━━━━━━━━━━━━━\u001b[0m\u001b[37m\u001b[0m \u001b[1m11s\u001b[0m 15ms/step - accuracy: 0.2443 - loss: 2.3532 - val_accuracy: 0.2544 - val_loss: 2.2891\n",
            "Epoch 3/20\n",
            "\u001b[1m719/719\u001b[0m \u001b[32m━━━━━━━━━━━━━━━━━━━━\u001b[0m\u001b[37m\u001b[0m \u001b[1m0s\u001b[0m 11ms/step - accuracy: 0.2622 - loss: 2.2569\n",
            "Epoch 3: val_loss improved from 2.28908 to 2.20206, saving model to LSTm_100.keras\n",
            "\u001b[1m719/719\u001b[0m \u001b[32m━━━━━━━━━━━━━━━━━━━━\u001b[0m\u001b[37m\u001b[0m \u001b[1m9s\u001b[0m 12ms/step - accuracy: 0.2623 - loss: 2.2569 - val_accuracy: 0.2769 - val_loss: 2.2021\n",
            "Epoch 4/20\n",
            "\u001b[1m718/719\u001b[0m \u001b[32m━━━━━━━━━━━━━━━━━━━\u001b[0m\u001b[37m━\u001b[0m \u001b[1m0s\u001b[0m 13ms/step - accuracy: 0.2830 - loss: 2.1831\n",
            "Epoch 4: val_loss improved from 2.20206 to 2.10703, saving model to LSTm_100.keras\n",
            "\u001b[1m719/719\u001b[0m \u001b[32m━━━━━━━━━━━━━━━━━━━━\u001b[0m\u001b[37m\u001b[0m \u001b[1m11s\u001b[0m 14ms/step - accuracy: 0.2830 - loss: 2.1831 - val_accuracy: 0.3115 - val_loss: 2.1070\n",
            "Epoch 5/20\n",
            "\u001b[1m719/719\u001b[0m \u001b[32m━━━━━━━━━━━━━━━━━━━━\u001b[0m\u001b[37m\u001b[0m \u001b[1m0s\u001b[0m 13ms/step - accuracy: 0.3158 - loss: 2.0933\n",
            "Epoch 5: val_loss improved from 2.10703 to 2.06631, saving model to LSTm_100.keras\n",
            "\u001b[1m719/719\u001b[0m \u001b[32m━━━━━━━━━━━━━━━━━━━━\u001b[0m\u001b[37m\u001b[0m \u001b[1m10s\u001b[0m 14ms/step - accuracy: 0.3158 - loss: 2.0932 - val_accuracy: 0.3254 - val_loss: 2.0663\n",
            "Epoch 6/20\n",
            "\u001b[1m718/719\u001b[0m \u001b[32m━━━━━━━━━━━━━━━━━━━\u001b[0m\u001b[37m━\u001b[0m \u001b[1m0s\u001b[0m 11ms/step - accuracy: 0.3376 - loss: 2.0267\n",
            "Epoch 6: val_loss improved from 2.06631 to 2.04699, saving model to LSTm_100.keras\n",
            "\u001b[1m719/719\u001b[0m \u001b[32m━━━━━━━━━━━━━━━━━━━━\u001b[0m\u001b[37m\u001b[0m \u001b[1m9s\u001b[0m 12ms/step - accuracy: 0.3376 - loss: 2.0267 - val_accuracy: 0.3376 - val_loss: 2.0470\n",
            "Epoch 7/20\n",
            "\u001b[1m715/719\u001b[0m \u001b[32m━━━━━━━━━━━━━━━━━━━\u001b[0m\u001b[37m━\u001b[0m \u001b[1m0s\u001b[0m 12ms/step - accuracy: 0.3611 - loss: 1.9711\n",
            "Epoch 7: val_loss improved from 2.04699 to 1.97212, saving model to LSTm_100.keras\n",
            "\u001b[1m719/719\u001b[0m \u001b[32m━━━━━━━━━━━━━━━━━━━━\u001b[0m\u001b[37m\u001b[0m \u001b[1m10s\u001b[0m 13ms/step - accuracy: 0.3612 - loss: 1.9710 - val_accuracy: 0.3567 - val_loss: 1.9721\n",
            "Epoch 8/20\n",
            "\u001b[1m716/719\u001b[0m \u001b[32m━━━━━━━━━━━━━━━━━━━\u001b[0m\u001b[37m━\u001b[0m \u001b[1m0s\u001b[0m 13ms/step - accuracy: 0.3835 - loss: 1.8949\n",
            "Epoch 8: val_loss improved from 1.97212 to 1.92455, saving model to LSTm_100.keras\n",
            "\u001b[1m719/719\u001b[0m \u001b[32m━━━━━━━━━━━━━━━━━━━━\u001b[0m\u001b[37m\u001b[0m \u001b[1m10s\u001b[0m 14ms/step - accuracy: 0.3835 - loss: 1.8949 - val_accuracy: 0.3819 - val_loss: 1.9246\n",
            "Epoch 9/20\n",
            "\u001b[1m719/719\u001b[0m \u001b[32m━━━━━━━━━━━━━━━━━━━━\u001b[0m\u001b[37m\u001b[0m \u001b[1m0s\u001b[0m 12ms/step - accuracy: 0.4030 - loss: 1.8495\n",
            "Epoch 9: val_loss improved from 1.92455 to 1.90023, saving model to LSTm_100.keras\n",
            "\u001b[1m719/719\u001b[0m \u001b[32m━━━━━━━━━━━━━━━━━━━━\u001b[0m\u001b[37m\u001b[0m \u001b[1m10s\u001b[0m 13ms/step - accuracy: 0.4030 - loss: 1.8495 - val_accuracy: 0.3923 - val_loss: 1.9002\n",
            "Epoch 10/20\n",
            "\u001b[1m715/719\u001b[0m \u001b[32m━━━━━━━━━━━━━━━━━━━\u001b[0m\u001b[37m━\u001b[0m \u001b[1m0s\u001b[0m 11ms/step - accuracy: 0.4243 - loss: 1.7918\n",
            "Epoch 10: val_loss improved from 1.90023 to 1.88650, saving model to LSTm_100.keras\n",
            "\u001b[1m719/719\u001b[0m \u001b[32m━━━━━━━━━━━━━━━━━━━━\u001b[0m\u001b[37m\u001b[0m \u001b[1m9s\u001b[0m 12ms/step - accuracy: 0.4243 - loss: 1.7919 - val_accuracy: 0.4019 - val_loss: 1.8865\n",
            "Epoch 11/20\n",
            "\u001b[1m715/719\u001b[0m \u001b[32m━━━━━━━━━━━━━━━━━━━\u001b[0m\u001b[37m━\u001b[0m \u001b[1m0s\u001b[0m 13ms/step - accuracy: 0.4363 - loss: 1.7541\n",
            "Epoch 11: val_loss improved from 1.88650 to 1.87514, saving model to LSTm_100.keras\n",
            "\u001b[1m719/719\u001b[0m \u001b[32m━━━━━━━━━━━━━━━━━━━━\u001b[0m\u001b[37m\u001b[0m \u001b[1m10s\u001b[0m 14ms/step - accuracy: 0.4362 - loss: 1.7542 - val_accuracy: 0.4058 - val_loss: 1.8751\n",
            "Epoch 12/20\n",
            "\u001b[1m718/719\u001b[0m \u001b[32m━━━━━━━━━━━━━━━━━━━\u001b[0m\u001b[37m━\u001b[0m \u001b[1m0s\u001b[0m 13ms/step - accuracy: 0.4521 - loss: 1.6980\n",
            "Epoch 12: val_loss did not improve from 1.87514\n",
            "\u001b[1m719/719\u001b[0m \u001b[32m━━━━━━━━━━━━━━━━━━━━\u001b[0m\u001b[37m\u001b[0m \u001b[1m11s\u001b[0m 15ms/step - accuracy: 0.4521 - loss: 1.6981 - val_accuracy: 0.4083 - val_loss: 1.8775\n",
            "Epoch 13/20\n",
            "\u001b[1m716/719\u001b[0m \u001b[32m━━━━━━━━━━━━━━━━━━━\u001b[0m\u001b[37m━\u001b[0m \u001b[1m0s\u001b[0m 13ms/step - accuracy: 0.4656 - loss: 1.6673\n",
            "Epoch 13: val_loss did not improve from 1.87514\n",
            "\u001b[1m719/719\u001b[0m \u001b[32m━━━━━━━━━━━━━━━━━━━━\u001b[0m\u001b[37m\u001b[0m \u001b[1m20s\u001b[0m 14ms/step - accuracy: 0.4656 - loss: 1.6673 - val_accuracy: 0.4061 - val_loss: 1.8799\n",
            "Epoch 14/20\n",
            "\u001b[1m716/719\u001b[0m \u001b[32m━━━━━━━━━━━━━━━━━━━\u001b[0m\u001b[37m━\u001b[0m \u001b[1m0s\u001b[0m 13ms/step - accuracy: 0.4768 - loss: 1.6208\n",
            "Epoch 14: val_loss did not improve from 1.87514\n",
            "\u001b[1m719/719\u001b[0m \u001b[32m━━━━━━━━━━━━━━━━━━━━\u001b[0m\u001b[37m\u001b[0m \u001b[1m10s\u001b[0m 14ms/step - accuracy: 0.4768 - loss: 1.6209 - val_accuracy: 0.4110 - val_loss: 1.8804\n",
            "Epoch 15/20\n",
            "\u001b[1m719/719\u001b[0m \u001b[32m━━━━━━━━━━━━━━━━━━━━\u001b[0m\u001b[37m\u001b[0m \u001b[1m0s\u001b[0m 12ms/step - accuracy: 0.4897 - loss: 1.5836\n",
            "Epoch 15: val_loss did not improve from 1.87514\n",
            "\u001b[1m719/719\u001b[0m \u001b[32m━━━━━━━━━━━━━━━━━━━━\u001b[0m\u001b[37m\u001b[0m \u001b[1m9s\u001b[0m 13ms/step - accuracy: 0.4897 - loss: 1.5836 - val_accuracy: 0.4129 - val_loss: 1.8995\n",
            "Epoch 16/20\n",
            "\u001b[1m717/719\u001b[0m \u001b[32m━━━━━━━━━━━━━━━━━━━\u001b[0m\u001b[37m━\u001b[0m \u001b[1m0s\u001b[0m 12ms/step - accuracy: 0.5002 - loss: 1.5520\n",
            "Epoch 16: val_loss did not improve from 1.87514\n",
            "\u001b[1m719/719\u001b[0m \u001b[32m━━━━━━━━━━━━━━━━━━━━\u001b[0m\u001b[37m\u001b[0m \u001b[1m9s\u001b[0m 13ms/step - accuracy: 0.5002 - loss: 1.5520 - val_accuracy: 0.4137 - val_loss: 1.8936\n"
          ]
        },
        {
          "output_type": "stream",
          "name": "stderr",
          "text": [
            "WARNING:absl:You are saving your model as an HDF5 file via `model.save()` or `keras.saving.save_model(model)`. This file format is considered legacy. We recommend using instead the native Keras format, e.g. `model.save('my_model.keras')` or `keras.saving.save_model(model, 'my_model.keras')`. \n"
          ]
        }
      ]
    },
    {
      "cell_type": "code",
      "source": [
        "from sklearn.metrics import f1_score\n",
        "y_pred = np.argmax(lstm_model.predict(x_test), axis=1)\n",
        "f1 = f1_score(y_test, y_pred, average='weighted')  # 'weighted' for multi-class, 'binary' for binary\n",
        "print(\"F1-Score:\", round(f1, 5))"
      ],
      "metadata": {
        "colab": {
          "base_uri": "https://localhost:8080/"
        },
        "id": "9U-zsj2nrW8h",
        "outputId": "2f9d7e28-8735-4841-989d-330cf07463f5"
      },
      "execution_count": 35,
      "outputs": [
        {
          "output_type": "stream",
          "name": "stdout",
          "text": [
            "\u001b[1m360/360\u001b[0m \u001b[32m━━━━━━━━━━━━━━━━━━━━\u001b[0m\u001b[37m\u001b[0m \u001b[1m1s\u001b[0m 3ms/step\n",
            "F1-Score: 0.367\n"
          ]
        }
      ]
    },
    {
      "cell_type": "markdown",
      "source": [
        "LSTM_2 batch size 256 42 f1-score"
      ],
      "metadata": {
        "id": "jAoCtUZOqV0J"
      }
    },
    {
      "cell_type": "code",
      "source": [
        "from keras import layers\n",
        "from tensorflow.keras.layers import Dense, Dropout, Flatten, Embedding, LSTM, BatchNormalization\n",
        "from tensorflow.keras.optimizers import Adam\n",
        "from tensorflow.keras.callbacks import ModelCheckpoint, EarlyStopping\n",
        "\n",
        "lstm_model2 = keras.models.Sequential([\n",
        "    layers.Input(shape=(64, 100)),\n",
        "    LSTM(256, return_sequences=True),\n",
        "    LSTM(128, return_sequences=False),\n",
        "    layers.Dropout(0.2),\n",
        "    layers.Dense(18, activation=\"softmax\"),\n",
        "])\n",
        "\n",
        "lstm_model2.compile(loss=\"sparse_categorical_crossentropy\", optimizer=Adam(learning_rate=0.0004), metrics=[\"accuracy\"])"
      ],
      "metadata": {
        "id": "B1QOH5dhu8Kk"
      },
      "execution_count": 39,
      "outputs": []
    },
    {
      "cell_type": "code",
      "source": [
        "checkpoint = ModelCheckpoint(\"LSTM_2.keras\", save_best_only=True, monitor=\"val_loss\", verbose=1)\n",
        "early_stopping = EarlyStopping(monitor=\"val_loss\", patience=5, restore_best_weights=True)\n",
        "history = lstm_model2.fit(x_train_embds, y_train, batch_size=128, epochs=20, validation_data=(x_val_embds, y_val), callbacks=[checkpoint, early_stopping])\n",
        "lstm_model2.save(\"LSTM_2.h5\")"
      ],
      "metadata": {
        "id": "t0L5w_Qvu8Tp",
        "colab": {
          "base_uri": "https://localhost:8080/"
        },
        "outputId": "7e5b01f3-6030-41d3-952d-8e17580d939f"
      },
      "execution_count": 40,
      "outputs": [
        {
          "output_type": "stream",
          "name": "stdout",
          "text": [
            "Epoch 1/20\n",
            "\u001b[1m716/719\u001b[0m \u001b[32m━━━━━━━━━━━━━━━━━━━\u001b[0m\u001b[37m━\u001b[0m \u001b[1m0s\u001b[0m 18ms/step - accuracy: 0.2066 - loss: 2.4790\n",
            "Epoch 1: val_loss improved from inf to 2.15180, saving model to LSTM_2.keras\n",
            "\u001b[1m719/719\u001b[0m \u001b[32m━━━━━━━━━━━━━━━━━━━━\u001b[0m\u001b[37m\u001b[0m \u001b[1m22s\u001b[0m 22ms/step - accuracy: 0.2069 - loss: 2.4782 - val_accuracy: 0.2943 - val_loss: 2.1518\n",
            "Epoch 2/20\n",
            "\u001b[1m718/719\u001b[0m \u001b[32m━━━━━━━━━━━━━━━━━━━\u001b[0m\u001b[37m━\u001b[0m \u001b[1m0s\u001b[0m 19ms/step - accuracy: 0.3080 - loss: 2.1004\n",
            "Epoch 2: val_loss improved from 2.15180 to 1.97563, saving model to LSTM_2.keras\n",
            "\u001b[1m719/719\u001b[0m \u001b[32m━━━━━━━━━━━━━━━━━━━━\u001b[0m\u001b[37m\u001b[0m \u001b[1m15s\u001b[0m 21ms/step - accuracy: 0.3080 - loss: 2.1003 - val_accuracy: 0.3521 - val_loss: 1.9756\n",
            "Epoch 3/20\n",
            "\u001b[1m717/719\u001b[0m \u001b[32m━━━━━━━━━━━━━━━━━━━\u001b[0m\u001b[37m━\u001b[0m \u001b[1m0s\u001b[0m 18ms/step - accuracy: 0.3677 - loss: 1.9528\n",
            "Epoch 3: val_loss improved from 1.97563 to 1.88946, saving model to LSTM_2.keras\n",
            "\u001b[1m719/719\u001b[0m \u001b[32m━━━━━━━━━━━━━━━━━━━━\u001b[0m\u001b[37m\u001b[0m \u001b[1m19s\u001b[0m 19ms/step - accuracy: 0.3677 - loss: 1.9527 - val_accuracy: 0.3956 - val_loss: 1.8895\n",
            "Epoch 4/20\n",
            "\u001b[1m719/719\u001b[0m \u001b[32m━━━━━━━━━━━━━━━━━━━━\u001b[0m\u001b[37m\u001b[0m \u001b[1m0s\u001b[0m 18ms/step - accuracy: 0.4021 - loss: 1.8519\n",
            "Epoch 4: val_loss improved from 1.88946 to 1.85142, saving model to LSTM_2.keras\n",
            "\u001b[1m719/719\u001b[0m \u001b[32m━━━━━━━━━━━━━━━━━━━━\u001b[0m\u001b[37m\u001b[0m \u001b[1m14s\u001b[0m 19ms/step - accuracy: 0.4021 - loss: 1.8519 - val_accuracy: 0.4045 - val_loss: 1.8514\n",
            "Epoch 5/20\n",
            "\u001b[1m719/719\u001b[0m \u001b[32m━━━━━━━━━━━━━━━━━━━━\u001b[0m\u001b[37m\u001b[0m \u001b[1m0s\u001b[0m 18ms/step - accuracy: 0.4273 - loss: 1.7823\n",
            "Epoch 5: val_loss improved from 1.85142 to 1.82583, saving model to LSTM_2.keras\n",
            "\u001b[1m719/719\u001b[0m \u001b[32m━━━━━━━━━━━━━━━━━━━━\u001b[0m\u001b[37m\u001b[0m \u001b[1m21s\u001b[0m 20ms/step - accuracy: 0.4273 - loss: 1.7823 - val_accuracy: 0.4172 - val_loss: 1.8258\n",
            "Epoch 6/20\n",
            "\u001b[1m717/719\u001b[0m \u001b[32m━━━━━━━━━━━━━━━━━━━\u001b[0m\u001b[37m━\u001b[0m \u001b[1m0s\u001b[0m 18ms/step - accuracy: 0.4464 - loss: 1.7216\n",
            "Epoch 6: val_loss improved from 1.82583 to 1.78503, saving model to LSTM_2.keras\n",
            "\u001b[1m719/719\u001b[0m \u001b[32m━━━━━━━━━━━━━━━━━━━━\u001b[0m\u001b[37m\u001b[0m \u001b[1m14s\u001b[0m 19ms/step - accuracy: 0.4464 - loss: 1.7216 - val_accuracy: 0.4316 - val_loss: 1.7850\n",
            "Epoch 7/20\n",
            "\u001b[1m717/719\u001b[0m \u001b[32m━━━━━━━━━━━━━━━━━━━\u001b[0m\u001b[37m━\u001b[0m \u001b[1m0s\u001b[0m 18ms/step - accuracy: 0.4686 - loss: 1.6621\n",
            "Epoch 7: val_loss improved from 1.78503 to 1.76920, saving model to LSTM_2.keras\n",
            "\u001b[1m719/719\u001b[0m \u001b[32m━━━━━━━━━━━━━━━━━━━━\u001b[0m\u001b[37m\u001b[0m \u001b[1m14s\u001b[0m 19ms/step - accuracy: 0.4686 - loss: 1.6621 - val_accuracy: 0.4373 - val_loss: 1.7692\n",
            "Epoch 8/20\n",
            "\u001b[1m716/719\u001b[0m \u001b[32m━━━━━━━━━━━━━━━━━━━\u001b[0m\u001b[37m━\u001b[0m \u001b[1m0s\u001b[0m 19ms/step - accuracy: 0.4905 - loss: 1.5944\n",
            "Epoch 8: val_loss improved from 1.76920 to 1.75670, saving model to LSTM_2.keras\n",
            "\u001b[1m719/719\u001b[0m \u001b[32m━━━━━━━━━━━━━━━━━━━━\u001b[0m\u001b[37m\u001b[0m \u001b[1m21s\u001b[0m 20ms/step - accuracy: 0.4905 - loss: 1.5944 - val_accuracy: 0.4463 - val_loss: 1.7567\n",
            "Epoch 9/20\n",
            "\u001b[1m718/719\u001b[0m \u001b[32m━━━━━━━━━━━━━━━━━━━\u001b[0m\u001b[37m━\u001b[0m \u001b[1m0s\u001b[0m 19ms/step - accuracy: 0.5071 - loss: 1.5427\n",
            "Epoch 9: val_loss improved from 1.75670 to 1.74915, saving model to LSTM_2.keras\n",
            "\u001b[1m719/719\u001b[0m \u001b[32m━━━━━━━━━━━━━━━━━━━━\u001b[0m\u001b[37m\u001b[0m \u001b[1m21s\u001b[0m 20ms/step - accuracy: 0.5071 - loss: 1.5427 - val_accuracy: 0.4476 - val_loss: 1.7491\n",
            "Epoch 10/20\n",
            "\u001b[1m716/719\u001b[0m \u001b[32m━━━━━━━━━━━━━━━━━━━\u001b[0m\u001b[37m━\u001b[0m \u001b[1m0s\u001b[0m 19ms/step - accuracy: 0.5235 - loss: 1.4892\n",
            "Epoch 10: val_loss did not improve from 1.74915\n",
            "\u001b[1m719/719\u001b[0m \u001b[32m━━━━━━━━━━━━━━━━━━━━\u001b[0m\u001b[37m\u001b[0m \u001b[1m20s\u001b[0m 20ms/step - accuracy: 0.5235 - loss: 1.4893 - val_accuracy: 0.4563 - val_loss: 1.7609\n",
            "Epoch 11/20\n",
            "\u001b[1m718/719\u001b[0m \u001b[32m━━━━━━━━━━━━━━━━━━━\u001b[0m\u001b[37m━\u001b[0m \u001b[1m0s\u001b[0m 19ms/step - accuracy: 0.5376 - loss: 1.4400\n",
            "Epoch 11: val_loss did not improve from 1.74915\n",
            "\u001b[1m719/719\u001b[0m \u001b[32m━━━━━━━━━━━━━━━━━━━━\u001b[0m\u001b[37m\u001b[0m \u001b[1m14s\u001b[0m 20ms/step - accuracy: 0.5376 - loss: 1.4401 - val_accuracy: 0.4544 - val_loss: 1.7740\n",
            "Epoch 12/20\n",
            "\u001b[1m718/719\u001b[0m \u001b[32m━━━━━━━━━━━━━━━━━━━\u001b[0m\u001b[37m━\u001b[0m \u001b[1m0s\u001b[0m 19ms/step - accuracy: 0.5594 - loss: 1.3839\n",
            "Epoch 12: val_loss did not improve from 1.74915\n",
            "\u001b[1m719/719\u001b[0m \u001b[32m━━━━━━━━━━━━━━━━━━━━\u001b[0m\u001b[37m\u001b[0m \u001b[1m21s\u001b[0m 20ms/step - accuracy: 0.5593 - loss: 1.3839 - val_accuracy: 0.4537 - val_loss: 1.7790\n",
            "Epoch 13/20\n",
            "\u001b[1m717/719\u001b[0m \u001b[32m━━━━━━━━━━━━━━━━━━━\u001b[0m\u001b[37m━\u001b[0m \u001b[1m0s\u001b[0m 20ms/step - accuracy: 0.5784 - loss: 1.3267\n",
            "Epoch 13: val_loss did not improve from 1.74915\n",
            "\u001b[1m719/719\u001b[0m \u001b[32m━━━━━━━━━━━━━━━━━━━━\u001b[0m\u001b[37m\u001b[0m \u001b[1m21s\u001b[0m 21ms/step - accuracy: 0.5784 - loss: 1.3268 - val_accuracy: 0.4484 - val_loss: 1.8281\n",
            "Epoch 14/20\n",
            "\u001b[1m716/719\u001b[0m \u001b[32m━━━━━━━━━━━━━━━━━━━\u001b[0m\u001b[37m━\u001b[0m \u001b[1m0s\u001b[0m 19ms/step - accuracy: 0.5961 - loss: 1.2674\n",
            "Epoch 14: val_loss did not improve from 1.74915\n",
            "\u001b[1m719/719\u001b[0m \u001b[32m━━━━━━━━━━━━━━━━━━━━\u001b[0m\u001b[37m\u001b[0m \u001b[1m19s\u001b[0m 20ms/step - accuracy: 0.5961 - loss: 1.2676 - val_accuracy: 0.4556 - val_loss: 1.8566\n"
          ]
        },
        {
          "output_type": "stream",
          "name": "stderr",
          "text": [
            "WARNING:absl:You are saving your model as an HDF5 file via `model.save()` or `keras.saving.save_model(model)`. This file format is considered legacy. We recommend using instead the native Keras format, e.g. `model.save('my_model.keras')` or `keras.saving.save_model(model, 'my_model.keras')`. \n"
          ]
        }
      ]
    },
    {
      "cell_type": "markdown",
      "source": [
        "just changing differrent names of models to save"
      ],
      "metadata": {
        "id": "xA8oxGrV5o7o"
      }
    },
    {
      "cell_type": "code",
      "source": [
        "from sklearn.metrics import f1_score\n",
        "y_pred = np.argmax(lstm_model2.predict(x_test), axis=1)\n",
        "f1 = f1_score(y_test, y_pred, average='weighted')  # 'weighted' for multi-class, 'binary' for binary\n",
        "print(\"F1-Score:\", f1)"
      ],
      "metadata": {
        "id": "5iaiI9GQv2tK",
        "colab": {
          "base_uri": "https://localhost:8080/"
        },
        "outputId": "8ecdf23c-b0b6-4e17-e32d-dca440a2a78a"
      },
      "execution_count": 41,
      "outputs": [
        {
          "output_type": "stream",
          "name": "stdout",
          "text": [
            "\u001b[1m360/360\u001b[0m \u001b[32m━━━━━━━━━━━━━━━━━━━━\u001b[0m\u001b[37m\u001b[0m \u001b[1m2s\u001b[0m 5ms/step\n",
            "F1-Score: 0.4228627849918556\n"
          ]
        }
      ]
    },
    {
      "cell_type": "markdown",
      "source": [
        "LSTM_3.h5"
      ],
      "metadata": {
        "id": "B-lam91PBw72"
      }
    },
    {
      "cell_type": "code",
      "source": [
        "from keras import layers\n",
        "from tensorflow.keras.layers import Dense, Dropout, Flatten, Embedding, LSTM, BatchNormalization\n",
        "from tensorflow.keras.optimizers import Adam\n",
        "from tensorflow.keras.callbacks import ModelCheckpoint, EarlyStopping\n",
        "\n",
        "lstm_model3 = keras.models.Sequential([\n",
        "    layers.Input(shape=(64, 100)),\n",
        "    LSTM(256, return_sequences=True, recurrent_dropout=0.2),\n",
        "    LSTM(128, return_sequences=False, recurrent_dropout=0.2),\n",
        "    layers.Dropout(0.2),\n",
        "    layers.Dense(18, activation=\"softmax\"),\n",
        "])\n",
        "\n",
        "lstm_model3.compile(loss=\"sparse_categorical_crossentropy\", optimizer=Adam(learning_rate=0.0004), metrics=[\"accuracy\"])"
      ],
      "metadata": {
        "id": "xA9GuC6xB0Gr"
      },
      "execution_count": null,
      "outputs": []
    },
    {
      "cell_type": "code",
      "source": [
        "checkpoint = ModelCheckpoint(\"LSTM_3.keras\", save_best_only=True, monitor=\"val_loss\", verbose=1)\n",
        "early_stopping = EarlyStopping(monitor=\"val_loss\", patience=5, restore_best_weights=True)\n",
        "history = lstm_model2.fit(x_train_embds, y_train, batch_size=256, epochs=20, validation_data=(x_val_embds, y_val), callbacks=[checkpoint, early_stopping])\n",
        "lstm_model2.save(\"LSTM_3.h5\")"
      ],
      "metadata": {
        "id": "PUb4b7_mB0Xk"
      },
      "execution_count": null,
      "outputs": []
    },
    {
      "cell_type": "code",
      "source": [
        "lstm_model2.save(\"LSTM_2.h5\")"
      ],
      "metadata": {
        "id": "3WsIEyQc-cek"
      },
      "execution_count": null,
      "outputs": []
    },
    {
      "cell_type": "markdown",
      "source": [
        "LSTM with self attention 2"
      ],
      "metadata": {
        "id": "vXUESDqX7l1Q"
      }
    },
    {
      "cell_type": "code",
      "source": [
        "from keras import layers, Model\n",
        "from tensorflow.keras.layers import Dense, Dropout, Flatten, Embedding, LSTM, BatchNormalization, Attention\n",
        "from tensorflow.keras.optimizers import Adam\n",
        "from tensorflow.keras.callbacks import ModelCheckpoint, EarlyStopping\n",
        "\n",
        "inputs = layers.Input(shape=(64, 100))\n",
        "lstm_layer = LSTM(256, return_sequences=True, recurrent_dropout=0.2)(inputs)\n",
        "lstm_attention = Attention()([lstm_layer, lstm_layer])\n",
        "lstm2_layer = LSTM(128, return_sequences=False)(lstm_attention)\n",
        "model_layers = Dropout(0.4)(lstm2_layer)\n",
        "outputs = Dense(18, activation=\"softmax\")(model_layers)\n",
        "\n",
        "lstm_model5 = Model(inputs=inputs, outputs=outputs)\n",
        "\n",
        "lstm_model5.compile(loss=\"sparse_categorical_crossentropy\", optimizer=Adam(learning_rate=0.0004), metrics=[\"accuracy\"])"
      ],
      "metadata": {
        "id": "7CBsF6XfwdYR"
      },
      "execution_count": 30,
      "outputs": []
    },
    {
      "cell_type": "code",
      "source": [
        "checkpoint = ModelCheckpoint(\"LSTm_selfattention2.keras\", save_best_only=True, monitor=\"val_loss\", verbose=1)\n",
        "early_stopping = EarlyStopping(monitor=\"val_loss\", patience=5, restore_best_weights=True)\n",
        "history = lstm_model5.fit(x_train_embds, y_train, batch_size=256, epochs=20, validation_data=(x_val_embds, y_val), callbacks=[checkpoint, early_stopping])\n",
        "lstm_model5.save(\"LSTm_selfattention2.h5\")"
      ],
      "metadata": {
        "colab": {
          "base_uri": "https://localhost:8080/"
        },
        "id": "fmY9XViOZoGZ",
        "outputId": "23cb7331-bec8-4aa6-9451-7fb3020b6937"
      },
      "execution_count": 31,
      "outputs": [
        {
          "output_type": "stream",
          "name": "stdout",
          "text": [
            "Epoch 1/20\n",
            "\u001b[1m360/360\u001b[0m \u001b[32m━━━━━━━━━━━━━━━━━━━━\u001b[0m\u001b[37m\u001b[0m \u001b[1m0s\u001b[0m 114ms/step - accuracy: 0.2532 - loss: 2.3680\n",
            "Epoch 1: val_loss improved from inf to 1.92426, saving model to LSTm_selfattention2.keras\n",
            "\u001b[1m360/360\u001b[0m \u001b[32m━━━━━━━━━━━━━━━━━━━━\u001b[0m\u001b[37m\u001b[0m \u001b[1m52s\u001b[0m 122ms/step - accuracy: 0.2533 - loss: 2.3675 - val_accuracy: 0.3777 - val_loss: 1.9243\n",
            "Epoch 2/20\n",
            "\u001b[1m360/360\u001b[0m \u001b[32m━━━━━━━━━━━━━━━━━━━━\u001b[0m\u001b[37m\u001b[0m \u001b[1m0s\u001b[0m 106ms/step - accuracy: 0.3811 - loss: 1.9275\n",
            "Epoch 2: val_loss improved from 1.92426 to 1.81333, saving model to LSTm_selfattention2.keras\n",
            "\u001b[1m360/360\u001b[0m \u001b[32m━━━━━━━━━━━━━━━━━━━━\u001b[0m\u001b[37m\u001b[0m \u001b[1m74s\u001b[0m 112ms/step - accuracy: 0.3811 - loss: 1.9275 - val_accuracy: 0.4182 - val_loss: 1.8133\n",
            "Epoch 3/20\n",
            "\u001b[1m360/360\u001b[0m \u001b[32m━━━━━━━━━━━━━━━━━━━━\u001b[0m\u001b[37m\u001b[0m \u001b[1m0s\u001b[0m 103ms/step - accuracy: 0.4159 - loss: 1.8236\n",
            "Epoch 3: val_loss improved from 1.81333 to 1.74699, saving model to LSTm_selfattention2.keras\n",
            "\u001b[1m360/360\u001b[0m \u001b[32m━━━━━━━━━━━━━━━━━━━━\u001b[0m\u001b[37m\u001b[0m \u001b[1m39s\u001b[0m 107ms/step - accuracy: 0.4159 - loss: 1.8235 - val_accuracy: 0.4357 - val_loss: 1.7470\n",
            "Epoch 4/20\n",
            "\u001b[1m360/360\u001b[0m \u001b[32m━━━━━━━━━━━━━━━━━━━━\u001b[0m\u001b[37m\u001b[0m \u001b[1m0s\u001b[0m 110ms/step - accuracy: 0.4443 - loss: 1.7418\n",
            "Epoch 4: val_loss improved from 1.74699 to 1.72043, saving model to LSTm_selfattention2.keras\n",
            "\u001b[1m360/360\u001b[0m \u001b[32m━━━━━━━━━━━━━━━━━━━━\u001b[0m\u001b[37m\u001b[0m \u001b[1m44s\u001b[0m 117ms/step - accuracy: 0.4443 - loss: 1.7418 - val_accuracy: 0.4502 - val_loss: 1.7204\n",
            "Epoch 5/20\n",
            "\u001b[1m360/360\u001b[0m \u001b[32m━━━━━━━━━━━━━━━━━━━━\u001b[0m\u001b[37m\u001b[0m \u001b[1m0s\u001b[0m 103ms/step - accuracy: 0.4647 - loss: 1.6801\n",
            "Epoch 5: val_loss improved from 1.72043 to 1.68205, saving model to LSTm_selfattention2.keras\n",
            "\u001b[1m360/360\u001b[0m \u001b[32m━━━━━━━━━━━━━━━━━━━━\u001b[0m\u001b[37m\u001b[0m \u001b[1m40s\u001b[0m 111ms/step - accuracy: 0.4647 - loss: 1.6801 - val_accuracy: 0.4574 - val_loss: 1.6821\n",
            "Epoch 6/20\n",
            "\u001b[1m360/360\u001b[0m \u001b[32m━━━━━━━━━━━━━━━━━━━━\u001b[0m\u001b[37m\u001b[0m \u001b[1m0s\u001b[0m 106ms/step - accuracy: 0.4793 - loss: 1.6338\n",
            "Epoch 6: val_loss improved from 1.68205 to 1.67751, saving model to LSTm_selfattention2.keras\n",
            "\u001b[1m360/360\u001b[0m \u001b[32m━━━━━━━━━━━━━━━━━━━━\u001b[0m\u001b[37m\u001b[0m \u001b[1m40s\u001b[0m 111ms/step - accuracy: 0.4793 - loss: 1.6337 - val_accuracy: 0.4633 - val_loss: 1.6775\n",
            "Epoch 7/20\n",
            "\u001b[1m360/360\u001b[0m \u001b[32m━━━━━━━━━━━━━━━━━━━━\u001b[0m\u001b[37m\u001b[0m \u001b[1m0s\u001b[0m 109ms/step - accuracy: 0.4956 - loss: 1.5847\n",
            "Epoch 7: val_loss improved from 1.67751 to 1.67040, saving model to LSTm_selfattention2.keras\n",
            "\u001b[1m360/360\u001b[0m \u001b[32m━━━━━━━━━━━━━━━━━━━━\u001b[0m\u001b[37m\u001b[0m \u001b[1m42s\u001b[0m 113ms/step - accuracy: 0.4956 - loss: 1.5847 - val_accuracy: 0.4626 - val_loss: 1.6704\n",
            "Epoch 8/20\n",
            "\u001b[1m360/360\u001b[0m \u001b[32m━━━━━━━━━━━━━━━━━━━━\u001b[0m\u001b[37m\u001b[0m \u001b[1m0s\u001b[0m 108ms/step - accuracy: 0.5121 - loss: 1.5349\n",
            "Epoch 8: val_loss improved from 1.67040 to 1.64462, saving model to LSTm_selfattention2.keras\n",
            "\u001b[1m360/360\u001b[0m \u001b[32m━━━━━━━━━━━━━━━━━━━━\u001b[0m\u001b[37m\u001b[0m \u001b[1m41s\u001b[0m 112ms/step - accuracy: 0.5121 - loss: 1.5349 - val_accuracy: 0.4749 - val_loss: 1.6446\n",
            "Epoch 9/20\n",
            "\u001b[1m360/360\u001b[0m \u001b[32m━━━━━━━━━━━━━━━━━━━━\u001b[0m\u001b[37m\u001b[0m \u001b[1m0s\u001b[0m 113ms/step - accuracy: 0.5288 - loss: 1.4913\n",
            "Epoch 9: val_loss did not improve from 1.64462\n",
            "\u001b[1m360/360\u001b[0m \u001b[32m━━━━━━━━━━━━━━━━━━━━\u001b[0m\u001b[37m\u001b[0m \u001b[1m43s\u001b[0m 117ms/step - accuracy: 0.5288 - loss: 1.4913 - val_accuracy: 0.4770 - val_loss: 1.6450\n",
            "Epoch 10/20\n",
            "\u001b[1m360/360\u001b[0m \u001b[32m━━━━━━━━━━━━━━━━━━━━\u001b[0m\u001b[37m\u001b[0m \u001b[1m0s\u001b[0m 108ms/step - accuracy: 0.5417 - loss: 1.4455\n",
            "Epoch 10: val_loss did not improve from 1.64462\n",
            "\u001b[1m360/360\u001b[0m \u001b[32m━━━━━━━━━━━━━━━━━━━━\u001b[0m\u001b[37m\u001b[0m \u001b[1m81s\u001b[0m 115ms/step - accuracy: 0.5416 - loss: 1.4456 - val_accuracy: 0.4735 - val_loss: 1.6562\n",
            "Epoch 11/20\n",
            "\u001b[1m360/360\u001b[0m \u001b[32m━━━━━━━━━━━━━━━━━━━━\u001b[0m\u001b[37m\u001b[0m \u001b[1m0s\u001b[0m 115ms/step - accuracy: 0.5584 - loss: 1.4057\n",
            "Epoch 11: val_loss did not improve from 1.64462\n",
            "\u001b[1m360/360\u001b[0m \u001b[32m━━━━━━━━━━━━━━━━━━━━\u001b[0m\u001b[37m\u001b[0m \u001b[1m83s\u001b[0m 119ms/step - accuracy: 0.5583 - loss: 1.4057 - val_accuracy: 0.4737 - val_loss: 1.6987\n",
            "Epoch 12/20\n",
            "\u001b[1m360/360\u001b[0m \u001b[32m━━━━━━━━━━━━━━━━━━━━\u001b[0m\u001b[37m\u001b[0m \u001b[1m0s\u001b[0m 106ms/step - accuracy: 0.5692 - loss: 1.3688\n",
            "Epoch 12: val_loss did not improve from 1.64462\n",
            "\u001b[1m360/360\u001b[0m \u001b[32m━━━━━━━━━━━━━━━━━━━━\u001b[0m\u001b[37m\u001b[0m \u001b[1m79s\u001b[0m 110ms/step - accuracy: 0.5692 - loss: 1.3688 - val_accuracy: 0.4785 - val_loss: 1.6709\n",
            "Epoch 13/20\n",
            "\u001b[1m360/360\u001b[0m \u001b[32m━━━━━━━━━━━━━━━━━━━━\u001b[0m\u001b[37m\u001b[0m \u001b[1m0s\u001b[0m 108ms/step - accuracy: 0.5858 - loss: 1.3225\n",
            "Epoch 13: val_loss did not improve from 1.64462\n",
            "\u001b[1m360/360\u001b[0m \u001b[32m━━━━━━━━━━━━━━━━━━━━\u001b[0m\u001b[37m\u001b[0m \u001b[1m42s\u001b[0m 112ms/step - accuracy: 0.5858 - loss: 1.3225 - val_accuracy: 0.4791 - val_loss: 1.7127\n"
          ]
        },
        {
          "output_type": "stream",
          "name": "stderr",
          "text": [
            "WARNING:absl:You are saving your model as an HDF5 file via `model.save()` or `keras.saving.save_model(model)`. This file format is considered legacy. We recommend using instead the native Keras format, e.g. `model.save('my_model.keras')` or `keras.saving.save_model(model, 'my_model.keras')`. \n"
          ]
        }
      ]
    },
    {
      "cell_type": "code",
      "source": [
        "from sklearn.metrics import f1_score\n",
        "y_pred = np.argmax(lstm_model5.predict(x_test), axis=1)\n",
        "f1 = f1_score(y_test, y_pred, average='weighted')  # 'weighted' for multi-class, 'binary' for binary\n",
        "print(\"F1-Score:\", f1)"
      ],
      "metadata": {
        "id": "FMchnDiRZx37",
        "colab": {
          "base_uri": "https://localhost:8080/"
        },
        "outputId": "12073e65-c4ba-4806-faa2-1205413e824b"
      },
      "execution_count": 32,
      "outputs": [
        {
          "output_type": "stream",
          "name": "stdout",
          "text": [
            "\u001b[1m360/360\u001b[0m \u001b[32m━━━━━━━━━━━━━━━━━━━━\u001b[0m\u001b[37m\u001b[0m \u001b[1m13s\u001b[0m 35ms/step\n",
            "F1-Score: 0.4542038019815656\n"
          ]
        }
      ]
    },
    {
      "cell_type": "code",
      "source": [
        "from sklearn.metrics import f1_score\n",
        "y_pred = np.argmax(lstm_model5.predict(x_test), axis=1)\n",
        "f1 = f1_score(y_test, y_pred, average='weighted')  # 'weighted' for multi-class, 'binary' for binary\n",
        "print(\"F1-Score:\", f1)"
      ],
      "metadata": {
        "id": "reEzOO9p5m3J"
      },
      "execution_count": null,
      "outputs": []
    },
    {
      "cell_type": "markdown",
      "source": [
        "LSTM self attention batch size 128"
      ],
      "metadata": {
        "id": "xSuIzwAK5fJQ"
      }
    },
    {
      "cell_type": "code",
      "source": [
        "from keras import layers, Model\n",
        "from tensorflow.keras.layers import Dense, Dropout, Flatten, Embedding, LSTM, BatchNormalization, Attention\n",
        "from tensorflow.keras.optimizers import Adam\n",
        "from tensorflow.keras.callbacks import ModelCheckpoint, EarlyStopping\n",
        "\n",
        "inputs = layers.Input(shape=(64, 100))\n",
        "lstm_layer = LSTM(256, return_sequences=True, recurrent_dropout=0.2)(inputs)\n",
        "lstm_attention = Attention()([lstm_layer, lstm_layer])\n",
        "lstm2_layer = LSTM(128, return_sequences=False)(lstm_attention)\n",
        "model_layers = Dropout(0.4)(lstm2_layer)\n",
        "outputs = Dense(18, activation=\"softmax\")(model_layers)\n",
        "\n",
        "lstm_model5 = Model(inputs=inputs, outputs=outputs)\n",
        "\n",
        "lstm_model5.compile(loss=\"sparse_categorical_crossentropy\", optimizer=Adam(learning_rate=0.0004), metrics=[\"accuracy\"])"
      ],
      "metadata": {
        "id": "1gxkR5Vx5b5u"
      },
      "execution_count": 29,
      "outputs": []
    },
    {
      "cell_type": "code",
      "source": [
        "checkpoint = ModelCheckpoint(\"LSTm_selfattention2.keras\", save_best_only=True, monitor=\"val_loss\", verbose=1)\n",
        "early_stopping = EarlyStopping(monitor=\"val_loss\", patience=5, restore_best_weights=True)\n",
        "history = lstm_model5.fit(x_train_embds, y_train, batch_size=128, epochs=20, validation_data=(x_val_embds, y_val), callbacks=[checkpoint, early_stopping])\n",
        "lstm_model5.save(\"LSTm_selfattention2.h5\")"
      ],
      "metadata": {
        "colab": {
          "base_uri": "https://localhost:8080/"
        },
        "id": "IE8f0cme5eYL",
        "outputId": "1834bf7f-07bc-44cb-8a84-28e7f184604b"
      },
      "execution_count": 30,
      "outputs": [
        {
          "output_type": "stream",
          "name": "stdout",
          "text": [
            "Epoch 1/20\n",
            "\u001b[1m719/719\u001b[0m \u001b[32m━━━━━━━━━━━━━━━━━━━━\u001b[0m\u001b[37m\u001b[0m \u001b[1m0s\u001b[0m 107ms/step - accuracy: 0.2712 - loss: 2.3004\n",
            "Epoch 1: val_loss improved from inf to 1.87455, saving model to LSTm_selfattention2.keras\n",
            "\u001b[1m719/719\u001b[0m \u001b[32m━━━━━━━━━━━━━━━━━━━━\u001b[0m\u001b[37m\u001b[0m \u001b[1m93s\u001b[0m 116ms/step - accuracy: 0.2713 - loss: 2.3001 - val_accuracy: 0.3953 - val_loss: 1.8746\n",
            "Epoch 2/20\n",
            "\u001b[1m719/719\u001b[0m \u001b[32m━━━━━━━━━━━━━━━━━━━━\u001b[0m\u001b[37m\u001b[0m \u001b[1m0s\u001b[0m 109ms/step - accuracy: 0.3980 - loss: 1.8787\n",
            "Epoch 2: val_loss improved from 1.87455 to 1.79625, saving model to LSTm_selfattention2.keras\n",
            "\u001b[1m719/719\u001b[0m \u001b[32m━━━━━━━━━━━━━━━━━━━━\u001b[0m\u001b[37m\u001b[0m \u001b[1m135s\u001b[0m 113ms/step - accuracy: 0.3980 - loss: 1.8787 - val_accuracy: 0.4268 - val_loss: 1.7963\n",
            "Epoch 3/20\n",
            "\u001b[1m719/719\u001b[0m \u001b[32m━━━━━━━━━━━━━━━━━━━━\u001b[0m\u001b[37m\u001b[0m \u001b[1m0s\u001b[0m 108ms/step - accuracy: 0.4356 - loss: 1.7641\n",
            "Epoch 3: val_loss improved from 1.79625 to 1.71089, saving model to LSTm_selfattention2.keras\n",
            "\u001b[1m719/719\u001b[0m \u001b[32m━━━━━━━━━━━━━━━━━━━━\u001b[0m\u001b[37m\u001b[0m \u001b[1m81s\u001b[0m 112ms/step - accuracy: 0.4356 - loss: 1.7641 - val_accuracy: 0.4537 - val_loss: 1.7109\n",
            "Epoch 4/20\n",
            "\u001b[1m719/719\u001b[0m \u001b[32m━━━━━━━━━━━━━━━━━━━━\u001b[0m\u001b[37m\u001b[0m \u001b[1m0s\u001b[0m 112ms/step - accuracy: 0.4612 - loss: 1.6863\n",
            "Epoch 4: val_loss improved from 1.71089 to 1.67160, saving model to LSTm_selfattention2.keras\n",
            "\u001b[1m719/719\u001b[0m \u001b[32m━━━━━━━━━━━━━━━━━━━━\u001b[0m\u001b[37m\u001b[0m \u001b[1m85s\u001b[0m 116ms/step - accuracy: 0.4612 - loss: 1.6863 - val_accuracy: 0.4642 - val_loss: 1.6716\n",
            "Epoch 5/20\n",
            "\u001b[1m719/719\u001b[0m \u001b[32m━━━━━━━━━━━━━━━━━━━━\u001b[0m\u001b[37m\u001b[0m \u001b[1m0s\u001b[0m 112ms/step - accuracy: 0.4826 - loss: 1.6222\n",
            "Epoch 5: val_loss improved from 1.67160 to 1.65912, saving model to LSTm_selfattention2.keras\n",
            "\u001b[1m719/719\u001b[0m \u001b[32m━━━━━━━━━━━━━━━━━━━━\u001b[0m\u001b[37m\u001b[0m \u001b[1m142s\u001b[0m 116ms/step - accuracy: 0.4826 - loss: 1.6222 - val_accuracy: 0.4693 - val_loss: 1.6591\n",
            "Epoch 6/20\n",
            "\u001b[1m719/719\u001b[0m \u001b[32m━━━━━━━━━━━━━━━━━━━━\u001b[0m\u001b[37m\u001b[0m \u001b[1m0s\u001b[0m 111ms/step - accuracy: 0.5053 - loss: 1.5583\n",
            "Epoch 6: val_loss improved from 1.65912 to 1.64634, saving model to LSTm_selfattention2.keras\n",
            "\u001b[1m719/719\u001b[0m \u001b[32m━━━━━━━━━━━━━━━━━━━━\u001b[0m\u001b[37m\u001b[0m \u001b[1m82s\u001b[0m 114ms/step - accuracy: 0.5053 - loss: 1.5583 - val_accuracy: 0.4763 - val_loss: 1.6463\n",
            "Epoch 7/20\n",
            "\u001b[1m719/719\u001b[0m \u001b[32m━━━━━━━━━━━━━━━━━━━━\u001b[0m\u001b[37m\u001b[0m \u001b[1m0s\u001b[0m 107ms/step - accuracy: 0.5243 - loss: 1.5025\n",
            "Epoch 7: val_loss did not improve from 1.64634\n",
            "\u001b[1m719/719\u001b[0m \u001b[32m━━━━━━━━━━━━━━━━━━━━\u001b[0m\u001b[37m\u001b[0m \u001b[1m139s\u001b[0m 111ms/step - accuracy: 0.5243 - loss: 1.5025 - val_accuracy: 0.4716 - val_loss: 1.6466\n",
            "Epoch 8/20\n",
            "\u001b[1m719/719\u001b[0m \u001b[32m━━━━━━━━━━━━━━━━━━━━\u001b[0m\u001b[37m\u001b[0m \u001b[1m0s\u001b[0m 110ms/step - accuracy: 0.5413 - loss: 1.4479\n",
            "Epoch 8: val_loss improved from 1.64634 to 1.64443, saving model to LSTm_selfattention2.keras\n",
            "\u001b[1m719/719\u001b[0m \u001b[32m━━━━━━━━━━━━━━━━━━━━\u001b[0m\u001b[37m\u001b[0m \u001b[1m85s\u001b[0m 114ms/step - accuracy: 0.5413 - loss: 1.4479 - val_accuracy: 0.4803 - val_loss: 1.6444\n",
            "Epoch 9/20\n",
            "\u001b[1m719/719\u001b[0m \u001b[32m━━━━━━━━━━━━━━━━━━━━\u001b[0m\u001b[37m\u001b[0m \u001b[1m0s\u001b[0m 110ms/step - accuracy: 0.5611 - loss: 1.3875\n",
            "Epoch 9: val_loss did not improve from 1.64443\n",
            "\u001b[1m719/719\u001b[0m \u001b[32m━━━━━━━━━━━━━━━━━━━━\u001b[0m\u001b[37m\u001b[0m \u001b[1m142s\u001b[0m 114ms/step - accuracy: 0.5611 - loss: 1.3875 - val_accuracy: 0.4794 - val_loss: 1.6571\n",
            "Epoch 10/20\n",
            "\u001b[1m719/719\u001b[0m \u001b[32m━━━━━━━━━━━━━━━━━━━━\u001b[0m\u001b[37m\u001b[0m \u001b[1m0s\u001b[0m 111ms/step - accuracy: 0.5745 - loss: 1.3502\n",
            "Epoch 10: val_loss did not improve from 1.64443\n",
            "\u001b[1m719/719\u001b[0m \u001b[32m━━━━━━━━━━━━━━━━━━━━\u001b[0m\u001b[37m\u001b[0m \u001b[1m142s\u001b[0m 115ms/step - accuracy: 0.5745 - loss: 1.3502 - val_accuracy: 0.4846 - val_loss: 1.6895\n",
            "Epoch 11/20\n",
            "\u001b[1m719/719\u001b[0m \u001b[32m━━━━━━━━━━━━━━━━━━━━\u001b[0m\u001b[37m\u001b[0m \u001b[1m0s\u001b[0m 106ms/step - accuracy: 0.5919 - loss: 1.3005\n",
            "Epoch 11: val_loss did not improve from 1.64443\n",
            "\u001b[1m719/719\u001b[0m \u001b[32m━━━━━━━━━━━━━━━━━━━━\u001b[0m\u001b[37m\u001b[0m \u001b[1m138s\u001b[0m 110ms/step - accuracy: 0.5919 - loss: 1.3005 - val_accuracy: 0.4743 - val_loss: 1.7152\n",
            "Epoch 12/20\n",
            "\u001b[1m719/719\u001b[0m \u001b[32m━━━━━━━━━━━━━━━━━━━━\u001b[0m\u001b[37m\u001b[0m \u001b[1m0s\u001b[0m 108ms/step - accuracy: 0.6075 - loss: 1.2550\n",
            "Epoch 12: val_loss did not improve from 1.64443\n",
            "\u001b[1m719/719\u001b[0m \u001b[32m━━━━━━━━━━━━━━━━━━━━\u001b[0m\u001b[37m\u001b[0m \u001b[1m84s\u001b[0m 112ms/step - accuracy: 0.6075 - loss: 1.2550 - val_accuracy: 0.4740 - val_loss: 1.7043\n",
            "Epoch 13/20\n",
            "\u001b[1m719/719\u001b[0m \u001b[32m━━━━━━━━━━━━━━━━━━━━\u001b[0m\u001b[37m\u001b[0m \u001b[1m0s\u001b[0m 106ms/step - accuracy: 0.6230 - loss: 1.2043\n",
            "Epoch 13: val_loss did not improve from 1.64443\n",
            "\u001b[1m719/719\u001b[0m \u001b[32m━━━━━━━━━━━━━━━━━━━━\u001b[0m\u001b[37m\u001b[0m \u001b[1m81s\u001b[0m 111ms/step - accuracy: 0.6230 - loss: 1.2043 - val_accuracy: 0.4733 - val_loss: 1.7568\n"
          ]
        },
        {
          "output_type": "stream",
          "name": "stderr",
          "text": [
            "WARNING:absl:You are saving your model as an HDF5 file via `model.save()` or `keras.saving.save_model(model)`. This file format is considered legacy. We recommend using instead the native Keras format, e.g. `model.save('my_model.keras')` or `keras.saving.save_model(model, 'my_model.keras')`. \n"
          ]
        }
      ]
    },
    {
      "cell_type": "code",
      "source": [
        "from sklearn.metrics import f1_score\n",
        "y_pred = np.argmax(lstm_model5.predict(x_test), axis=1)\n",
        "f1 = f1_score(y_test, y_pred, average='weighted')  # 'weighted' for multi-class, 'binary' for binary\n",
        "print(\"F1-Score:\", f1)"
      ],
      "metadata": {
        "colab": {
          "base_uri": "https://localhost:8080/"
        },
        "id": "WXUTrpq15spp",
        "outputId": "6d0ada8d-83d2-457a-b383-e60e92961247"
      },
      "execution_count": 31,
      "outputs": [
        {
          "output_type": "stream",
          "name": "stdout",
          "text": [
            "\u001b[1m360/360\u001b[0m \u001b[32m━━━━━━━━━━━━━━━━━━━━\u001b[0m\u001b[37m\u001b[0m \u001b[1m12s\u001b[0m 33ms/step\n",
            "F1-Score: 0.46637895448194555\n"
          ]
        }
      ]
    },
    {
      "cell_type": "markdown",
      "source": [
        "LSTM self attention 22"
      ],
      "metadata": {
        "id": "g0-TDEAVt34n"
      }
    },
    {
      "cell_type": "code",
      "source": [
        "from keras import layers, Model\n",
        "from tensorflow.keras.layers import Dense, Dropout, Flatten, Embedding, LSTM, BatchNormalization, Attention\n",
        "from tensorflow.keras.optimizers import Adam\n",
        "from tensorflow.keras.callbacks import ModelCheckpoint, EarlyStopping\n",
        "\n",
        "inputs = layers.Input(shape=(64, 100))\n",
        "lstm_layer = LSTM(256, return_sequences=True, recurrent_dropout=0.2)(inputs)\n",
        "lstm_attention = Attention()([lstm_layer, lstm_layer])\n",
        "lstm2_layer = LSTM(128, return_sequences=False, recurrent_dropout=0.2)(lstm_attention)\n",
        "model_layers = Dropout(0.2)(lstm2_layer)\n",
        "outputs = Dense(18, activation=\"softmax\")(model_layers)\n",
        "\n",
        "lstm_model52 = Model(inputs=inputs, outputs=outputs)\n",
        "\n",
        "lstm_model52.compile(loss=\"sparse_categorical_crossentropy\", optimizer=Adam(learning_rate=0.0005), metrics=[\"accuracy\"])"
      ],
      "metadata": {
        "id": "vVbH3d8VrqcE"
      },
      "execution_count": 31,
      "outputs": []
    },
    {
      "cell_type": "code",
      "source": [
        "checkpoint = ModelCheckpoint(\"LSTm_selfattention22.keras\", save_best_only=True, monitor=\"val_loss\", verbose=1)\n",
        "early_stopping = EarlyStopping(monitor=\"val_loss\", patience=5, restore_best_weights=True)\n",
        "history = lstm_model52.fit(x_train_embds, y_train, batch_size=256, epochs=20, validation_data=(x_val_embds, y_val), callbacks=[checkpoint, early_stopping])\n",
        "lstm_model52.save(\"LSTm_selfattention22.h5\")"
      ],
      "metadata": {
        "colab": {
          "base_uri": "https://localhost:8080/"
        },
        "id": "X39typv6rqfg",
        "outputId": "1ed0e361-6025-4228-b3d2-e7b8c142ae1e"
      },
      "execution_count": 32,
      "outputs": [
        {
          "output_type": "stream",
          "name": "stdout",
          "text": [
            "Epoch 1/20\n",
            "\u001b[1m360/360\u001b[0m \u001b[32m━━━━━━━━━━━━━━━━━━━━\u001b[0m\u001b[37m\u001b[0m \u001b[1m0s\u001b[0m 209ms/step - accuracy: 0.2667 - loss: 2.3154\n",
            "Epoch 1: val_loss improved from inf to 1.89138, saving model to LSTm_selfattention22.keras\n",
            "\u001b[1m360/360\u001b[0m \u001b[32m━━━━━━━━━━━━━━━━━━━━\u001b[0m\u001b[37m\u001b[0m \u001b[1m89s\u001b[0m 222ms/step - accuracy: 0.2668 - loss: 2.3149 - val_accuracy: 0.3917 - val_loss: 1.8914\n",
            "Epoch 2/20\n",
            "\u001b[1m360/360\u001b[0m \u001b[32m━━━━━━━━━━━━━━━━━━━━\u001b[0m\u001b[37m\u001b[0m \u001b[1m0s\u001b[0m 216ms/step - accuracy: 0.3934 - loss: 1.8820\n",
            "Epoch 2: val_loss improved from 1.89138 to 1.76783, saving model to LSTm_selfattention22.keras\n",
            "\u001b[1m360/360\u001b[0m \u001b[32m━━━━━━━━━━━━━━━━━━━━\u001b[0m\u001b[37m\u001b[0m \u001b[1m138s\u001b[0m 224ms/step - accuracy: 0.3934 - loss: 1.8819 - val_accuracy: 0.4295 - val_loss: 1.7678\n",
            "Epoch 3/20\n",
            "\u001b[1m360/360\u001b[0m \u001b[32m━━━━━━━━━━━━━━━━━━━━\u001b[0m\u001b[37m\u001b[0m \u001b[1m0s\u001b[0m 207ms/step - accuracy: 0.4343 - loss: 1.7635\n",
            "Epoch 3: val_loss improved from 1.76783 to 1.73066, saving model to LSTm_selfattention22.keras\n",
            "\u001b[1m360/360\u001b[0m \u001b[32m━━━━━━━━━━━━━━━━━━━━\u001b[0m\u001b[37m\u001b[0m \u001b[1m78s\u001b[0m 213ms/step - accuracy: 0.4343 - loss: 1.7635 - val_accuracy: 0.4481 - val_loss: 1.7307\n",
            "Epoch 4/20\n",
            "\u001b[1m360/360\u001b[0m \u001b[32m━━━━━━━━━━━━━━━━━━━━\u001b[0m\u001b[37m\u001b[0m \u001b[1m0s\u001b[0m 213ms/step - accuracy: 0.4578 - loss: 1.6866\n",
            "Epoch 4: val_loss improved from 1.73066 to 1.68753, saving model to LSTm_selfattention22.keras\n",
            "\u001b[1m360/360\u001b[0m \u001b[32m━━━━━━━━━━━━━━━━━━━━\u001b[0m\u001b[37m\u001b[0m \u001b[1m82s\u001b[0m 227ms/step - accuracy: 0.4578 - loss: 1.6866 - val_accuracy: 0.4581 - val_loss: 1.6875\n",
            "Epoch 5/20\n",
            "\u001b[1m360/360\u001b[0m \u001b[32m━━━━━━━━━━━━━━━━━━━━\u001b[0m\u001b[37m\u001b[0m \u001b[1m0s\u001b[0m 207ms/step - accuracy: 0.4788 - loss: 1.6237\n",
            "Epoch 5: val_loss improved from 1.68753 to 1.65988, saving model to LSTm_selfattention22.keras\n",
            "\u001b[1m360/360\u001b[0m \u001b[32m━━━━━━━━━━━━━━━━━━━━\u001b[0m\u001b[37m\u001b[0m \u001b[1m77s\u001b[0m 214ms/step - accuracy: 0.4788 - loss: 1.6237 - val_accuracy: 0.4686 - val_loss: 1.6599\n",
            "Epoch 6/20\n",
            "\u001b[1m360/360\u001b[0m \u001b[32m━━━━━━━━━━━━━━━━━━━━\u001b[0m\u001b[37m\u001b[0m \u001b[1m0s\u001b[0m 215ms/step - accuracy: 0.4983 - loss: 1.5679\n",
            "Epoch 6: val_loss improved from 1.65988 to 1.65002, saving model to LSTm_selfattention22.keras\n",
            "\u001b[1m360/360\u001b[0m \u001b[32m━━━━━━━━━━━━━━━━━━━━\u001b[0m\u001b[37m\u001b[0m \u001b[1m85s\u001b[0m 222ms/step - accuracy: 0.4983 - loss: 1.5679 - val_accuracy: 0.4771 - val_loss: 1.6500\n",
            "Epoch 7/20\n",
            "\u001b[1m360/360\u001b[0m \u001b[32m━━━━━━━━━━━━━━━━━━━━\u001b[0m\u001b[37m\u001b[0m \u001b[1m0s\u001b[0m 206ms/step - accuracy: 0.5131 - loss: 1.5243\n",
            "Epoch 7: val_loss improved from 1.65002 to 1.64271, saving model to LSTm_selfattention22.keras\n",
            "\u001b[1m360/360\u001b[0m \u001b[32m━━━━━━━━━━━━━━━━━━━━\u001b[0m\u001b[37m\u001b[0m \u001b[1m78s\u001b[0m 213ms/step - accuracy: 0.5130 - loss: 1.5242 - val_accuracy: 0.4806 - val_loss: 1.6427\n",
            "Epoch 8/20\n",
            "\u001b[1m360/360\u001b[0m \u001b[32m━━━━━━━━━━━━━━━━━━━━\u001b[0m\u001b[37m\u001b[0m \u001b[1m0s\u001b[0m 207ms/step - accuracy: 0.5320 - loss: 1.4645\n",
            "Epoch 8: val_loss did not improve from 1.64271\n",
            "\u001b[1m360/360\u001b[0m \u001b[32m━━━━━━━━━━━━━━━━━━━━\u001b[0m\u001b[37m\u001b[0m \u001b[1m82s\u001b[0m 213ms/step - accuracy: 0.5320 - loss: 1.4645 - val_accuracy: 0.4783 - val_loss: 1.6591\n",
            "Epoch 9/20\n",
            "\u001b[1m360/360\u001b[0m \u001b[32m━━━━━━━━━━━━━━━━━━━━\u001b[0m\u001b[37m\u001b[0m \u001b[1m0s\u001b[0m 213ms/step - accuracy: 0.5484 - loss: 1.4177\n",
            "Epoch 9: val_loss did not improve from 1.64271\n",
            "\u001b[1m360/360\u001b[0m \u001b[32m━━━━━━━━━━━━━━━━━━━━\u001b[0m\u001b[37m\u001b[0m \u001b[1m84s\u001b[0m 220ms/step - accuracy: 0.5484 - loss: 1.4177 - val_accuracy: 0.4837 - val_loss: 1.6505\n",
            "Epoch 10/20\n",
            "\u001b[1m360/360\u001b[0m \u001b[32m━━━━━━━━━━━━━━━━━━━━\u001b[0m\u001b[37m\u001b[0m \u001b[1m0s\u001b[0m 210ms/step - accuracy: 0.5611 - loss: 1.3763\n",
            "Epoch 10: val_loss did not improve from 1.64271\n",
            "\u001b[1m360/360\u001b[0m \u001b[32m━━━━━━━━━━━━━━━━━━━━\u001b[0m\u001b[37m\u001b[0m \u001b[1m81s\u001b[0m 218ms/step - accuracy: 0.5611 - loss: 1.3763 - val_accuracy: 0.4770 - val_loss: 1.6559\n",
            "Epoch 11/20\n",
            "\u001b[1m360/360\u001b[0m \u001b[32m━━━━━━━━━━━━━━━━━━━━\u001b[0m\u001b[37m\u001b[0m \u001b[1m0s\u001b[0m 213ms/step - accuracy: 0.5776 - loss: 1.3229\n",
            "Epoch 11: val_loss did not improve from 1.64271\n",
            "\u001b[1m360/360\u001b[0m \u001b[32m━━━━━━━━━━━━━━━━━━━━\u001b[0m\u001b[37m\u001b[0m \u001b[1m82s\u001b[0m 219ms/step - accuracy: 0.5776 - loss: 1.3229 - val_accuracy: 0.4777 - val_loss: 1.6661\n",
            "Epoch 12/20\n",
            "\u001b[1m360/360\u001b[0m \u001b[32m━━━━━━━━━━━━━━━━━━━━\u001b[0m\u001b[37m\u001b[0m \u001b[1m0s\u001b[0m 214ms/step - accuracy: 0.5895 - loss: 1.2840\n",
            "Epoch 12: val_loss did not improve from 1.64271\n",
            "\u001b[1m360/360\u001b[0m \u001b[32m━━━━━━━━━━━━━━━━━━━━\u001b[0m\u001b[37m\u001b[0m \u001b[1m79s\u001b[0m 220ms/step - accuracy: 0.5895 - loss: 1.2841 - val_accuracy: 0.4797 - val_loss: 1.6976\n"
          ]
        },
        {
          "output_type": "stream",
          "name": "stderr",
          "text": [
            "WARNING:absl:You are saving your model as an HDF5 file via `model.save()` or `keras.saving.save_model(model)`. This file format is considered legacy. We recommend using instead the native Keras format, e.g. `model.save('my_model.keras')` or `keras.saving.save_model(model, 'my_model.keras')`. \n"
          ]
        }
      ]
    },
    {
      "cell_type": "code",
      "source": [
        "from sklearn.metrics import f1_score\n",
        "y_pred = np.argmax(lstm_model52.predict(x_test), axis=1)\n",
        "f1 = f1_score(y_test, y_pred, average='weighted')  # 'weighted' for multi-class, 'binary' for binary\n",
        "print(\"F1-Score:\", f1)"
      ],
      "metadata": {
        "colab": {
          "base_uri": "https://localhost:8080/"
        },
        "id": "rl1R0s7Ar2zO",
        "outputId": "5e939b75-ecfb-434c-fb8c-66bdcd59d982"
      },
      "execution_count": 33,
      "outputs": [
        {
          "output_type": "stream",
          "name": "stdout",
          "text": [
            "\u001b[1m360/360\u001b[0m \u001b[32m━━━━━━━━━━━━━━━━━━━━\u001b[0m\u001b[37m\u001b[0m \u001b[1m19s\u001b[0m 53ms/step\n",
            "F1-Score: 0.45992909023170764\n"
          ]
        }
      ]
    },
    {
      "cell_type": "markdown",
      "source": [
        "LSTM self attention"
      ],
      "metadata": {
        "id": "oDV3954x3hx3"
      }
    },
    {
      "cell_type": "code",
      "source": [
        "# saved_file_limitization = \"dataset_preprocessed_limitization.csv\"\n",
        "# _ = arabic_preprocess_pipline(original_file, saved_file_limitization, id_col, text_c, dialects_col, labels_encoded=False ,using_lemma=True)"
      ],
      "metadata": {
        "id": "AP5S6rwIzNwA"
      },
      "execution_count": null,
      "outputs": []
    }
  ]
}